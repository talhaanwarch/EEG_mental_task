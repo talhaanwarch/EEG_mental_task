{
  "nbformat": 4,
  "nbformat_minor": 0,
  "metadata": {
    "colab": {
      "name": "Copy of Feature Selection Approach 2",
      "provenance": [],
      "collapsed_sections": [],
      "toc_visible": true
    },
    "kernelspec": {
      "name": "python3",
      "display_name": "Python 3"
    }
  },
  "cells": [
    {
      "cell_type": "markdown",
      "metadata": {
        "id": "nAZkeuKAh84E",
        "colab_type": "text"
      },
      "source": [
        "# Install Packages"
      ]
    },
    {
      "cell_type": "markdown",
      "metadata": {
        "id": "gZTedeQ8kjcX",
        "colab_type": "text"
      },
      "source": [
        "In this approach data is segmented and feature are calculated for each segment. Then these features are averaged.\n",
        "\n",
        "Butterworth is applied before segmentation\n",
        "Classifier are tuned before feature selection.\n",
        "Butterworth ranges from .1 to 30 HZ"
      ]
    },
    {
      "cell_type": "code",
      "metadata": {
        "id": "E2dWHVU6--Do",
        "colab_type": "code",
        "colab": {}
      },
      "source": [
        "import warnings\n",
        "warnings.filterwarnings(\"ignore\", category=DeprecationWarning)"
      ],
      "execution_count": 0,
      "outputs": []
    },
    {
      "cell_type": "code",
      "metadata": {
        "id": "T9bXPLMDCobm",
        "colab_type": "code",
        "outputId": "3a65a30e-674d-400b-efe5-31327a6f0153",
        "colab": {
          "base_uri": "https://localhost:8080/",
          "height": 689
        }
      },
      "source": [
        "!pip install wfdb\n",
        "!pip install mne\n",
        "!pip install nitime"
      ],
      "execution_count": 61,
      "outputs": [
        {
          "output_type": "stream",
          "text": [
            "Requirement already satisfied: wfdb in /usr/local/lib/python3.6/dist-packages (2.2.1)\n",
            "Requirement already satisfied: pandas>=0.19.1 in /usr/local/lib/python3.6/dist-packages (from wfdb) (0.25.3)\n",
            "Requirement already satisfied: nose>=1.3.7 in /usr/local/lib/python3.6/dist-packages (from wfdb) (1.3.7)\n",
            "Requirement already satisfied: requests>=2.10.0 in /usr/local/lib/python3.6/dist-packages (from wfdb) (2.21.0)\n",
            "Requirement already satisfied: scipy>=0.19.0 in /usr/local/lib/python3.6/dist-packages (from wfdb) (1.3.2)\n",
            "Requirement already satisfied: sklearn>=0.0 in /usr/local/lib/python3.6/dist-packages (from wfdb) (0.0)\n",
            "Requirement already satisfied: numpy>=1.11.0 in /usr/local/lib/python3.6/dist-packages (from wfdb) (1.17.4)\n",
            "Requirement already satisfied: matplotlib>=1.5.1 in /usr/local/lib/python3.6/dist-packages (from wfdb) (3.1.1)\n",
            "Requirement already satisfied: pytz>=2017.2 in /usr/local/lib/python3.6/dist-packages (from pandas>=0.19.1->wfdb) (2018.9)\n",
            "Requirement already satisfied: python-dateutil>=2.6.1 in /usr/local/lib/python3.6/dist-packages (from pandas>=0.19.1->wfdb) (2.6.1)\n",
            "Requirement already satisfied: certifi>=2017.4.17 in /usr/local/lib/python3.6/dist-packages (from requests>=2.10.0->wfdb) (2019.9.11)\n",
            "Requirement already satisfied: urllib3<1.25,>=1.21.1 in /usr/local/lib/python3.6/dist-packages (from requests>=2.10.0->wfdb) (1.24.3)\n",
            "Requirement already satisfied: chardet<3.1.0,>=3.0.2 in /usr/local/lib/python3.6/dist-packages (from requests>=2.10.0->wfdb) (3.0.4)\n",
            "Requirement already satisfied: idna<2.9,>=2.5 in /usr/local/lib/python3.6/dist-packages (from requests>=2.10.0->wfdb) (2.8)\n",
            "Requirement already satisfied: scikit-learn in /usr/local/lib/python3.6/dist-packages (from sklearn>=0.0->wfdb) (0.21.3)\n",
            "Requirement already satisfied: kiwisolver>=1.0.1 in /usr/local/lib/python3.6/dist-packages (from matplotlib>=1.5.1->wfdb) (1.1.0)\n",
            "Requirement already satisfied: cycler>=0.10 in /usr/local/lib/python3.6/dist-packages (from matplotlib>=1.5.1->wfdb) (0.10.0)\n",
            "Requirement already satisfied: pyparsing!=2.0.4,!=2.1.2,!=2.1.6,>=2.0.1 in /usr/local/lib/python3.6/dist-packages (from matplotlib>=1.5.1->wfdb) (2.4.5)\n",
            "Requirement already satisfied: six>=1.5 in /usr/local/lib/python3.6/dist-packages (from python-dateutil>=2.6.1->pandas>=0.19.1->wfdb) (1.12.0)\n",
            "Requirement already satisfied: joblib>=0.11 in /usr/local/lib/python3.6/dist-packages (from scikit-learn->sklearn>=0.0->wfdb) (0.14.0)\n",
            "Requirement already satisfied: setuptools in /usr/local/lib/python3.6/dist-packages (from kiwisolver>=1.0.1->matplotlib>=1.5.1->wfdb) (41.6.0)\n",
            "Requirement already satisfied: mne in /usr/local/lib/python3.6/dist-packages (0.19.2)\n",
            "Requirement already satisfied: scipy>=0.17.1 in /usr/local/lib/python3.6/dist-packages (from mne) (1.3.2)\n",
            "Requirement already satisfied: numpy>=1.11.3 in /usr/local/lib/python3.6/dist-packages (from mne) (1.17.4)\n",
            "Requirement already satisfied: nitime in /usr/local/lib/python3.6/dist-packages (0.8.1)\n",
            "Requirement already satisfied: networkx in /usr/local/lib/python3.6/dist-packages (from nitime) (2.4)\n",
            "Requirement already satisfied: numpy in /usr/local/lib/python3.6/dist-packages (from nitime) (1.17.4)\n",
            "Requirement already satisfied: cython in /usr/local/lib/python3.6/dist-packages (from nitime) (0.29.14)\n",
            "Requirement already satisfied: scipy in /usr/local/lib/python3.6/dist-packages (from nitime) (1.3.2)\n",
            "Requirement already satisfied: matplotlib in /usr/local/lib/python3.6/dist-packages (from nitime) (3.1.1)\n",
            "Requirement already satisfied: nibabel in /usr/local/lib/python3.6/dist-packages (from nitime) (2.3.3)\n",
            "Requirement already satisfied: decorator>=4.3.0 in /usr/local/lib/python3.6/dist-packages (from networkx->nitime) (4.4.1)\n",
            "Requirement already satisfied: kiwisolver>=1.0.1 in /usr/local/lib/python3.6/dist-packages (from matplotlib->nitime) (1.1.0)\n",
            "Requirement already satisfied: cycler>=0.10 in /usr/local/lib/python3.6/dist-packages (from matplotlib->nitime) (0.10.0)\n",
            "Requirement already satisfied: python-dateutil>=2.1 in /usr/local/lib/python3.6/dist-packages (from matplotlib->nitime) (2.6.1)\n",
            "Requirement already satisfied: pyparsing!=2.0.4,!=2.1.2,!=2.1.6,>=2.0.1 in /usr/local/lib/python3.6/dist-packages (from matplotlib->nitime) (2.4.5)\n",
            "Requirement already satisfied: six>=1.3 in /usr/local/lib/python3.6/dist-packages (from nibabel->nitime) (1.12.0)\n",
            "Requirement already satisfied: bz2file in /usr/local/lib/python3.6/dist-packages (from nibabel->nitime) (0.98)\n",
            "Requirement already satisfied: setuptools in /usr/local/lib/python3.6/dist-packages (from kiwisolver>=1.0.1->matplotlib->nitime) (41.6.0)\n"
          ],
          "name": "stdout"
        }
      ]
    },
    {
      "cell_type": "code",
      "metadata": {
        "id": "wN2iOjELEkWh",
        "colab_type": "code",
        "outputId": "3a2abf02-bf73-44ce-9a84-0c540e223d37",
        "colab": {
          "base_uri": "https://localhost:8080/",
          "height": 354
        }
      },
      "source": [
        "!pip install git+https://github.com/forrestbao/pyeeg.git\n",
        "!pip install git+https://github.com/raphaelvallat/entropy.git"
      ],
      "execution_count": 62,
      "outputs": [
        {
          "output_type": "stream",
          "text": [
            "Collecting git+https://github.com/forrestbao/pyeeg.git\n",
            "  Cloning https://github.com/forrestbao/pyeeg.git to /tmp/pip-req-build-1nhb0xkf\n",
            "  Running command git clone -q https://github.com/forrestbao/pyeeg.git /tmp/pip-req-build-1nhb0xkf\n",
            "Requirement already satisfied (use --upgrade to upgrade): pyeeg==0.4.4 from git+https://github.com/forrestbao/pyeeg.git in /usr/local/lib/python3.6/dist-packages\n",
            "Requirement already satisfied: numpy>=1.9.2 in /usr/local/lib/python3.6/dist-packages (from pyeeg==0.4.4) (1.17.4)\n",
            "Building wheels for collected packages: pyeeg\n",
            "  Building wheel for pyeeg (setup.py) ... \u001b[?25l\u001b[?25hdone\n",
            "  Created wheel for pyeeg: filename=pyeeg-0.4.4-py2.py3-none-any.whl size=28121 sha256=83772ecb2ac5d36d3bb3a3edd95054c503222b7bac631c9684e8a239c2b12282\n",
            "  Stored in directory: /tmp/pip-ephem-wheel-cache-gi76tu2v/wheels/2d/3f/ad/106d4fc80b61d1ea1fc18e76e7439fd98aa043d83d58eae741\n",
            "Successfully built pyeeg\n",
            "Collecting git+https://github.com/raphaelvallat/entropy.git\n",
            "  Cloning https://github.com/raphaelvallat/entropy.git to /tmp/pip-req-build-01cql0wn\n",
            "  Running command git clone -q https://github.com/raphaelvallat/entropy.git /tmp/pip-req-build-01cql0wn\n",
            "Requirement already satisfied (use --upgrade to upgrade): entropy==0.1.0 from git+https://github.com/raphaelvallat/entropy.git in /usr/local/lib/python3.6/dist-packages\n",
            "Building wheels for collected packages: entropy\n",
            "  Building wheel for entropy (setup.py) ... \u001b[?25l\u001b[?25hdone\n",
            "  Created wheel for entropy: filename=entropy-0.1.0-cp36-none-any.whl size=14098 sha256=b0a2efe2644c95b7493f852747dddefc8d34d988cfd2818d54add7e09b405505\n",
            "  Stored in directory: /tmp/pip-ephem-wheel-cache-8sl5_z09/wheels/60/ed/d3/b715e38438f1f39edb1383aea79c578073953b25fa576fc71e\n",
            "Successfully built entropy\n"
          ],
          "name": "stdout"
        }
      ]
    },
    {
      "cell_type": "markdown",
      "metadata": {
        "id": "M49QbDhkDHIT",
        "colab_type": "text"
      },
      "source": [
        "# Download data"
      ]
    },
    {
      "cell_type": "code",
      "metadata": {
        "id": "OJiEQY2LCZ4f",
        "colab_type": "code",
        "outputId": "770724ba-343f-47db-ed62-20384e65e8b3",
        "colab": {
          "base_uri": "https://localhost:8080/",
          "height": 50
        }
      },
      "source": [
        "import wfdb\n",
        "dbs = wfdb.get_dbs()\n",
        "wfdb.dl_database('eegmat','data')"
      ],
      "execution_count": 63,
      "outputs": [
        {
          "output_type": "stream",
          "text": [
            "Downloading files...\n",
            "Finished downloading files\n"
          ],
          "name": "stdout"
        }
      ]
    },
    {
      "cell_type": "markdown",
      "metadata": {
        "id": "rCn0gh3kDMOI",
        "colab_type": "text"
      },
      "source": [
        "# Read data"
      ]
    },
    {
      "cell_type": "code",
      "metadata": {
        "id": "CfgtZg96ER8W",
        "colab_type": "code",
        "colab": {}
      },
      "source": [
        "import glob\n",
        "import os\n",
        "import mne\n",
        "import re\n",
        "import numpy as np\n"
      ],
      "execution_count": 0,
      "outputs": []
    },
    {
      "cell_type": "code",
      "metadata": {
        "id": "1XFGynC6KWB3",
        "colab_type": "code",
        "colab": {}
      },
      "source": [
        "from scipy import signal\n",
        "\n",
        "nyq = 0.5 * 500\n",
        "l=0.1\n",
        "low = l / nyq\n",
        "high = 30 / nyq\n",
        "b, a = signal.butter(4, [low,high], 'band')"
      ],
      "execution_count": 0,
      "outputs": []
    },
    {
      "cell_type": "code",
      "metadata": {
        "id": "UbzJ_FPvC1D_",
        "colab_type": "code",
        "outputId": "4fdab7e3-f4c7-43d2-81e5-fec008dd054b",
        "colab": {
          "base_uri": "https://localhost:8080/",
          "height": 1000
        }
      },
      "source": [
        "\n",
        "path = r'data/' # use your path\n",
        "all_files = glob.glob(os.path.join(path, \"*.edf\")) \n",
        "\n",
        "i=0\n",
        "j=0\n",
        "subject_1=[]\n",
        "subject_2=[]\n",
        "\n",
        "for filename in (all_files):\n",
        "    if int(re.findall(r'\\d+',filename)[1])==1:\n",
        "        data=mne.io.read_raw_edf(filename,preload=True).get_data()[0:-3,10000:40000]\n",
        "        data=signal.filtfilt(b, a, data)  \n",
        "        subject_1.append(data.T)\n",
        "    else:\n",
        "        data=mne.io.read_raw_edf(filename,preload=True).get_data()[0:-3,0:30000]\n",
        "        data=signal.filtfilt(b, a, data)  \n",
        "        subject_2.append(data.T)        "
      ],
      "execution_count": 66,
      "outputs": [
        {
          "output_type": "stream",
          "text": [
            "Extracting EDF parameters from /content/data/Subject07_2.edf...\n",
            "EDF file detected\n",
            "Setting channel info structure...\n",
            "Creating raw.info structure...\n",
            "Reading 0 ... 30999  =      0.000 ...    61.998 secs...\n",
            "Extracting EDF parameters from /content/data/Subject23_1.edf...\n",
            "EDF file detected\n",
            "Setting channel info structure...\n",
            "Creating raw.info structure...\n",
            "Reading 0 ... 90999  =      0.000 ...   181.998 secs...\n",
            "Extracting EDF parameters from /content/data/Subject06_1.edf...\n",
            "EDF file detected\n",
            "Setting channel info structure...\n",
            "Creating raw.info structure...\n",
            "Reading 0 ... 90999  =      0.000 ...   181.998 secs...\n",
            "Extracting EDF parameters from /content/data/Subject31_1.edf...\n",
            "EDF file detected\n",
            "Setting channel info structure...\n",
            "Creating raw.info structure...\n",
            "Reading 0 ... 39999  =      0.000 ...    79.998 secs...\n",
            "Extracting EDF parameters from /content/data/Subject20_1.edf...\n",
            "EDF file detected\n",
            "Setting channel info structure...\n",
            "Creating raw.info structure...\n",
            "Reading 0 ... 90999  =      0.000 ...   181.998 secs...\n",
            "Extracting EDF parameters from /content/data/Subject17_1.edf...\n",
            "EDF file detected\n",
            "Setting channel info structure...\n",
            "Creating raw.info structure...\n",
            "Reading 0 ... 90999  =      0.000 ...   181.998 secs...\n",
            "Extracting EDF parameters from /content/data/Subject04_2.edf...\n",
            "EDF file detected\n",
            "Setting channel info structure...\n",
            "Creating raw.info structure...\n",
            "Reading 0 ... 30999  =      0.000 ...    61.998 secs...\n",
            "Extracting EDF parameters from /content/data/Subject25_2.edf...\n",
            "EDF file detected\n",
            "Setting channel info structure...\n",
            "Creating raw.info structure...\n",
            "Reading 0 ... 30999  =      0.000 ...    61.998 secs...\n",
            "Extracting EDF parameters from /content/data/Subject12_2.edf...\n",
            "EDF file detected\n",
            "Setting channel info structure...\n",
            "Creating raw.info structure...\n",
            "Reading 0 ... 30999  =      0.000 ...    61.998 secs...\n",
            "Extracting EDF parameters from /content/data/Subject12_1.edf...\n",
            "EDF file detected\n",
            "Setting channel info structure...\n",
            "Creating raw.info structure...\n",
            "Reading 0 ... 90999  =      0.000 ...   181.998 secs...\n",
            "Extracting EDF parameters from /content/data/Subject18_2.edf...\n",
            "EDF file detected\n",
            "Setting channel info structure...\n",
            "Creating raw.info structure...\n",
            "Reading 0 ... 30999  =      0.000 ...    61.998 secs...\n",
            "Extracting EDF parameters from /content/data/Subject03_2.edf...\n",
            "EDF file detected\n",
            "Setting channel info structure...\n",
            "Creating raw.info structure...\n",
            "Reading 0 ... 30999  =      0.000 ...    61.998 secs...\n",
            "Extracting EDF parameters from /content/data/Subject08_2.edf...\n",
            "EDF file detected\n",
            "Setting channel info structure...\n",
            "Creating raw.info structure...\n",
            "Reading 0 ... 30999  =      0.000 ...    61.998 secs...\n",
            "Extracting EDF parameters from /content/data/Subject11_1.edf...\n",
            "EDF file detected\n",
            "Setting channel info structure...\n",
            "Creating raw.info structure...\n",
            "Reading 0 ... 90999  =      0.000 ...   181.998 secs...\n",
            "Extracting EDF parameters from /content/data/Subject11_2.edf...\n",
            "EDF file detected\n",
            "Setting channel info structure...\n",
            "Creating raw.info structure...\n",
            "Reading 0 ... 30999  =      0.000 ...    61.998 secs...\n",
            "Extracting EDF parameters from /content/data/Subject19_1.edf...\n",
            "EDF file detected\n",
            "Setting channel info structure...\n",
            "Creating raw.info structure...\n",
            "Reading 0 ... 90999  =      0.000 ...   181.998 secs...\n",
            "Extracting EDF parameters from /content/data/Subject33_2.edf...\n",
            "EDF file detected\n",
            "Setting channel info structure...\n",
            "Creating raw.info structure...\n",
            "Reading 0 ... 30999  =      0.000 ...    61.998 secs...\n",
            "Extracting EDF parameters from /content/data/Subject26_2.edf...\n",
            "EDF file detected\n",
            "Setting channel info structure...\n",
            "Creating raw.info structure...\n",
            "Reading 0 ... 30999  =      0.000 ...    61.998 secs...\n",
            "Extracting EDF parameters from /content/data/Subject18_1.edf...\n",
            "EDF file detected\n",
            "Setting channel info structure...\n",
            "Creating raw.info structure...\n",
            "Reading 0 ... 90999  =      0.000 ...   181.998 secs...\n",
            "Extracting EDF parameters from /content/data/Subject09_2.edf...\n",
            "EDF file detected\n",
            "Setting channel info structure...\n",
            "Creating raw.info structure...\n",
            "Reading 0 ... 30999  =      0.000 ...    61.998 secs...\n",
            "Extracting EDF parameters from /content/data/Subject01_2.edf...\n",
            "EDF file detected\n",
            "Setting channel info structure...\n",
            "Creating raw.info structure...\n",
            "Reading 0 ... 30999  =      0.000 ...    61.998 secs...\n",
            "Extracting EDF parameters from /content/data/Subject06_2.edf...\n",
            "EDF file detected\n",
            "Setting channel info structure...\n",
            "Creating raw.info structure...\n",
            "Reading 0 ... 30999  =      0.000 ...    61.998 secs...\n",
            "Extracting EDF parameters from /content/data/Subject26_1.edf...\n",
            "EDF file detected\n",
            "Setting channel info structure...\n",
            "Creating raw.info structure...\n",
            "Reading 0 ... 90999  =      0.000 ...   181.998 secs...\n",
            "Extracting EDF parameters from /content/data/Subject30_2.edf...\n",
            "EDF file detected\n",
            "Setting channel info structure...\n",
            "Creating raw.info structure...\n",
            "Reading 0 ... 30999  =      0.000 ...    61.998 secs...\n",
            "Extracting EDF parameters from /content/data/Subject20_2.edf...\n",
            "EDF file detected\n",
            "Setting channel info structure...\n",
            "Creating raw.info structure...\n",
            "Reading 0 ... 30999  =      0.000 ...    61.998 secs...\n",
            "Extracting EDF parameters from /content/data/Subject35_1.edf...\n",
            "EDF file detected\n",
            "Setting channel info structure...\n",
            "Creating raw.info structure...\n",
            "Reading 0 ... 90999  =      0.000 ...   181.998 secs...\n",
            "Extracting EDF parameters from /content/data/Subject34_1.edf...\n",
            "EDF file detected\n",
            "Setting channel info structure...\n",
            "Creating raw.info structure...\n",
            "Reading 0 ... 90999  =      0.000 ...   181.998 secs...\n",
            "Extracting EDF parameters from /content/data/Subject08_1.edf...\n",
            "EDF file detected\n",
            "Setting channel info structure...\n",
            "Creating raw.info structure...\n",
            "Reading 0 ... 90999  =      0.000 ...   181.998 secs...\n",
            "Extracting EDF parameters from /content/data/Subject19_2.edf...\n",
            "EDF file detected\n",
            "Setting channel info structure...\n",
            "Creating raw.info structure...\n",
            "Reading 0 ... 30999  =      0.000 ...    61.998 secs...\n",
            "Extracting EDF parameters from /content/data/Subject00_2.edf...\n",
            "EDF file detected\n",
            "Setting channel info structure...\n",
            "Creating raw.info structure...\n",
            "Reading 0 ... 30999  =      0.000 ...    61.998 secs...\n",
            "Extracting EDF parameters from /content/data/Subject33_1.edf...\n",
            "EDF file detected\n",
            "Setting channel info structure...\n",
            "Creating raw.info structure...\n",
            "Reading 0 ... 90999  =      0.000 ...   181.998 secs...\n",
            "Extracting EDF parameters from /content/data/Subject28_2.edf...\n",
            "EDF file detected\n",
            "Setting channel info structure...\n",
            "Creating raw.info structure...\n",
            "Reading 0 ... 30999  =      0.000 ...    61.998 secs...\n",
            "Extracting EDF parameters from /content/data/Subject05_1.edf...\n",
            "EDF file detected\n",
            "Setting channel info structure...\n",
            "Creating raw.info structure...\n",
            "Reading 0 ... 90999  =      0.000 ...   181.998 secs...\n",
            "Extracting EDF parameters from /content/data/Subject10_2.edf...\n",
            "EDF file detected\n",
            "Setting channel info structure...\n",
            "Creating raw.info structure...\n",
            "Reading 0 ... 30999  =      0.000 ...    61.998 secs...\n",
            "Extracting EDF parameters from /content/data/Subject03_1.edf...\n",
            "EDF file detected\n",
            "Setting channel info structure...\n",
            "Creating raw.info structure...\n",
            "Reading 0 ... 90999  =      0.000 ...   181.998 secs...\n",
            "Extracting EDF parameters from /content/data/Subject21_1.edf...\n",
            "EDF file detected\n",
            "Setting channel info structure...\n",
            "Creating raw.info structure...\n",
            "Reading 0 ... 90999  =      0.000 ...   181.998 secs...\n",
            "Extracting EDF parameters from /content/data/Subject22_1.edf...\n",
            "EDF file detected\n",
            "Setting channel info structure...\n",
            "Creating raw.info structure...\n",
            "Reading 0 ... 90999  =      0.000 ...   181.998 secs...\n",
            "Extracting EDF parameters from /content/data/Subject27_2.edf...\n",
            "EDF file detected\n",
            "Setting channel info structure...\n",
            "Creating raw.info structure...\n",
            "Reading 0 ... 30999  =      0.000 ...    61.998 secs...\n",
            "Extracting EDF parameters from /content/data/Subject21_2.edf...\n",
            "EDF file detected\n",
            "Setting channel info structure...\n",
            "Creating raw.info structure...\n",
            "Reading 0 ... 30999  =      0.000 ...    61.998 secs...\n",
            "Extracting EDF parameters from /content/data/Subject29_1.edf...\n",
            "EDF file detected\n",
            "Setting channel info structure...\n",
            "Creating raw.info structure...\n",
            "Reading 0 ... 90999  =      0.000 ...   181.998 secs...\n",
            "Extracting EDF parameters from /content/data/Subject23_2.edf...\n",
            "EDF file detected\n",
            "Setting channel info structure...\n",
            "Creating raw.info structure...\n",
            "Reading 0 ... 30999  =      0.000 ...    61.998 secs...\n",
            "Extracting EDF parameters from /content/data/Subject22_2.edf...\n",
            "EDF file detected\n",
            "Setting channel info structure...\n",
            "Creating raw.info structure...\n",
            "Reading 0 ... 30999  =      0.000 ...    61.998 secs...\n",
            "Extracting EDF parameters from /content/data/Subject13_1.edf...\n",
            "EDF file detected\n",
            "Setting channel info structure...\n",
            "Creating raw.info structure...\n",
            "Reading 0 ... 90999  =      0.000 ...   181.998 secs...\n",
            "Extracting EDF parameters from /content/data/Subject27_1.edf...\n",
            "EDF file detected\n",
            "Setting channel info structure...\n",
            "Creating raw.info structure...\n",
            "Reading 0 ... 90999  =      0.000 ...   181.998 secs...\n",
            "Extracting EDF parameters from /content/data/Subject02_1.edf...\n",
            "EDF file detected\n",
            "Setting channel info structure...\n",
            "Creating raw.info structure...\n",
            "Reading 0 ... 90999  =      0.000 ...   181.998 secs...\n",
            "Extracting EDF parameters from /content/data/Subject15_2.edf...\n",
            "EDF file detected\n",
            "Setting channel info structure...\n",
            "Creating raw.info structure...\n",
            "Reading 0 ... 30999  =      0.000 ...    61.998 secs...\n",
            "Extracting EDF parameters from /content/data/Subject32_1.edf...\n",
            "EDF file detected\n",
            "Setting channel info structure...\n",
            "Creating raw.info structure...\n",
            "Reading 0 ... 90999  =      0.000 ...   181.998 secs...\n",
            "Extracting EDF parameters from /content/data/Subject00_1.edf...\n",
            "EDF file detected\n",
            "Setting channel info structure...\n",
            "Creating raw.info structure...\n",
            "Reading 0 ... 90999  =      0.000 ...   181.998 secs...\n",
            "Extracting EDF parameters from /content/data/Subject30_1.edf...\n",
            "EDF file detected\n",
            "Setting channel info structure...\n",
            "Creating raw.info structure...\n",
            "Reading 0 ... 90999  =      0.000 ...   181.998 secs...\n",
            "Extracting EDF parameters from /content/data/Subject13_2.edf...\n",
            "EDF file detected\n",
            "Setting channel info structure...\n",
            "Creating raw.info structure...\n",
            "Reading 0 ... 30999  =      0.000 ...    61.998 secs...\n",
            "Extracting EDF parameters from /content/data/Subject24_1.edf...\n",
            "EDF file detected\n",
            "Setting channel info structure...\n",
            "Creating raw.info structure...\n",
            "Reading 0 ... 90999  =      0.000 ...   181.998 secs...\n",
            "Extracting EDF parameters from /content/data/Subject16_2.edf...\n",
            "EDF file detected\n",
            "Setting channel info structure...\n",
            "Creating raw.info structure...\n",
            "Reading 0 ... 30999  =      0.000 ...    61.998 secs...\n",
            "Extracting EDF parameters from /content/data/Subject24_2.edf...\n",
            "EDF file detected\n",
            "Setting channel info structure...\n",
            "Creating raw.info structure...\n",
            "Reading 0 ... 30999  =      0.000 ...    61.998 secs...\n",
            "Extracting EDF parameters from /content/data/Subject25_1.edf...\n",
            "EDF file detected\n",
            "Setting channel info structure...\n",
            "Creating raw.info structure...\n",
            "Reading 0 ... 90999  =      0.000 ...   181.998 secs...\n",
            "Extracting EDF parameters from /content/data/Subject07_1.edf...\n",
            "EDF file detected\n",
            "Setting channel info structure...\n",
            "Creating raw.info structure...\n",
            "Reading 0 ... 90999  =      0.000 ...   181.998 secs...\n",
            "Extracting EDF parameters from /content/data/Subject02_2.edf...\n",
            "EDF file detected\n",
            "Setting channel info structure...\n",
            "Creating raw.info structure...\n",
            "Reading 0 ... 30999  =      0.000 ...    61.998 secs...\n",
            "Extracting EDF parameters from /content/data/Subject05_2.edf...\n",
            "EDF file detected\n",
            "Setting channel info structure...\n",
            "Creating raw.info structure...\n",
            "Reading 0 ... 30999  =      0.000 ...    61.998 secs...\n",
            "Extracting EDF parameters from /content/data/Subject35_2.edf...\n",
            "EDF file detected\n",
            "Setting channel info structure...\n",
            "Creating raw.info structure...\n",
            "Reading 0 ... 30999  =      0.000 ...    61.998 secs...\n",
            "Extracting EDF parameters from /content/data/Subject09_1.edf...\n",
            "EDF file detected\n",
            "Setting channel info structure...\n",
            "Creating raw.info structure...\n",
            "Reading 0 ... 90999  =      0.000 ...   181.998 secs...\n",
            "Extracting EDF parameters from /content/data/Subject16_1.edf...\n",
            "EDF file detected\n",
            "Setting channel info structure...\n",
            "Creating raw.info structure...\n",
            "Reading 0 ... 90999  =      0.000 ...   181.998 secs...\n",
            "Extracting EDF parameters from /content/data/Subject32_2.edf...\n",
            "EDF file detected\n",
            "Setting channel info structure...\n",
            "Creating raw.info structure...\n",
            "Reading 0 ... 30999  =      0.000 ...    61.998 secs...\n",
            "Extracting EDF parameters from /content/data/Subject31_2.edf...\n",
            "EDF file detected\n",
            "Setting channel info structure...\n",
            "Creating raw.info structure...\n",
            "Reading 0 ... 30999  =      0.000 ...    61.998 secs...\n",
            "Extracting EDF parameters from /content/data/Subject15_1.edf...\n",
            "EDF file detected\n",
            "Setting channel info structure...\n",
            "Creating raw.info structure...\n",
            "Reading 0 ... 90999  =      0.000 ...   181.998 secs...\n",
            "Extracting EDF parameters from /content/data/Subject10_1.edf...\n",
            "EDF file detected\n",
            "Setting channel info structure...\n",
            "Creating raw.info structure...\n",
            "Reading 0 ... 93999  =      0.000 ...   187.998 secs...\n",
            "Extracting EDF parameters from /content/data/Subject01_1.edf...\n",
            "EDF file detected\n",
            "Setting channel info structure...\n",
            "Creating raw.info structure...\n",
            "Reading 0 ... 90999  =      0.000 ...   181.998 secs...\n",
            "Extracting EDF parameters from /content/data/Subject28_1.edf...\n",
            "EDF file detected\n",
            "Setting channel info structure...\n",
            "Creating raw.info structure...\n",
            "Reading 0 ... 90999  =      0.000 ...   181.998 secs...\n",
            "Extracting EDF parameters from /content/data/Subject17_2.edf...\n",
            "EDF file detected\n",
            "Setting channel info structure...\n",
            "Creating raw.info structure...\n",
            "Reading 0 ... 30999  =      0.000 ...    61.998 secs...\n",
            "Extracting EDF parameters from /content/data/Subject14_2.edf...\n",
            "EDF file detected\n",
            "Setting channel info structure...\n",
            "Creating raw.info structure...\n",
            "Reading 0 ... 30999  =      0.000 ...    61.998 secs...\n",
            "Extracting EDF parameters from /content/data/Subject34_2.edf...\n",
            "EDF file detected\n",
            "Setting channel info structure...\n",
            "Creating raw.info structure...\n",
            "Reading 0 ... 30999  =      0.000 ...    61.998 secs...\n",
            "Extracting EDF parameters from /content/data/Subject04_1.edf...\n",
            "EDF file detected\n",
            "Setting channel info structure...\n",
            "Creating raw.info structure...\n",
            "Reading 0 ... 84999  =      0.000 ...   169.998 secs...\n",
            "Extracting EDF parameters from /content/data/Subject14_1.edf...\n",
            "EDF file detected\n",
            "Setting channel info structure...\n",
            "Creating raw.info structure...\n",
            "Reading 0 ... 90999  =      0.000 ...   181.998 secs...\n",
            "Extracting EDF parameters from /content/data/Subject29_2.edf...\n",
            "EDF file detected\n",
            "Setting channel info structure...\n",
            "Creating raw.info structure...\n",
            "Reading 0 ... 30999  =      0.000 ...    61.998 secs...\n"
          ],
          "name": "stdout"
        }
      ]
    },
    {
      "cell_type": "markdown",
      "metadata": {
        "id": "FVH5rTmQDPZ4",
        "colab_type": "text"
      },
      "source": [
        "# Feature Extraction"
      ]
    },
    {
      "cell_type": "code",
      "metadata": {
        "id": "6vHod_4gETis",
        "colab_type": "code",
        "colab": {}
      },
      "source": [
        "from scipy import stats\n",
        "import pyeeg\n",
        "from entropy import *\n",
        "import pywt\n",
        "from nitime import algorithms as alg\n",
        "from sklearn import metrics\n",
        "from sklearn.model_selection import train_test_split\n",
        "from sklearn.preprocessing import StandardScaler,MaxAbsScaler\n",
        "from sklearn.preprocessing import StandardScaler,MaxAbsScaler\n",
        "from sklearn.svm import SVC\n",
        "from sklearn.linear_model import LogisticRegression\n",
        "from sklearn.neighbors import KNeighborsClassifier\n",
        "\n",
        "np.warnings.filterwarnings('ignore')"
      ],
      "execution_count": 0,
      "outputs": []
    },
    {
      "cell_type": "code",
      "metadata": {
        "id": "LacFqUQwFbZg",
        "colab_type": "code",
        "colab": {}
      },
      "source": [
        "def mean(data):\n",
        "    return np.mean(data,axis=0)\n",
        "    \n",
        "def std(data):\n",
        "    return np.std(data,axis=0)\n",
        "\n",
        "def ptp(data):\n",
        "    return np.ptp(data,axis=0)\n",
        "\n",
        "def var(data):\n",
        "        return np.var(data,axis=0)\n",
        "\n",
        "def minim(data):\n",
        "      return np.min(data,axis=0)\n",
        "\n",
        "\n",
        "def maxim(data):\n",
        "      return np.max(data,axis=0)\n",
        "\n",
        "\n",
        "def mean_square(data):\n",
        "      return np.mean(data**2,axis=0)\n",
        "\n",
        "def rms(data): #root mean square\n",
        "      return  np.sqrt(np.mean(data**2,axis=0))  \n",
        "\n",
        "def abs_diffs_signal(data):\n",
        "    return np.sum(np.abs(np.diff(data,axis=0)),axis=0)\n",
        "\n",
        "\n",
        "def skewness(data):\n",
        "    return stats.skew(data,axis=0)\n",
        "\n",
        "def kurtosis(data):\n",
        "    return stats.kurtosis(data,axis=0)\n",
        "\n",
        "def zero_crossing(data):\n",
        "    return np.argmax(np.diff(np.sign(data),axis=0),axis=0)\n",
        "\n",
        "def app_epy(data):\n",
        "    result=[]\n",
        "    for i in data.T:\n",
        "        result.append(app_entropy(i, order=2, metric='chebyshev'))\n",
        "    return np.array(result)\n",
        "\n",
        "def perm_epy(data):\n",
        "    result=[]\n",
        "    for i in data.T:\n",
        "        result.append(perm_entropy(i, order=3, normalize=True))\n",
        "    return np.array(result)\n",
        "\n",
        "def svd_epy(data):\n",
        "    result=[]\n",
        "    for i in data.T:\n",
        "        result.append(svd_entropy(i, order=3, delay=1, normalize=True))\n",
        "    return np.array(result)\n",
        "\n",
        "def spectral_epy(data):\n",
        "    result=[]\n",
        "    for i in data.T:\n",
        "        result.append(spectral_entropy(i, 100, method='welch', normalize=True))\n",
        "    return np.array(result)\n",
        "\n",
        "def sample_epy(data):\n",
        "    result=[]\n",
        "    for i in data.T:\n",
        "        result.append(sample_entropy(i, order=2, metric='chebyshev'))\n",
        "    return np.array(result)\n",
        "\n",
        "\n",
        "def katz(data):\n",
        "    result=[]\n",
        "    for i in data.T:\n",
        "        result.append(katz_fd(i))\n",
        "    return np.array(result)\n",
        "\n",
        "def higuchi(data):\n",
        "    result=[]\n",
        "    for i in data.T:\n",
        "        result.append(higuchi_fd(i))\n",
        "    return np.array(result)\n",
        "\n",
        "\n",
        "def petrosian(data):\n",
        "    result=[]\n",
        "    for i in data.T:\n",
        "        result.append(petrosian_fd(i))\n",
        "    return np.array(result)\n",
        "\n",
        "def autogressiveModelParameters(data):\n",
        "    feature = []\n",
        "    for i in data.T:\n",
        "        coeff, sig = alg.AR_est_YW(i, order=5)\n",
        "        feature.append(np.mean(coeff))\n",
        "    return np.array(feature)\n",
        "\n",
        "def teager(x):\n",
        "    for i in range(len(x)-1):\n",
        "        return x[i]**2 - (x[i-1]*x[i+1])\n",
        "\n",
        "\n",
        "        \n",
        "def hjorth_mobility(data):\n",
        "    return np.divide(np.std(np.diff(data,axis=0),axis=0),np.std(data,axis=0))\n",
        "\n",
        "def hjorth_complexity(data):\n",
        "    return np.divide(hjorth_mobility(np.diff(data,axis=0)),  hjorth_mobility(data))      \n",
        "\n",
        "\n",
        "\n"
      ],
      "execution_count": 0,
      "outputs": []
    },
    {
      "cell_type": "code",
      "metadata": {
        "id": "9MeexQ8ETpq-",
        "colab_type": "code",
        "colab": {}
      },
      "source": [
        "\n",
        "def concatenate(data):\n",
        "    return np.concatenate((mean(data),std(data),ptp(data),var(data),minim(data),maxim(data),\n",
        "                          mean_square(data),rms(data),abs_diffs_signal(data),\n",
        "                          skewness(data),kurtosis(data),zero_crossing(data),\n",
        "                          app_epy(data),perm_epy(data),svd_epy(data),spectral_epy(data),sample_epy(data),\n",
        "                          katz(data),higuchi(data),petrosian(data),\n",
        "                          hjorth_mobility(data),hjorth_complexity(data)),axis=0)"
      ],
      "execution_count": 0,
      "outputs": []
    },
    {
      "cell_type": "code",
      "metadata": {
        "id": "3d-KKNdbzwIu",
        "colab_type": "code",
        "colab": {}
      },
      "source": [
        "features1=[]\n",
        "for f in subject_1:\n",
        "    feature=[]\n",
        "    b=f.reshape(-1,3000,18)\n",
        "    for i in b:\n",
        "        feature.append(concatenate(i))\n",
        "    features1.append(np.mean(np.array(feature),axis=0))"
      ],
      "execution_count": 0,
      "outputs": []
    },
    {
      "cell_type": "code",
      "metadata": {
        "id": "1JktvuFY2vtQ",
        "colab_type": "code",
        "colab": {}
      },
      "source": [
        "features2=[]\n",
        "for f in subject_2:\n",
        "    feature=[]\n",
        "    b=f.reshape(-1,3000,18)\n",
        "    for i in b:\n",
        "        feature.append(concatenate(i))\n",
        "    features2.append(np.mean(np.array(feature),axis=0))"
      ],
      "execution_count": 0,
      "outputs": []
    },
    {
      "cell_type": "code",
      "metadata": {
        "id": "TIaQEr_admXE",
        "colab_type": "code",
        "outputId": "dd04e48b-cb6b-402d-be32-8b9c3378b3c1",
        "colab": {
          "base_uri": "https://localhost:8080/",
          "height": 33
        }
      },
      "source": [
        "len(features1),len(features2)"
      ],
      "execution_count": 72,
      "outputs": [
        {
          "output_type": "execute_result",
          "data": {
            "text/plain": [
              "(36, 36)"
            ]
          },
          "metadata": {
            "tags": []
          },
          "execution_count": 72
        }
      ]
    },
    {
      "cell_type": "code",
      "metadata": {
        "id": "-FNFG_XEEfdq",
        "colab_type": "code",
        "colab": {}
      },
      "source": [
        "x1=np.array(features1)        \n",
        "x2=np.array(features2)      \n",
        "\n",
        "X=np.concatenate((x1,x2),axis=0)\n",
        "\n",
        "y=np.concatenate(((np.zeros(x1.shape[0])),(np.ones(x2.shape[0]))))"
      ],
      "execution_count": 0,
      "outputs": []
    },
    {
      "cell_type": "code",
      "metadata": {
        "id": "pooCjG-fdtWS",
        "colab_type": "code",
        "outputId": "0fa13d7b-ea45-4dc2-dc96-a45ede177daf",
        "colab": {
          "base_uri": "https://localhost:8080/",
          "height": 33
        }
      },
      "source": [
        "X.shape,y.shape"
      ],
      "execution_count": 74,
      "outputs": [
        {
          "output_type": "execute_result",
          "data": {
            "text/plain": [
              "((72, 396), (72,))"
            ]
          },
          "metadata": {
            "tags": []
          },
          "execution_count": 74
        }
      ]
    },
    {
      "cell_type": "code",
      "metadata": {
        "id": "Tl78V_67Mxmk",
        "colab_type": "code",
        "colab": {}
      },
      "source": [
        "np.save('data_0.1-30Hz',X)\n",
        "np.save('labels_0.1-30Hz',y)"
      ],
      "execution_count": 0,
      "outputs": []
    },
    {
      "cell_type": "markdown",
      "metadata": {
        "id": "JmkEc92iMyib",
        "colab_type": "text"
      },
      "source": [
        "# Feature Selection"
      ]
    },
    {
      "cell_type": "code",
      "metadata": {
        "id": "3fxrT54XNCKc",
        "colab_type": "code",
        "colab": {}
      },
      "source": [
        "# feature_list=['mean','std','ptp','var','minim','maxim','mean_square','rms','abs_diffs_signal','skewness','kurtosis','zero_crossing',\n",
        "# 'app_epy','perm_epy','svd_epy','spectral_epy','sample_epy','katz','higuchi','petrosian','hjorth_mobility','hjorth_complexity']"
      ],
      "execution_count": 0,
      "outputs": []
    },
    {
      "cell_type": "code",
      "metadata": {
        "id": "vMacRXtlM08F",
        "colab_type": "code",
        "colab": {}
      },
      "source": [
        "# feature_selected=[]\n",
        "# for i in range(100):\n",
        "#   clf=LogisticRegression()\n",
        "#   randomize = np.arange(len(X))\n",
        "#   np.random.shuffle(randomize)\n",
        "#   X = X[randomize]\n",
        "#   y = y[randomize]\n",
        "#   for i,j in zip(range(0,396,18),feature_list):\n",
        "#     X_new=X[:,i:i+18]\n",
        "#     X_train, X_test, y_train, y_test = train_test_split(X_new, y,test_size=0.3, random_state=42,stratify=y)\n",
        "#     sc=StandardScaler()\n",
        "#     X_train=sc.fit_transform(X_train)\n",
        "#     X_test=sc.transform(X_test)\n",
        "    \n",
        "#     clf.fit(X_train,y_train)\n",
        "#     y_pred = clf.predict(X_test)  \n",
        "#     acc=metrics.accuracy_score(y_test, y_pred)\n",
        "#     #print(\"Accuracy of \",j,metrics.accuracy_score(y_test, y_pred))\n",
        "#     if acc>0.70:\n",
        "#       feature_selected.append(j)\n",
        "#  # print('-------------------------------------------------------------------')\n"
      ],
      "execution_count": 0,
      "outputs": []
    },
    {
      "cell_type": "code",
      "metadata": {
        "id": "OVEapORuNhAH",
        "colab_type": "code",
        "colab": {}
      },
      "source": [
        "# count= {x:feature_selected.count(x) for x in feature_selected}\n",
        "# from collections import Counter\n",
        "# c = Counter(count)\n",
        "# print(c.most_common())"
      ],
      "execution_count": 0,
      "outputs": []
    },
    {
      "cell_type": "markdown",
      "metadata": {
        "id": "qH6vWOzfDUGK",
        "colab_type": "text"
      },
      "source": [
        "# Classification"
      ]
    },
    {
      "cell_type": "code",
      "metadata": {
        "id": "694vALtLl8uF",
        "colab_type": "code",
        "colab": {}
      },
      "source": [
        "#%% split data\n",
        "X_train, X_test, y_train, y_test = train_test_split(X, y,test_size=0.2, random_state=42,stratify=y)"
      ],
      "execution_count": 0,
      "outputs": []
    },
    {
      "cell_type": "code",
      "metadata": {
        "id": "cu_9yYoTnxm2",
        "colab_type": "code",
        "colab": {}
      },
      "source": [
        "from sklearn.preprocessing import StandardScaler,MaxAbsScaler\n",
        "sc=StandardScaler()\n",
        "X_train=sc.fit_transform(X_train)\n",
        "X_test=sc.transform(X_test)"
      ],
      "execution_count": 0,
      "outputs": []
    },
    {
      "cell_type": "code",
      "metadata": {
        "id": "yVSRKVsvl9Xm",
        "colab_type": "code",
        "outputId": "1806c743-3941-46fa-86ee-a486651c1a77",
        "colab": {
          "base_uri": "https://localhost:8080/",
          "height": 184
        }
      },
      "source": [
        "from sklearn.svm import SVC\n",
        "clf=SVC(kernel='rbf')\n",
        "clf.fit(X_train,y_train)\n",
        "y_pred = clf.predict(X_test)\n",
        "\n",
        "from sklearn.metrics import classification_report,accuracy_score\n",
        "print(classification_report(y_test,y_pred))\n",
        "print('accuracy is ',accuracy_score(y_test, y_pred))"
      ],
      "execution_count": 78,
      "outputs": [
        {
          "output_type": "stream",
          "text": [
            "              precision    recall  f1-score   support\n",
            "\n",
            "         0.0       0.78      0.88      0.82         8\n",
            "         1.0       0.83      0.71      0.77         7\n",
            "\n",
            "    accuracy                           0.80        15\n",
            "   macro avg       0.81      0.79      0.80        15\n",
            "weighted avg       0.80      0.80      0.80        15\n",
            "\n",
            "accuracy is  0.8\n"
          ],
          "name": "stdout"
        }
      ]
    },
    {
      "cell_type": "code",
      "metadata": {
        "id": "DwQzrUXkqFtv",
        "colab_type": "code",
        "colab": {}
      },
      "source": [
        ""
      ],
      "execution_count": 0,
      "outputs": []
    },
    {
      "cell_type": "markdown",
      "metadata": {
        "id": "xsX6ciQxqNH1",
        "colab_type": "text"
      },
      "source": [
        "# Fine Tuning"
      ]
    },
    {
      "cell_type": "code",
      "metadata": {
        "id": "PyT-jleCqOsl",
        "colab_type": "code",
        "outputId": "5c78b73a-2f0e-4f54-c8f0-479185aa11bd",
        "colab": {
          "base_uri": "https://localhost:8080/",
          "height": 50
        }
      },
      "source": [
        "from sklearn.model_selection import GridSearchCV\n",
        "from sklearn.pipeline import Pipeline\n",
        "\n",
        "clf = SVC(kernel=\"rbf\")\n",
        "Cs = [ 1,2,3,5,7,10,15,30,50,70,100]\n",
        "gammas = [0.001,0.01,0.02,0.03,0.04,0.05,0.1,0.3,0.5,0.8,1]\n",
        "pipe = Pipeline(steps=[('scaler', sc), ('classifier', clf)])\n",
        "estimator = GridSearchCV(pipe,\n",
        "                         dict(classifier__C=Cs,classifier__gamma=gammas),cv=5,n_jobs=-1,iid=False) \n",
        "\n",
        "results = estimator.fit(X,y)\n",
        "print(results.best_score_ )\n",
        "results.best_params_"
      ],
      "execution_count": 79,
      "outputs": [
        {
          "output_type": "stream",
          "text": [
            "0.7535714285714287\n"
          ],
          "name": "stdout"
        },
        {
          "output_type": "execute_result",
          "data": {
            "text/plain": [
              "{'classifier__C': 2, 'classifier__gamma': 0.001}"
            ]
          },
          "metadata": {
            "tags": []
          },
          "execution_count": 79
        }
      ]
    },
    {
      "cell_type": "markdown",
      "metadata": {
        "id": "aVKZnjStsfPl",
        "colab_type": "text"
      },
      "source": [
        "### KNN"
      ]
    },
    {
      "cell_type": "code",
      "metadata": {
        "id": "JqfStMFwqKJe",
        "colab_type": "code",
        "outputId": "dfd30d5d-a3ed-4d6c-afca-502a8e90dd3a",
        "colab": {
          "base_uri": "https://localhost:8080/",
          "height": 84
        }
      },
      "source": [
        "from sklearn.neighbors import KNeighborsClassifier\n",
        "clf = KNeighborsClassifier()\n",
        "\n",
        "n_neighbors  = [ 3,4,5,6,7,8,9]\n",
        "weights  = ['uniform','distance']\n",
        "metric=['minkowski','manhattan','euclidean']\n",
        "pipe = Pipeline(steps=[('scaler', sc), ('classifier', clf)])\n",
        "estimator = GridSearchCV(pipe,\n",
        "                         dict(classifier__n_neighbors=n_neighbors,classifier__weights=weights,classifier__metric=metric),cv=5,n_jobs=-1,iid=False) \n",
        "results = estimator.fit(X,y)\n",
        "print(results.best_score_ )\n",
        "results.best_params_\n"
      ],
      "execution_count": 80,
      "outputs": [
        {
          "output_type": "stream",
          "text": [
            "0.7017857142857143\n"
          ],
          "name": "stdout"
        },
        {
          "output_type": "execute_result",
          "data": {
            "text/plain": [
              "{'classifier__metric': 'minkowski',\n",
              " 'classifier__n_neighbors': 7,\n",
              " 'classifier__weights': 'uniform'}"
            ]
          },
          "metadata": {
            "tags": []
          },
          "execution_count": 80
        }
      ]
    },
    {
      "cell_type": "markdown",
      "metadata": {
        "id": "VUclYayfshOj",
        "colab_type": "text"
      },
      "source": [
        "### nu"
      ]
    },
    {
      "cell_type": "code",
      "metadata": {
        "id": "12hluWdosls7",
        "colab_type": "code",
        "outputId": "6d620943-a666-4bf3-a7eb-1fe84d6c2195",
        "colab": {
          "base_uri": "https://localhost:8080/",
          "height": 50
        }
      },
      "source": [
        "from sklearn.svm import SVC, LinearSVC, NuSVC\n",
        "\n",
        "clf = NuSVC(kernel=\"rbf\")\n",
        "nu = [0.1,0.3,0.5,0.7,1]\n",
        "gammas = [0.001,0.01,0.02,0.03,0.04,0.05,0.1,0.3,0.5,0.8,1]\n",
        "pipe = Pipeline(steps=[('scaler', sc), ('classifier', clf)])\n",
        "estimator = GridSearchCV(pipe,\n",
        "                         dict(classifier__nu=nu,classifier__gamma=gammas),cv=5,n_jobs=-1,iid=False) \n",
        "\n",
        "results = estimator.fit(X,y)\n",
        "print(results.best_score_ )\n",
        "results.best_params_"
      ],
      "execution_count": 81,
      "outputs": [
        {
          "output_type": "stream",
          "text": [
            "0.7267857142857143\n"
          ],
          "name": "stdout"
        },
        {
          "output_type": "execute_result",
          "data": {
            "text/plain": [
              "{'classifier__gamma': 0.001, 'classifier__nu': 0.7}"
            ]
          },
          "metadata": {
            "tags": []
          },
          "execution_count": 81
        }
      ]
    },
    {
      "cell_type": "markdown",
      "metadata": {
        "id": "D-iF3g2vtB8b",
        "colab_type": "text"
      },
      "source": [
        "### lR"
      ]
    },
    {
      "cell_type": "code",
      "metadata": {
        "id": "3egYBtm0tCsC",
        "colab_type": "code",
        "outputId": "58fe7c57-3457-4c22-9d75-37d5a709ff96",
        "colab": {
          "base_uri": "https://localhost:8080/",
          "height": 50
        }
      },
      "source": [
        "from sklearn.linear_model import LogisticRegression\n",
        "clf = LogisticRegression()\n",
        "C = [ 1,2,3,5,7,10,15,30,50,70,100]\n",
        "penalty=[\"l1\",\"l2\"]\n",
        "pipe = Pipeline(steps=[('scaler', sc), ('classifier', clf)])\n",
        "estimator = GridSearchCV(pipe,\n",
        "                         dict(classifier__C=C,classifier__penalty=penalty),cv=5,n_jobs=-1,iid=False) \n",
        "\n",
        "results = estimator.fit(X,y)\n",
        "print(results.best_score_ )\n",
        "results.best_params_"
      ],
      "execution_count": 82,
      "outputs": [
        {
          "output_type": "stream",
          "text": [
            "0.8339285714285714\n"
          ],
          "name": "stdout"
        },
        {
          "output_type": "execute_result",
          "data": {
            "text/plain": [
              "{'classifier__C': 70, 'classifier__penalty': 'l1'}"
            ]
          },
          "metadata": {
            "tags": []
          },
          "execution_count": 82
        }
      ]
    },
    {
      "cell_type": "markdown",
      "metadata": {
        "id": "F43mLml3DaEE",
        "colab_type": "text"
      },
      "source": [
        "# Cross Validation"
      ]
    },
    {
      "cell_type": "code",
      "metadata": {
        "id": "ex6tRirxPGdy",
        "colab_type": "code",
        "colab": {}
      },
      "source": [
        "\n",
        "from sklearn.preprocessing import StandardScaler,MaxAbsScaler\n",
        "\n",
        "scalar=StandardScaler()"
      ],
      "execution_count": 0,
      "outputs": []
    },
    {
      "cell_type": "code",
      "metadata": {
        "id": "aPu2-pvOEE1G",
        "colab_type": "code",
        "colab": {}
      },
      "source": [
        "from sklearn.metrics import accuracy_score, log_loss\n",
        "from sklearn.neighbors import KNeighborsClassifier\n",
        "from sklearn.svm import SVC, LinearSVC, NuSVC\n",
        "from sklearn.tree import DecisionTreeClassifier\n",
        "from sklearn.ensemble import RandomForestClassifier, AdaBoostClassifier, GradientBoostingClassifier\n",
        "from sklearn.naive_bayes import GaussianNB\n",
        "from sklearn.discriminant_analysis import LinearDiscriminantAnalysis\n",
        "from sklearn.discriminant_analysis import QuadraticDiscriminantAnalysis\n",
        "from sklearn.linear_model import LogisticRegression\n",
        "import pandas as pd\n",
        "from sklearn.metrics import f1_score\n",
        "from sklearn.model_selection import cross_val_score"
      ],
      "execution_count": 0,
      "outputs": []
    },
    {
      "cell_type": "code",
      "metadata": {
        "id": "KqMYWYTSD5De",
        "colab_type": "code",
        "colab": {}
      },
      "source": [
        "classifiers = [\n",
        "    KNeighborsClassifier(n_neighbors=7,weights='uniform',metric='minkowski'),\n",
        "    SVC(kernel=\"rbf\",C=1,gamma=0.001),\n",
        "    NuSVC(nu=0.7,gamma=0.001),\n",
        "    DecisionTreeClassifier(),\n",
        "    RandomForestClassifier(),\n",
        "    AdaBoostClassifier(),\n",
        "    GradientBoostingClassifier(),\n",
        "    GaussianNB(),\n",
        "    LinearDiscriminantAnalysis(),\n",
        "    QuadraticDiscriminantAnalysis(),\n",
        "    LogisticRegression(C=70,penalty='l1')]\n"
      ],
      "execution_count": 0,
      "outputs": []
    },
    {
      "cell_type": "code",
      "metadata": {
        "id": "F9uzc0QZPKeC",
        "colab_type": "code",
        "colab": {}
      },
      "source": [
        "pipeline = Pipeline([('transformer', scalar),('estimator', clf)])"
      ],
      "execution_count": 0,
      "outputs": []
    },
    {
      "cell_type": "code",
      "metadata": {
        "id": "KQqS9NjUD3Kc",
        "colab_type": "code",
        "outputId": "b8e6658e-94cf-4338-e1c4-6a365edd02ce",
        "colab": {
          "base_uri": "https://localhost:8080/",
          "height": 753
        }
      },
      "source": [
        "import warnings\n",
        "warnings.simplefilter(action='ignore', category=FutureWarning)\n",
        "\n",
        "accuracy=[]\n",
        "accuracy_std=[]\n",
        "f1_scores=[]\n",
        "f1_scores_std=[]\n",
        "for clfs in classifiers:\n",
        "    pipeline.set_params(estimator = clfs)\n",
        "    name = clfs.__class__.__name__\n",
        "    \n",
        "    print(\"=\"*30)\n",
        "    print(name)       \n",
        "    print('****Results****')\n",
        "    scores = cross_val_score(pipeline, X, y, cv=5)\n",
        "    #f1_score = cross_val_score(clf, X_rfe, y, cv=5,scoring='f1')\n",
        "    print(\"Accuracy: {:.4%}\".format(np.array(scores).mean()))\n",
        "    accuracy.append(np.array(scores).mean())\n",
        "    accuracy_std.append(np.array(scores).std())\n",
        "    #f1_scores.append(np.array(f1_score).mean())\n",
        "    #f1_scores_std.append(np.array(f1_score).std())"
      ],
      "execution_count": 113,
      "outputs": [
        {
          "output_type": "stream",
          "text": [
            "==============================\n",
            "KNeighborsClassifier\n",
            "****Results****\n",
            "Accuracy: 70.1786%\n",
            "==============================\n",
            "SVC\n",
            "****Results****\n",
            "Accuracy: 72.6786%\n",
            "==============================\n",
            "NuSVC\n",
            "****Results****\n",
            "Accuracy: 72.6786%\n",
            "==============================\n",
            "DecisionTreeClassifier\n",
            "****Results****\n",
            "Accuracy: 55.5357%\n",
            "==============================\n",
            "RandomForestClassifier\n",
            "****Results****\n",
            "Accuracy: 64.2857%\n",
            "==============================\n",
            "AdaBoostClassifier\n",
            "****Results****\n",
            "Accuracy: 62.3214%\n",
            "==============================\n",
            "GradientBoostingClassifier\n",
            "****Results****\n",
            "Accuracy: 52.6786%\n",
            "==============================\n",
            "GaussianNB\n",
            "****Results****\n",
            "Accuracy: 68.5714%\n",
            "==============================\n",
            "LinearDiscriminantAnalysis\n",
            "****Results****\n",
            "Accuracy: 67.8571%\n",
            "==============================\n",
            "QuadraticDiscriminantAnalysis\n",
            "****Results****\n",
            "Accuracy: 49.1071%\n",
            "==============================\n",
            "LogisticRegression\n",
            "****Results****\n",
            "Accuracy: 78.2143%\n"
          ],
          "name": "stdout"
        }
      ]
    },
    {
      "cell_type": "code",
      "metadata": {
        "id": "icpqu9V5D1EL",
        "colab_type": "code",
        "outputId": "a34a6ffd-7700-4096-a1f6-91e5fb1d0c3d",
        "colab": {
          "base_uri": "https://localhost:8080/",
          "height": 297
        }
      },
      "source": [
        "import matplotlib.pyplot as plt\n",
        "classifier=['KNN','SVC','nuSCV','DT','RF','Ada','GB','NB','LDA','QDA','LR']\n",
        "y_pos = np.arange(len(classifier))\n",
        "plt.bar(y_pos,np.array(accuracy))\n",
        "plt.xticks(y_pos, classifier)\n",
        "plt.ylabel('Accuracy')\n",
        "plt.title('Classifiers')"
      ],
      "execution_count": 114,
      "outputs": [
        {
          "output_type": "execute_result",
          "data": {
            "text/plain": [
              "Text(0.5, 1.0, 'Classifiers')"
            ]
          },
          "metadata": {
            "tags": []
          },
          "execution_count": 114
        },
        {
          "output_type": "display_data",
          "data": {
            "image/png": "[encoded data removed]",
            "text/plain": [
              "<Figure size 432x288 with 1 Axes>"
            ]
          },
          "metadata": {
            "tags": []
          }
        }
      ]
    },
    {
      "cell_type": "markdown",
      "metadata": {
        "id": "VBDXxRp2O5kO",
        "colab_type": "text"
      },
      "source": [
        "# Principle Component Analysis"
      ]
    },
    {
      "cell_type": "code",
      "metadata": {
        "id": "qGWFC54TO44u",
        "colab_type": "code",
        "outputId": "95e78417-ee67-4cc1-c61a-8543df8c6fd1",
        "colab": {
          "base_uri": "https://localhost:8080/",
          "height": 295
        }
      },
      "source": [
        "from sklearn.decomposition import PCA\n",
        "import matplotlib.pyplot as plt\n",
        "from sklearn.decomposition import KernelPCA\n",
        "from sklearn.model_selection import cross_val_score\n",
        "\n",
        "#Fitting the PCA algorithm with our Data\n",
        "pca = PCA().fit(X_train)\n",
        "#Plotting the Cumulative Summation of the Explained Variance\n",
        "plt.figure()\n",
        "plt.plot(np.cumsum(pca.explained_variance_ratio_))\n",
        "plt.xlabel('Number of Components')\n",
        "plt.ylabel('Variance (%)') #for each component\n",
        "plt.title('EEG')\n",
        "plt.show()"
      ],
      "execution_count": 115,
      "outputs": [
        {
          "output_type": "display_data",
          "data": {
            "image/png": "[encoded data removed]",
            "text/plain": [
              "<Figure size 432x288 with 1 Axes>"
            ]
          },
          "metadata": {
            "tags": []
          }
        }
      ]
    },
    {
      "cell_type": "code",
      "metadata": {
        "id": "SN4VeHRtO__B",
        "colab_type": "code",
        "colab": {}
      },
      "source": [
        "\n"
      ],
      "execution_count": 0,
      "outputs": []
    },
    {
      "cell_type": "code",
      "metadata": {
        "colab_type": "code",
        "id": "2vhCPXYMohbm",
        "colab": {}
      },
      "source": [
        "\n",
        "clf = SVC(kernel='rbf')\n",
        "pca = PCA(n_components=20)\n",
        "\n",
        "pipeline = Pipeline([('transformer', scalar),('selector',pca), ('estimator', clf)])\n"
      ],
      "execution_count": 0,
      "outputs": []
    },
    {
      "cell_type": "code",
      "metadata": {
        "colab_type": "code",
        "outputId": "bb9d112d-4709-436c-c928-3a0826f526bc",
        "id": "mA0HWAG4ohbq",
        "colab": {
          "base_uri": "https://localhost:8080/",
          "height": 753
        }
      },
      "source": [
        "\n",
        "import warnings\n",
        "warnings.simplefilter(action='ignore', category=FutureWarning)\n",
        "\n",
        "accuracy_pca=[]\n",
        "std_pca=[]\n",
        "f1_scores=[]\n",
        "f1_scores_std=[]\n",
        "for clfs in classifiers:\n",
        "    pipeline.set_params(estimator = clfs)\n",
        "    name = clfs.__class__.__name__\n",
        "    \n",
        "    print(\"=\"*30)\n",
        "    print(name)       \n",
        "    print('****Results****')\n",
        "    scores = cross_val_score(pipeline, X, y, cv=5)\n",
        "    #f1_score = cross_val_score(clf, X_rfe, y, cv=5,scoring='f1')\n",
        "    print(\"Accuracy: {:.4%}\".format(np.array(scores).mean()))\n",
        "    accuracy_pca.append(np.array(scores).mean())\n",
        "    std_pca.append(np.array(scores).std())\n",
        "    #f1_scores.append(np.array(f1_score).mean())\n",
        "    #f1_scores_std.append(np.array(f1_score).std())\n"
      ],
      "execution_count": 117,
      "outputs": [
        {
          "output_type": "stream",
          "text": [
            "==============================\n",
            "KNeighborsClassifier\n",
            "****Results****\n",
            "Accuracy: 70.0000%\n",
            "==============================\n",
            "SVC\n",
            "****Results****\n",
            "Accuracy: 72.6786%\n",
            "==============================\n",
            "NuSVC\n",
            "****Results****\n",
            "Accuracy: 72.6786%\n",
            "==============================\n",
            "DecisionTreeClassifier\n",
            "****Results****\n",
            "Accuracy: 66.9643%\n",
            "==============================\n",
            "RandomForestClassifier\n",
            "****Results****\n",
            "Accuracy: 61.0714%\n",
            "==============================\n",
            "AdaBoostClassifier\n",
            "****Results****\n",
            "Accuracy: 68.5714%\n",
            "==============================\n",
            "GradientBoostingClassifier\n",
            "****Results****\n",
            "Accuracy: 65.7143%\n",
            "==============================\n",
            "GaussianNB\n",
            "****Results****\n",
            "Accuracy: 72.6786%\n",
            "==============================\n",
            "LinearDiscriminantAnalysis\n",
            "****Results****\n",
            "Accuracy: 79.1071%\n",
            "==============================\n",
            "QuadraticDiscriminantAnalysis\n",
            "****Results****\n",
            "Accuracy: 60.0000%\n",
            "==============================\n",
            "LogisticRegression\n",
            "****Results****\n",
            "Accuracy: 83.5714%\n"
          ],
          "name": "stdout"
        }
      ]
    },
    {
      "cell_type": "code",
      "metadata": {
        "id": "6fSqeWSCPLuu",
        "colab_type": "code",
        "colab": {
          "base_uri": "https://localhost:8080/",
          "height": 50
        },
        "outputId": "c984209f-b289-42d5-a254-214ebf185131"
      },
      "source": [
        "from sklearn.model_selection import GridSearchCV\n",
        "\n",
        "clf = SVC(kernel=\"rbf\")\n",
        "n_components = [5,10,15,20]\n",
        "Cs = [0.001,0.1, 1,2,3,5,7,10,15,30]\n",
        "gammas = [0.001,0.01,0.02,0.03,0.04,0.05,0.1,0.3,0.5,0.8,1]\n",
        "pipe = Pipeline(steps=[('scalar',sc),('selector', pca), ('classifier', clf)])\n",
        "estimator = GridSearchCV(pipe,\n",
        "                         dict(selector__n_components=n_components,\n",
        "                              classifier__C=Cs,classifier__gamma=gammas),cv=5,n_jobs=-1,iid=False) \n",
        "\n",
        "results = estimator.fit(X,y)\n",
        "print(results.best_score_ )\n",
        "results.best_params_"
      ],
      "execution_count": 118,
      "outputs": [
        {
          "output_type": "stream",
          "text": [
            "0.7821428571428571\n"
          ],
          "name": "stdout"
        },
        {
          "output_type": "execute_result",
          "data": {
            "text/plain": [
              "{'classifier__C': 3, 'classifier__gamma': 0.001, 'selector__n_components': 15}"
            ]
          },
          "metadata": {
            "tags": []
          },
          "execution_count": 118
        }
      ]
    },
    {
      "cell_type": "code",
      "metadata": {
        "id": "TzrSlsC-Zcnv",
        "colab_type": "code",
        "colab": {
          "base_uri": "https://localhost:8080/",
          "height": 84
        },
        "outputId": "c498339c-135c-4495-afcb-a47c29e7eb22"
      },
      "source": [
        "from sklearn.model_selection import GridSearchCV\n",
        "\n",
        "clf = LogisticRegression()\n",
        "C = [ 1,2,3,5,7,10,15,30,50,70,100]\n",
        "penalty=[\"l1\",\"l2\"]\n",
        "pipe = Pipeline(steps=[('scaler', sc),('selector', pca), ('classifier', clf)])\n",
        "estimator = GridSearchCV(pipe,\n",
        "                         dict(selector__n_components=n_components,\n",
        "                             classifier__C=C,classifier__penalty=penalty),cv=5,n_jobs=-1,iid=False) \n",
        "\n",
        "results = estimator.fit(X,y)\n",
        "print(results.best_score_ )\n",
        "results.best_params_"
      ],
      "execution_count": 119,
      "outputs": [
        {
          "output_type": "stream",
          "text": [
            "0.8357142857142857\n"
          ],
          "name": "stdout"
        },
        {
          "output_type": "execute_result",
          "data": {
            "text/plain": [
              "{'classifier__C': 10,\n",
              " 'classifier__penalty': 'l1',\n",
              " 'selector__n_components': 20}"
            ]
          },
          "metadata": {
            "tags": []
          },
          "execution_count": 119
        }
      ]
    },
    {
      "cell_type": "markdown",
      "metadata": {
        "colab_type": "text",
        "id": "gueTfCpdpKfp"
      },
      "source": [
        "# RFE"
      ]
    },
    {
      "cell_type": "code",
      "metadata": {
        "id": "Effk-fW1km3b",
        "colab_type": "code",
        "colab": {}
      },
      "source": [
        "from sklearn.preprocessing import MaxAbsScaler,StandardScaler\n",
        "from sklearn.pipeline import Pipeline\n",
        "from sklearn.feature_selection import RFE\n"
      ],
      "execution_count": 0,
      "outputs": []
    },
    {
      "cell_type": "code",
      "metadata": {
        "id": "RcV8wDCE_5AN",
        "colab_type": "code",
        "colab": {}
      },
      "source": [
        "# from sklearn.model_selection import GridSearchCV\n",
        "\n",
        "# clf = SVC(kernel=\"rbf\")\n",
        "# n_features = [20,30,40,50,70,100]\n",
        "# step=[5,7,9,10]\n",
        "# Cs = [0.001,0.1, 1,2,3,5,7,10,15,30]\n",
        "# gammas = [0.001,0.01,0.02,0.03,0.04,0.05,0.1,0.3,0.5,0.8,1]\n",
        "# pipe = Pipeline(steps=[('rfe', rfe), ('classifier', clf)])\n",
        "# estimator = GridSearchCV(pipe,\n",
        "#                          dict(rfe__step=step,rfe__n_features_to_select=n_features,\n",
        "#                               classifier__C=Cs,classifier__gamma=gammas),cv=5,n_jobs=-1,iid=False) \n",
        "\n",
        "# results = estimator.fit(X,y)\n",
        "# results.best_params_"
      ],
      "execution_count": 0,
      "outputs": []
    },
    {
      "cell_type": "code",
      "metadata": {
        "id": "X3joTTYvkPfz",
        "colab_type": "code",
        "colab": {}
      },
      "source": [
        "\n",
        "clf = SVC(kernel='rbf')\n",
        "rfe=RFE(SVC(kernel='linear'),n_features_to_select=20,step=5,verbose=0)   \n",
        "\n",
        "pipeline = Pipeline([('transformer', scalar),('selector',rfe), ('estimator', clf)])\n"
      ],
      "execution_count": 0,
      "outputs": []
    },
    {
      "cell_type": "code",
      "metadata": {
        "id": "S37vDSnpkpi-",
        "colab_type": "code",
        "outputId": "d7647448-026c-4b82-c58f-fd7f708c684b",
        "colab": {
          "base_uri": "https://localhost:8080/",
          "height": 753
        }
      },
      "source": [
        "\n",
        "import warnings\n",
        "warnings.simplefilter(action='ignore', category=FutureWarning)\n",
        "\n",
        "accuracy_rfe=[]\n",
        "std_rfe=[]\n",
        "f1_scores=[]\n",
        "f1_scores_std=[]\n",
        "for clfs in classifiers:\n",
        "    pipeline.set_params(estimator = clfs)\n",
        "    name = clfs.__class__.__name__\n",
        "    \n",
        "    print(\"=\"*30)\n",
        "    print(name)       \n",
        "    print('****Results****')\n",
        "    scores = cross_val_score(pipeline, X, y, cv=5)\n",
        "    #f1_score = cross_val_score(clf, X_rfe, y, cv=5,scoring='f1')\n",
        "    print(\"Accuracy: {:.4%}\".format(np.array(scores).mean()))\n",
        "    accuracy_rfe.append(np.array(scores).mean())\n",
        "    std_rfe.append(np.array(scores).std())\n",
        "    #f1_scores.append(np.array(f1_score).mean())\n",
        "    #f1_scores_std.append(np.array(f1_score).std())\n"
      ],
      "execution_count": 123,
      "outputs": [
        {
          "output_type": "stream",
          "text": [
            "==============================\n",
            "KNeighborsClassifier\n",
            "****Results****\n",
            "Accuracy: 72.1429%\n",
            "==============================\n",
            "SVC\n",
            "****Results****\n",
            "Accuracy: 69.4643%\n",
            "==============================\n",
            "NuSVC\n",
            "****Results****\n",
            "Accuracy: 68.5714%\n",
            "==============================\n",
            "DecisionTreeClassifier\n",
            "****Results****\n",
            "Accuracy: 55.7143%\n",
            "==============================\n",
            "RandomForestClassifier\n",
            "****Results****\n",
            "Accuracy: 69.4643%\n",
            "==============================\n",
            "AdaBoostClassifier\n",
            "****Results****\n",
            "Accuracy: 62.5000%\n",
            "==============================\n",
            "GradientBoostingClassifier\n",
            "****Results****\n",
            "Accuracy: 61.2500%\n",
            "==============================\n",
            "GaussianNB\n",
            "****Results****\n",
            "Accuracy: 59.6429%\n",
            "==============================\n",
            "LinearDiscriminantAnalysis\n",
            "****Results****\n",
            "Accuracy: 68.3929%\n",
            "==============================\n",
            "QuadraticDiscriminantAnalysis\n",
            "****Results****\n",
            "Accuracy: 61.6071%\n",
            "==============================\n",
            "LogisticRegression\n",
            "****Results****\n",
            "Accuracy: 73.7500%\n"
          ],
          "name": "stdout"
        }
      ]
    },
    {
      "cell_type": "code",
      "metadata": {
        "id": "z0qVbnOi_3To",
        "colab_type": "code",
        "colab": {}
      },
      "source": [
        ""
      ],
      "execution_count": 0,
      "outputs": []
    },
    {
      "cell_type": "markdown",
      "metadata": {
        "id": "v5yNkL4arI5Z",
        "colab_type": "text"
      },
      "source": [
        "# SKbest"
      ]
    },
    {
      "cell_type": "code",
      "metadata": {
        "id": "-5wEC_ForKGR",
        "colab_type": "code",
        "colab": {}
      },
      "source": [
        "from sklearn.feature_selection import SelectKBest\n",
        "from sklearn.feature_selection import f_classif\n"
      ],
      "execution_count": 0,
      "outputs": []
    },
    {
      "cell_type": "code",
      "metadata": {
        "colab_type": "code",
        "id": "r5vNJstWrtCD",
        "colab": {}
      },
      "source": [
        "\n",
        "clf = SVC(kernel='rbf')\n",
        "skbest=SelectKBest(f_classif, k=5)\n",
        "pipeline = Pipeline([('transformer', scalar),('selector',rfe), ('estimator', clf)])\n"
      ],
      "execution_count": 0,
      "outputs": []
    },
    {
      "cell_type": "code",
      "metadata": {
        "colab_type": "code",
        "outputId": "71d1d8a9-a39d-43a9-afda-7bd83bf95a58",
        "id": "4VS9cTTirtCH",
        "colab": {
          "base_uri": "https://localhost:8080/",
          "height": 753
        }
      },
      "source": [
        "\n",
        "import warnings\n",
        "warnings.simplefilter(action='ignore', category=FutureWarning)\n",
        "\n",
        "accuracy_kbest=[]\n",
        "std_kbest=[]\n",
        "f1_scores=[]\n",
        "f1_scores_std=[]\n",
        "for clfs in classifiers:\n",
        "    pipeline.set_params(estimator = clfs)\n",
        "    name = clfs.__class__.__name__\n",
        "    \n",
        "    print(\"=\"*30)\n",
        "    print(name)       \n",
        "    print('****Results****')\n",
        "    scores = cross_val_score(pipeline, X, y, cv=5)\n",
        "    #f1_score = cross_val_score(clf, X_rfe, y, cv=5,scoring='f1')\n",
        "    print(\"Accuracy: {:.4%}\".format(np.array(scores).mean()))\n",
        "    accuracy_kbest.append(np.array(scores).mean())\n",
        "    std_kbest.append(np.array(scores).std())\n",
        "    #f1_scores.append(np.array(f1_score).mean())\n",
        "    #f1_scores_std.append(np.array(f1_score).std())\n"
      ],
      "execution_count": 126,
      "outputs": [
        {
          "output_type": "stream",
          "text": [
            "==============================\n",
            "KNeighborsClassifier\n",
            "****Results****\n",
            "Accuracy: 72.1429%\n",
            "==============================\n",
            "SVC\n",
            "****Results****\n",
            "Accuracy: 69.4643%\n",
            "==============================\n",
            "NuSVC\n",
            "****Results****\n",
            "Accuracy: 68.5714%\n",
            "==============================\n",
            "DecisionTreeClassifier\n",
            "****Results****\n",
            "Accuracy: 63.9286%\n",
            "==============================\n",
            "RandomForestClassifier\n",
            "****Results****\n",
            "Accuracy: 68.2143%\n",
            "==============================\n",
            "AdaBoostClassifier\n",
            "****Results****\n",
            "Accuracy: 62.5000%\n",
            "==============================\n",
            "GradientBoostingClassifier\n",
            "****Results****\n",
            "Accuracy: 61.2500%\n",
            "==============================\n",
            "GaussianNB\n",
            "****Results****\n",
            "Accuracy: 59.6429%\n",
            "==============================\n",
            "LinearDiscriminantAnalysis\n",
            "****Results****\n",
            "Accuracy: 68.3929%\n",
            "==============================\n",
            "QuadraticDiscriminantAnalysis\n",
            "****Results****\n",
            "Accuracy: 61.6071%\n",
            "==============================\n",
            "LogisticRegression\n",
            "****Results****\n",
            "Accuracy: 72.3214%\n"
          ],
          "name": "stdout"
        }
      ]
    },
    {
      "cell_type": "code",
      "metadata": {
        "id": "Wbl3_Cs9rnNh",
        "colab_type": "code",
        "colab": {}
      },
      "source": [
        ""
      ],
      "execution_count": 0,
      "outputs": []
    },
    {
      "cell_type": "markdown",
      "metadata": {
        "id": "N40_Zc8nsiU3",
        "colab_type": "text"
      },
      "source": [
        "# VarianceThreshold"
      ]
    },
    {
      "cell_type": "code",
      "metadata": {
        "colab_type": "code",
        "id": "hqPon3DushYn",
        "colab": {}
      },
      "source": [
        "from sklearn.feature_selection import VarianceThreshold\n",
        "clf = SVC(kernel='rbf')\n",
        "selector = VarianceThreshold(0.1)\n",
        "pipeline = Pipeline([('transformer', scalar),('selector',selector), ('estimator', clf)])\n"
      ],
      "execution_count": 0,
      "outputs": []
    },
    {
      "cell_type": "code",
      "metadata": {
        "colab_type": "code",
        "outputId": "370824bf-04ec-4ff4-cccf-e56aeb4eaa46",
        "id": "zH6sK58CshYp",
        "colab": {
          "base_uri": "https://localhost:8080/",
          "height": 753
        }
      },
      "source": [
        "\n",
        "import warnings\n",
        "warnings.simplefilter(action='ignore', category=FutureWarning)\n",
        "\n",
        "accuracy_var=[]\n",
        "std_var=[]\n",
        "f1_scores=[]\n",
        "f1_scores_std=[]\n",
        "for clfs in classifiers:\n",
        "    pipeline.set_params(estimator = clfs)\n",
        "    name = clfs.__class__.__name__\n",
        "    \n",
        "    print(\"=\"*30)\n",
        "    print(name)       \n",
        "    print('****Results****')\n",
        "    scores = cross_val_score(pipeline, X, y, cv=5)\n",
        "    #f1_score = cross_val_score(clf, X_rfe, y, cv=5,scoring='f1')\n",
        "    print(\"Accuracy: {:.4%}\".format(np.array(scores).mean()))\n",
        "    accuracy_var.append(np.array(scores).mean())\n",
        "    std_var.append(np.array(scores).std())\n",
        "    #f1_scores.append(np.array(f1_score).mean())\n",
        "    #f1_scores_std.append(np.array(f1_score).std())\n"
      ],
      "execution_count": 128,
      "outputs": [
        {
          "output_type": "stream",
          "text": [
            "==============================\n",
            "KNeighborsClassifier\n",
            "****Results****\n",
            "Accuracy: 70.1786%\n",
            "==============================\n",
            "SVC\n",
            "****Results****\n",
            "Accuracy: 72.6786%\n",
            "==============================\n",
            "NuSVC\n",
            "****Results****\n",
            "Accuracy: 72.6786%\n",
            "==============================\n",
            "DecisionTreeClassifier\n",
            "****Results****\n",
            "Accuracy: 55.7143%\n",
            "==============================\n",
            "RandomForestClassifier\n",
            "****Results****\n",
            "Accuracy: 64.2857%\n",
            "==============================\n",
            "AdaBoostClassifier\n",
            "****Results****\n",
            "Accuracy: 62.3214%\n",
            "==============================\n",
            "GradientBoostingClassifier\n",
            "****Results****\n",
            "Accuracy: 52.6786%\n",
            "==============================\n",
            "GaussianNB\n",
            "****Results****\n",
            "Accuracy: 68.5714%\n",
            "==============================\n",
            "LinearDiscriminantAnalysis\n",
            "****Results****\n",
            "Accuracy: 67.8571%\n",
            "==============================\n",
            "QuadraticDiscriminantAnalysis\n",
            "****Results****\n",
            "Accuracy: 49.1071%\n",
            "==============================\n",
            "LogisticRegression\n",
            "****Results****\n",
            "Accuracy: 80.7143%\n"
          ],
          "name": "stdout"
        }
      ]
    },
    {
      "cell_type": "markdown",
      "metadata": {
        "id": "sKgxMU5RPjWd",
        "colab_type": "text"
      },
      "source": [
        "# result"
      ]
    },
    {
      "cell_type": "code",
      "metadata": {
        "id": "X9-EzT5grnQp",
        "colab_type": "code",
        "outputId": "7fe565a2-79e3-499f-9bb2-7c3fb9f335aa",
        "colab": {
          "base_uri": "https://localhost:8080/",
          "height": 33
        }
      },
      "source": [
        "len(accuracy),len(accuracy_pca),len(accuracy_rfe),len(accuracy_kbest),len(accuracy_var)"
      ],
      "execution_count": 129,
      "outputs": [
        {
          "output_type": "execute_result",
          "data": {
            "text/plain": [
              "(11, 11, 11, 11, 11)"
            ]
          },
          "metadata": {
            "tags": []
          },
          "execution_count": 129
        }
      ]
    },
    {
      "cell_type": "code",
      "metadata": {
        "id": "mtlBCPBtZjDm",
        "colab_type": "code",
        "colab": {}
      },
      "source": [
        "result=pd.DataFrame([accuracy,accuracy_pca,accuracy_rfe,accuracy_kbest,accuracy_var],\n",
        "                    index=['Accuracy','PCA',\"RFE\",'kbest','VAR'],\n",
        "                    columns=['KNN','SVC','nuSCV','DT','RF','Ada','GB','NB','LDA','QDA','LR'])"
      ],
      "execution_count": 0,
      "outputs": []
    },
    {
      "cell_type": "code",
      "metadata": {
        "id": "oDxtmxamaD9y",
        "colab_type": "code",
        "colab": {}
      },
      "source": [
        "result=result.T"
      ],
      "execution_count": 0,
      "outputs": []
    },
    {
      "cell_type": "code",
      "metadata": {
        "id": "0-IOzjP1bGBu",
        "colab_type": "code",
        "outputId": "04234b12-f7a9-4c57-f580-fdb73f94ac8f",
        "colab": {
          "base_uri": "https://localhost:8080/",
          "height": 254
        }
      },
      "source": [
        "def _color_red_or_green(val):\n",
        "    color = 'red' if val < 0.7 else 'green'\n",
        "    return 'color: %s' % color\n",
        "result.style.applymap(_color_red_or_green)    "
      ],
      "execution_count": 132,
      "outputs": [
        {
          "output_type": "execute_result",
          "data": {
            "text/html": [
              "<style  type=\"text/css\" >\n",
              "    #T_2a637498_0abf_11ea_b907_0242ac1c0002row0_col0 {\n",
              "            color:  green;\n",
              "        }    #T_2a637498_0abf_11ea_b907_0242ac1c0002row0_col1 {\n",
              "            color:  green;\n",
              "        }    #T_2a637498_0abf_11ea_b907_0242ac1c0002row0_col2 {\n",
              "            color:  green;\n",
              "        }    #T_2a637498_0abf_11ea_b907_0242ac1c0002row0_col3 {\n",
              "            color:  green;\n",
              "        }    #T_2a637498_0abf_11ea_b907_0242ac1c0002row0_col4 {\n",
              "            color:  green;\n",
              "        }    #T_2a637498_0abf_11ea_b907_0242ac1c0002row1_col0 {\n",
              "            color:  green;\n",
              "        }    #T_2a637498_0abf_11ea_b907_0242ac1c0002row1_col1 {\n",
              "            color:  green;\n",
              "        }    #T_2a637498_0abf_11ea_b907_0242ac1c0002row1_col2 {\n",
              "            color:  red;\n",
              "        }    #T_2a637498_0abf_11ea_b907_0242ac1c0002row1_col3 {\n",
              "            color:  red;\n",
              "        }    #T_2a637498_0abf_11ea_b907_0242ac1c0002row1_col4 {\n",
              "            color:  green;\n",
              "        }    #T_2a637498_0abf_11ea_b907_0242ac1c0002row2_col0 {\n",
              "            color:  green;\n",
              "        }    #T_2a637498_0abf_11ea_b907_0242ac1c0002row2_col1 {\n",
              "            color:  green;\n",
              "        }    #T_2a637498_0abf_11ea_b907_0242ac1c0002row2_col2 {\n",
              "            color:  red;\n",
              "        }    #T_2a637498_0abf_11ea_b907_0242ac1c0002row2_col3 {\n",
              "            color:  red;\n",
              "        }    #T_2a637498_0abf_11ea_b907_0242ac1c0002row2_col4 {\n",
              "            color:  green;\n",
              "        }    #T_2a637498_0abf_11ea_b907_0242ac1c0002row3_col0 {\n",
              "            color:  red;\n",
              "        }    #T_2a637498_0abf_11ea_b907_0242ac1c0002row3_col1 {\n",
              "            color:  red;\n",
              "        }    #T_2a637498_0abf_11ea_b907_0242ac1c0002row3_col2 {\n",
              "            color:  red;\n",
              "        }    #T_2a637498_0abf_11ea_b907_0242ac1c0002row3_col3 {\n",
              "            color:  red;\n",
              "        }    #T_2a637498_0abf_11ea_b907_0242ac1c0002row3_col4 {\n",
              "            color:  red;\n",
              "        }    #T_2a637498_0abf_11ea_b907_0242ac1c0002row4_col0 {\n",
              "            color:  red;\n",
              "        }    #T_2a637498_0abf_11ea_b907_0242ac1c0002row4_col1 {\n",
              "            color:  red;\n",
              "        }    #T_2a637498_0abf_11ea_b907_0242ac1c0002row4_col2 {\n",
              "            color:  red;\n",
              "        }    #T_2a637498_0abf_11ea_b907_0242ac1c0002row4_col3 {\n",
              "            color:  red;\n",
              "        }    #T_2a637498_0abf_11ea_b907_0242ac1c0002row4_col4 {\n",
              "            color:  red;\n",
              "        }    #T_2a637498_0abf_11ea_b907_0242ac1c0002row5_col0 {\n",
              "            color:  red;\n",
              "        }    #T_2a637498_0abf_11ea_b907_0242ac1c0002row5_col1 {\n",
              "            color:  red;\n",
              "        }    #T_2a637498_0abf_11ea_b907_0242ac1c0002row5_col2 {\n",
              "            color:  red;\n",
              "        }    #T_2a637498_0abf_11ea_b907_0242ac1c0002row5_col3 {\n",
              "            color:  red;\n",
              "        }    #T_2a637498_0abf_11ea_b907_0242ac1c0002row5_col4 {\n",
              "            color:  red;\n",
              "        }    #T_2a637498_0abf_11ea_b907_0242ac1c0002row6_col0 {\n",
              "            color:  red;\n",
              "        }    #T_2a637498_0abf_11ea_b907_0242ac1c0002row6_col1 {\n",
              "            color:  red;\n",
              "        }    #T_2a637498_0abf_11ea_b907_0242ac1c0002row6_col2 {\n",
              "            color:  red;\n",
              "        }    #T_2a637498_0abf_11ea_b907_0242ac1c0002row6_col3 {\n",
              "            color:  red;\n",
              "        }    #T_2a637498_0abf_11ea_b907_0242ac1c0002row6_col4 {\n",
              "            color:  red;\n",
              "        }    #T_2a637498_0abf_11ea_b907_0242ac1c0002row7_col0 {\n",
              "            color:  red;\n",
              "        }    #T_2a637498_0abf_11ea_b907_0242ac1c0002row7_col1 {\n",
              "            color:  green;\n",
              "        }    #T_2a637498_0abf_11ea_b907_0242ac1c0002row7_col2 {\n",
              "            color:  red;\n",
              "        }    #T_2a637498_0abf_11ea_b907_0242ac1c0002row7_col3 {\n",
              "            color:  red;\n",
              "        }    #T_2a637498_0abf_11ea_b907_0242ac1c0002row7_col4 {\n",
              "            color:  red;\n",
              "        }    #T_2a637498_0abf_11ea_b907_0242ac1c0002row8_col0 {\n",
              "            color:  red;\n",
              "        }    #T_2a637498_0abf_11ea_b907_0242ac1c0002row8_col1 {\n",
              "            color:  green;\n",
              "        }    #T_2a637498_0abf_11ea_b907_0242ac1c0002row8_col2 {\n",
              "            color:  red;\n",
              "        }    #T_2a637498_0abf_11ea_b907_0242ac1c0002row8_col3 {\n",
              "            color:  red;\n",
              "        }    #T_2a637498_0abf_11ea_b907_0242ac1c0002row8_col4 {\n",
              "            color:  red;\n",
              "        }    #T_2a637498_0abf_11ea_b907_0242ac1c0002row9_col0 {\n",
              "            color:  red;\n",
              "        }    #T_2a637498_0abf_11ea_b907_0242ac1c0002row9_col1 {\n",
              "            color:  red;\n",
              "        }    #T_2a637498_0abf_11ea_b907_0242ac1c0002row9_col2 {\n",
              "            color:  red;\n",
              "        }    #T_2a637498_0abf_11ea_b907_0242ac1c0002row9_col3 {\n",
              "            color:  red;\n",
              "        }    #T_2a637498_0abf_11ea_b907_0242ac1c0002row9_col4 {\n",
              "            color:  red;\n",
              "        }    #T_2a637498_0abf_11ea_b907_0242ac1c0002row10_col0 {\n",
              "            color:  green;\n",
              "        }    #T_2a637498_0abf_11ea_b907_0242ac1c0002row10_col1 {\n",
              "            color:  green;\n",
              "        }    #T_2a637498_0abf_11ea_b907_0242ac1c0002row10_col2 {\n",
              "            color:  green;\n",
              "        }    #T_2a637498_0abf_11ea_b907_0242ac1c0002row10_col3 {\n",
              "            color:  green;\n",
              "        }    #T_2a637498_0abf_11ea_b907_0242ac1c0002row10_col4 {\n",
              "            color:  green;\n",
              "        }</style><table id=\"T_2a637498_0abf_11ea_b907_0242ac1c0002\" ><thead>    <tr>        <th class=\"blank level0\" ></th>        <th class=\"col_heading level0 col0\" >Accuracy</th>        <th class=\"col_heading level0 col1\" >PCA</th>        <th class=\"col_heading level0 col2\" >RFE</th>        <th class=\"col_heading level0 col3\" >kbest</th>        <th class=\"col_heading level0 col4\" >VAR</th>    </tr></thead><tbody>\n",
              "                <tr>\n",
              "                        <th id=\"T_2a637498_0abf_11ea_b907_0242ac1c0002level0_row0\" class=\"row_heading level0 row0\" >KNN</th>\n",
              "                        <td id=\"T_2a637498_0abf_11ea_b907_0242ac1c0002row0_col0\" class=\"data row0 col0\" >0.701786</td>\n",
              "                        <td id=\"T_2a637498_0abf_11ea_b907_0242ac1c0002row0_col1\" class=\"data row0 col1\" >0.7</td>\n",
              "                        <td id=\"T_2a637498_0abf_11ea_b907_0242ac1c0002row0_col2\" class=\"data row0 col2\" >0.721429</td>\n",
              "                        <td id=\"T_2a637498_0abf_11ea_b907_0242ac1c0002row0_col3\" class=\"data row0 col3\" >0.721429</td>\n",
              "                        <td id=\"T_2a637498_0abf_11ea_b907_0242ac1c0002row0_col4\" class=\"data row0 col4\" >0.701786</td>\n",
              "            </tr>\n",
              "            <tr>\n",
              "                        <th id=\"T_2a637498_0abf_11ea_b907_0242ac1c0002level0_row1\" class=\"row_heading level0 row1\" >SVC</th>\n",
              "                        <td id=\"T_2a637498_0abf_11ea_b907_0242ac1c0002row1_col0\" class=\"data row1 col0\" >0.726786</td>\n",
              "                        <td id=\"T_2a637498_0abf_11ea_b907_0242ac1c0002row1_col1\" class=\"data row1 col1\" >0.726786</td>\n",
              "                        <td id=\"T_2a637498_0abf_11ea_b907_0242ac1c0002row1_col2\" class=\"data row1 col2\" >0.694643</td>\n",
              "                        <td id=\"T_2a637498_0abf_11ea_b907_0242ac1c0002row1_col3\" class=\"data row1 col3\" >0.694643</td>\n",
              "                        <td id=\"T_2a637498_0abf_11ea_b907_0242ac1c0002row1_col4\" class=\"data row1 col4\" >0.726786</td>\n",
              "            </tr>\n",
              "            <tr>\n",
              "                        <th id=\"T_2a637498_0abf_11ea_b907_0242ac1c0002level0_row2\" class=\"row_heading level0 row2\" >nuSCV</th>\n",
              "                        <td id=\"T_2a637498_0abf_11ea_b907_0242ac1c0002row2_col0\" class=\"data row2 col0\" >0.726786</td>\n",
              "                        <td id=\"T_2a637498_0abf_11ea_b907_0242ac1c0002row2_col1\" class=\"data row2 col1\" >0.726786</td>\n",
              "                        <td id=\"T_2a637498_0abf_11ea_b907_0242ac1c0002row2_col2\" class=\"data row2 col2\" >0.685714</td>\n",
              "                        <td id=\"T_2a637498_0abf_11ea_b907_0242ac1c0002row2_col3\" class=\"data row2 col3\" >0.685714</td>\n",
              "                        <td id=\"T_2a637498_0abf_11ea_b907_0242ac1c0002row2_col4\" class=\"data row2 col4\" >0.726786</td>\n",
              "            </tr>\n",
              "            <tr>\n",
              "                        <th id=\"T_2a637498_0abf_11ea_b907_0242ac1c0002level0_row3\" class=\"row_heading level0 row3\" >DT</th>\n",
              "                        <td id=\"T_2a637498_0abf_11ea_b907_0242ac1c0002row3_col0\" class=\"data row3 col0\" >0.555357</td>\n",
              "                        <td id=\"T_2a637498_0abf_11ea_b907_0242ac1c0002row3_col1\" class=\"data row3 col1\" >0.669643</td>\n",
              "                        <td id=\"T_2a637498_0abf_11ea_b907_0242ac1c0002row3_col2\" class=\"data row3 col2\" >0.557143</td>\n",
              "                        <td id=\"T_2a637498_0abf_11ea_b907_0242ac1c0002row3_col3\" class=\"data row3 col3\" >0.639286</td>\n",
              "                        <td id=\"T_2a637498_0abf_11ea_b907_0242ac1c0002row3_col4\" class=\"data row3 col4\" >0.557143</td>\n",
              "            </tr>\n",
              "            <tr>\n",
              "                        <th id=\"T_2a637498_0abf_11ea_b907_0242ac1c0002level0_row4\" class=\"row_heading level0 row4\" >RF</th>\n",
              "                        <td id=\"T_2a637498_0abf_11ea_b907_0242ac1c0002row4_col0\" class=\"data row4 col0\" >0.642857</td>\n",
              "                        <td id=\"T_2a637498_0abf_11ea_b907_0242ac1c0002row4_col1\" class=\"data row4 col1\" >0.610714</td>\n",
              "                        <td id=\"T_2a637498_0abf_11ea_b907_0242ac1c0002row4_col2\" class=\"data row4 col2\" >0.694643</td>\n",
              "                        <td id=\"T_2a637498_0abf_11ea_b907_0242ac1c0002row4_col3\" class=\"data row4 col3\" >0.682143</td>\n",
              "                        <td id=\"T_2a637498_0abf_11ea_b907_0242ac1c0002row4_col4\" class=\"data row4 col4\" >0.642857</td>\n",
              "            </tr>\n",
              "            <tr>\n",
              "                        <th id=\"T_2a637498_0abf_11ea_b907_0242ac1c0002level0_row5\" class=\"row_heading level0 row5\" >Ada</th>\n",
              "                        <td id=\"T_2a637498_0abf_11ea_b907_0242ac1c0002row5_col0\" class=\"data row5 col0\" >0.623214</td>\n",
              "                        <td id=\"T_2a637498_0abf_11ea_b907_0242ac1c0002row5_col1\" class=\"data row5 col1\" >0.685714</td>\n",
              "                        <td id=\"T_2a637498_0abf_11ea_b907_0242ac1c0002row5_col2\" class=\"data row5 col2\" >0.625</td>\n",
              "                        <td id=\"T_2a637498_0abf_11ea_b907_0242ac1c0002row5_col3\" class=\"data row5 col3\" >0.625</td>\n",
              "                        <td id=\"T_2a637498_0abf_11ea_b907_0242ac1c0002row5_col4\" class=\"data row5 col4\" >0.623214</td>\n",
              "            </tr>\n",
              "            <tr>\n",
              "                        <th id=\"T_2a637498_0abf_11ea_b907_0242ac1c0002level0_row6\" class=\"row_heading level0 row6\" >GB</th>\n",
              "                        <td id=\"T_2a637498_0abf_11ea_b907_0242ac1c0002row6_col0\" class=\"data row6 col0\" >0.526786</td>\n",
              "                        <td id=\"T_2a637498_0abf_11ea_b907_0242ac1c0002row6_col1\" class=\"data row6 col1\" >0.657143</td>\n",
              "                        <td id=\"T_2a637498_0abf_11ea_b907_0242ac1c0002row6_col2\" class=\"data row6 col2\" >0.6125</td>\n",
              "                        <td id=\"T_2a637498_0abf_11ea_b907_0242ac1c0002row6_col3\" class=\"data row6 col3\" >0.6125</td>\n",
              "                        <td id=\"T_2a637498_0abf_11ea_b907_0242ac1c0002row6_col4\" class=\"data row6 col4\" >0.526786</td>\n",
              "            </tr>\n",
              "            <tr>\n",
              "                        <th id=\"T_2a637498_0abf_11ea_b907_0242ac1c0002level0_row7\" class=\"row_heading level0 row7\" >NB</th>\n",
              "                        <td id=\"T_2a637498_0abf_11ea_b907_0242ac1c0002row7_col0\" class=\"data row7 col0\" >0.685714</td>\n",
              "                        <td id=\"T_2a637498_0abf_11ea_b907_0242ac1c0002row7_col1\" class=\"data row7 col1\" >0.726786</td>\n",
              "                        <td id=\"T_2a637498_0abf_11ea_b907_0242ac1c0002row7_col2\" class=\"data row7 col2\" >0.596429</td>\n",
              "                        <td id=\"T_2a637498_0abf_11ea_b907_0242ac1c0002row7_col3\" class=\"data row7 col3\" >0.596429</td>\n",
              "                        <td id=\"T_2a637498_0abf_11ea_b907_0242ac1c0002row7_col4\" class=\"data row7 col4\" >0.685714</td>\n",
              "            </tr>\n",
              "            <tr>\n",
              "                        <th id=\"T_2a637498_0abf_11ea_b907_0242ac1c0002level0_row8\" class=\"row_heading level0 row8\" >LDA</th>\n",
              "                        <td id=\"T_2a637498_0abf_11ea_b907_0242ac1c0002row8_col0\" class=\"data row8 col0\" >0.678571</td>\n",
              "                        <td id=\"T_2a637498_0abf_11ea_b907_0242ac1c0002row8_col1\" class=\"data row8 col1\" >0.791071</td>\n",
              "                        <td id=\"T_2a637498_0abf_11ea_b907_0242ac1c0002row8_col2\" class=\"data row8 col2\" >0.683929</td>\n",
              "                        <td id=\"T_2a637498_0abf_11ea_b907_0242ac1c0002row8_col3\" class=\"data row8 col3\" >0.683929</td>\n",
              "                        <td id=\"T_2a637498_0abf_11ea_b907_0242ac1c0002row8_col4\" class=\"data row8 col4\" >0.678571</td>\n",
              "            </tr>\n",
              "            <tr>\n",
              "                        <th id=\"T_2a637498_0abf_11ea_b907_0242ac1c0002level0_row9\" class=\"row_heading level0 row9\" >QDA</th>\n",
              "                        <td id=\"T_2a637498_0abf_11ea_b907_0242ac1c0002row9_col0\" class=\"data row9 col0\" >0.491071</td>\n",
              "                        <td id=\"T_2a637498_0abf_11ea_b907_0242ac1c0002row9_col1\" class=\"data row9 col1\" >0.6</td>\n",
              "                        <td id=\"T_2a637498_0abf_11ea_b907_0242ac1c0002row9_col2\" class=\"data row9 col2\" >0.616071</td>\n",
              "                        <td id=\"T_2a637498_0abf_11ea_b907_0242ac1c0002row9_col3\" class=\"data row9 col3\" >0.616071</td>\n",
              "                        <td id=\"T_2a637498_0abf_11ea_b907_0242ac1c0002row9_col4\" class=\"data row9 col4\" >0.491071</td>\n",
              "            </tr>\n",
              "            <tr>\n",
              "                        <th id=\"T_2a637498_0abf_11ea_b907_0242ac1c0002level0_row10\" class=\"row_heading level0 row10\" >LR</th>\n",
              "                        <td id=\"T_2a637498_0abf_11ea_b907_0242ac1c0002row10_col0\" class=\"data row10 col0\" >0.782143</td>\n",
              "                        <td id=\"T_2a637498_0abf_11ea_b907_0242ac1c0002row10_col1\" class=\"data row10 col1\" >0.835714</td>\n",
              "                        <td id=\"T_2a637498_0abf_11ea_b907_0242ac1c0002row10_col2\" class=\"data row10 col2\" >0.7375</td>\n",
              "                        <td id=\"T_2a637498_0abf_11ea_b907_0242ac1c0002row10_col3\" class=\"data row10 col3\" >0.723214</td>\n",
              "                        <td id=\"T_2a637498_0abf_11ea_b907_0242ac1c0002row10_col4\" class=\"data row10 col4\" >0.807143</td>\n",
              "            </tr>\n",
              "    </tbody></table>"
            ],
            "text/plain": [
              "<pandas.io.formats.style.Styler at 0x7f236f40b710>"
            ]
          },
          "metadata": {
            "tags": []
          },
          "execution_count": 132
        }
      ]
    },
    {
      "cell_type": "code",
      "metadata": {
        "id": "_hpnod6UbOR2",
        "colab_type": "code",
        "colab": {}
      },
      "source": [
        "#highest accuracy is 83% check PCA section"
      ],
      "execution_count": 0,
      "outputs": []
    },
    {
      "cell_type": "code",
      "metadata": {
        "id": "I1q9KAR7Vs7g",
        "colab_type": "code",
        "colab": {}
      },
      "source": [
        ""
      ],
      "execution_count": 0,
      "outputs": []
    }
  ]
}