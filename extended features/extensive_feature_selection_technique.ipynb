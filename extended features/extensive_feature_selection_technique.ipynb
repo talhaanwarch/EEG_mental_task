{
  "nbformat": 4,
  "nbformat_minor": 0,
  "metadata": {
    "colab": {
      "name": "Selected features only",
      "provenance": [],
      "collapsed_sections": [],
      "toc_visible": true
    },
    "kernelspec": {
      "name": "python3",
      "display_name": "Python 3"
    }
  },
  "cells": [
    {
      "cell_type": "code",
      "metadata": {
        "id": "l5b1mWbMTEjo",
        "colab_type": "code",
        "colab": {}
      },
      "source": [
        "from scipy import stats\n",
        "from sklearn import metrics\n",
        "from sklearn.model_selection import train_test_split\n",
        "from sklearn.preprocessing import StandardScaler,MaxAbsScaler\n",
        "from sklearn.preprocessing import StandardScaler,MaxAbsScaler\n",
        "from sklearn.svm import SVC\n",
        "from sklearn.linear_model import LogisticRegression\n",
        "from sklearn.neighbors import KNeighborsClassifier\n",
        "import numpy as np\n",
        "np.warnings.filterwarnings('ignore')"
      ],
      "execution_count": 0,
      "outputs": []
    },
    {
      "cell_type": "markdown",
      "metadata": {
        "id": "nAZkeuKAh84E",
        "colab_type": "text"
      },
      "source": [
        "# Load Features"
      ]
    },
    {
      "cell_type": "code",
      "metadata": {
        "id": "Tl78V_67Mxmk",
        "colab_type": "code",
        "colab": {
          "base_uri": "https://localhost:8080/",
          "height": 33
        },
        "outputId": "9217506f-23e3-4c55-83e6-269d645a3593"
      },
      "source": [
        "import numpy as np\n",
        "X=np.load('data_0.1-30Hz.npy')\n",
        "y=np.load('labels_0.1-30Hz.npy')\n",
        "X.shape,y.shape"
      ],
      "execution_count": 182,
      "outputs": [
        {
          "output_type": "execute_result",
          "data": {
            "text/plain": [
              "((72, 396), (72,))"
            ]
          },
          "metadata": {
            "tags": []
          },
          "execution_count": 182
        }
      ]
    },
    {
      "cell_type": "markdown",
      "metadata": {
        "id": "JmkEc92iMyib",
        "colab_type": "text"
      },
      "source": [
        "# Feature Selection"
      ]
    },
    {
      "cell_type": "code",
      "metadata": {
        "id": "3fxrT54XNCKc",
        "colab_type": "code",
        "colab": {}
      },
      "source": [
        "feature_list=['mean','std','ptp','var','minim','maxim','mean_square','rms','abs_diffs_signal','skewness','kurtosis','zero_crossing',\n",
        "'app_epy','perm_epy','svd_epy','spectral_epy','sample_epy','katz','higuchi','petrosian','hjorth_mobility','hjorth_complexity']"
      ],
      "execution_count": 0,
      "outputs": []
    },
    {
      "cell_type": "code",
      "metadata": {
        "id": "Owawqo88f7pP",
        "colab_type": "code",
        "colab": {}
      },
      "source": [
        "classifiers = [\n",
        "    KNeighborsClassifier(),\n",
        "    SVC(kernel=\"rbf\"),\n",
        "    DecisionTreeClassifier(),\n",
        "    LogisticRegression()]\n"
      ],
      "execution_count": 0,
      "outputs": []
    },
    {
      "cell_type": "code",
      "metadata": {
        "id": "vMacRXtlM08F",
        "colab_type": "code",
        "colab": {}
      },
      "source": [
        "clf_feature_selected=[]\n",
        "for clfs in classifiers:\n",
        "  feature_selected=[]\n",
        "  for i in range(36):\n",
        "    clf=LogisticRegression()\n",
        "    randomize = np.arange(len(X))\n",
        "    np.random.shuffle(randomize)\n",
        "    X = X[randomize]\n",
        "    y = y[randomize]\n",
        "    for i,j in zip(range(0,396,18),feature_list):\n",
        "      X_new=X[:,i:i+18]\n",
        "      X_train, X_test, y_train, y_test = train_test_split(X_new, y,test_size=0.2, random_state=42,stratify=y)\n",
        "      sc=StandardScaler()\n",
        "      X_train=sc.fit_transform(X_train)\n",
        "      X_test=sc.transform(X_test)\n",
        "      \n",
        "      clf.fit(X_train,y_train)\n",
        "      y_pred = clf.predict(X_test)  \n",
        "      acc=metrics.accuracy_score(y_test, y_pred)\n",
        "      #print(\"Accuracy of \",j,metrics.accuracy_score(y_test, y_pred))\n",
        "      if acc>0.70:\n",
        "        feature_selected.append(j)\n",
        "  clf_feature_selected.append(feature_selected)        \n",
        " # print('-------------------------------------------------------------------')\n"
      ],
      "execution_count": 0,
      "outputs": []
    },
    {
      "cell_type": "code",
      "metadata": {
        "id": "OoSJb8NygcYl",
        "colab_type": "code",
        "colab": {
          "base_uri": "https://localhost:8080/",
          "height": 104
        },
        "outputId": "0ce680d2-90c8-426c-a72c-a0059516553a"
      },
      "source": [
        "from collections import Counter\n",
        "clf_count=[]\n",
        "for i in range(4):\n",
        "  feature_selected=clf_feature_selected[i]\n",
        "  count= {x:feature_selected.count(x) for x in feature_selected}\n",
        "  c = Counter(count)\n",
        "  #print(c.most_common())\n",
        "  clf_count.append(c.most_common(10))\n",
        "  print(c.most_common(10))"
      ],
      "execution_count": 188,
      "outputs": [
        {
          "output_type": "stream",
          "text": [
            "[('ptp', 26), ('maxim', 24), ('minim', 22), ('std', 20), ('rms', 19), ('var', 17), ('mean_square', 17), ('petrosian', 13), ('higuchi', 12), ('perm_epy', 10)]\n",
            "[('ptp', 22), ('maxim', 21), ('minim', 15), ('mean_square', 15), ('higuchi', 14), ('petrosian', 14), ('var', 13), ('perm_epy', 13), ('std', 10), ('rms', 10)]\n",
            "[('maxim', 20), ('ptp', 19), ('var', 16), ('minim', 16), ('mean_square', 15), ('std', 10), ('rms', 10), ('higuchi', 9), ('abs_diffs_signal', 7), ('perm_epy', 7)]\n",
            "[('maxim', 21), ('ptp', 20), ('var', 15), ('mean_square', 15), ('rms', 14), ('minim', 13), ('std', 12), ('perm_epy', 10), ('kurtosis', 9), ('petrosian', 9)]\n"
          ],
          "name": "stdout"
        }
      ]
    },
    {
      "cell_type": "code",
      "metadata": {
        "id": "OVEapORuNhAH",
        "colab_type": "code",
        "outputId": "d74112b4-8eb6-45d0-cb78-7606febafdcb",
        "colab": {
          "base_uri": "https://localhost:8080/",
          "height": 70
        }
      },
      "source": [
        "# count= {x:feature_selected.count(x) for x in feature_selected}\n",
        "# from collections import Counter\n",
        "# c = Counter(count)\n",
        "# print(c.most_common())\n",
        "# print(c.most_common(7))"
      ],
      "execution_count": 165,
      "outputs": [
        {
          "output_type": "stream",
          "text": [
            "[('maxim', 21), ('ptp', 20), ('mean_square', 18), ('std', 17), ('var', 17), ('rms', 16), ('minim', 13), ('perm_epy', 11), ('petrosian', 10), ('abs_diffs_signal', 8), ('kurtosis', 5), ('hjorth_complexity', 5), ('katz', 4), ('spectral_epy', 4), ('skewness', 3), ('higuchi', 3), ('sample_epy', 3), ('hjorth_mobility', 3), ('app_epy', 2), ('svd_epy', 2), ('mean', 1), ('zero_crossing', 1)]\n",
            "[('maxim', 21), ('ptp', 20), ('mean_square', 18), ('std', 17), ('var', 17), ('rms', 16), ('minim', 13)]\n"
          ],
          "name": "stdout"
        }
      ]
    },
    {
      "cell_type": "code",
      "metadata": {
        "id": "N4Je0_OYhMrz",
        "colab_type": "code",
        "colab": {}
      },
      "source": [
        "good_feature=[]\n",
        "for i in range(4):\n",
        "  #print(clf_count[i])\n",
        "  x=clf_count[i]\n",
        "  for j in range(10):\n",
        "    good_feature.append((x[j][0]))\n"
      ],
      "execution_count": 0,
      "outputs": []
    },
    {
      "cell_type": "code",
      "metadata": {
        "id": "mHOUJd8wh2gC",
        "colab_type": "code",
        "colab": {
          "base_uri": "https://localhost:8080/",
          "height": 33
        },
        "outputId": "e9c05287-e0d2-4d03-e021-4edb62718eec"
      },
      "source": [
        "count= {x:good_feature.count(x) for x in good_feature}\n",
        "c = Counter(count)\n",
        "c.most_common()\n",
        "good_feature=[]\n",
        "for i in range(8):\n",
        "  good_feature.append(c.most_common(8)[i][0])\n",
        "print(good_feature)  "
      ],
      "execution_count": 195,
      "outputs": [
        {
          "output_type": "stream",
          "text": [
            "['ptp', 'maxim', 'minim', 'std', 'rms', 'var', 'mean_square', 'perm_epy']\n"
          ],
          "name": "stdout"
        }
      ]
    },
    {
      "cell_type": "code",
      "metadata": {
        "id": "ecA00fzSiG43",
        "colab_type": "code",
        "colab": {
          "base_uri": "https://localhost:8080/",
          "height": 33
        },
        "outputId": "072d26ab-2682-4387-ca08-4f106d89daf1"
      },
      "source": [
        ""
      ],
      "execution_count": 194,
      "outputs": [
        {
          "output_type": "execute_result",
          "data": {
            "text/plain": [
              "12"
            ]
          },
          "metadata": {
            "tags": []
          },
          "execution_count": 194
        }
      ]
    },
    {
      "cell_type": "code",
      "metadata": {
        "id": "ggfmMvynUFCy",
        "colab_type": "code",
        "colab": {
          "base_uri": "https://localhost:8080/",
          "height": 33
        },
        "outputId": "bc171cb1-e96b-4dc5-8c60-3a216d2b8d45"
      },
      "source": [
        "# good_feature=[]\n",
        "# for i in range(9):\n",
        "#   good_feature.append(c.most_common(9)[i][0])\n",
        "# print(good_feature)  "
      ],
      "execution_count": 166,
      "outputs": [
        {
          "output_type": "stream",
          "text": [
            "['maxim', 'ptp', 'mean_square', 'std', 'var', 'rms', 'minim', 'perm_epy', 'petrosian']\n"
          ],
          "name": "stdout"
        }
      ]
    },
    {
      "cell_type": "code",
      "metadata": {
        "id": "GpjjLp4SUzsX",
        "colab_type": "code",
        "colab": {}
      },
      "source": [
        "# bad_feature=set(feature_list)-set(good_feature)\n",
        "# print(bad_feature)"
      ],
      "execution_count": 0,
      "outputs": []
    },
    {
      "cell_type": "code",
      "metadata": {
        "id": "Bm4Cu382VEPN",
        "colab_type": "code",
        "colab": {}
      },
      "source": [
        "# #delete bad features\n",
        "\n",
        "# for key,val in zip(feature_list,range(0,396,18)):\n",
        "#   for fe in bad_feature:\n",
        "#     if key==fe:      \n",
        "#         X=np.delete(X,np.s_[val:val+18],axis=1)\n"
      ],
      "execution_count": 0,
      "outputs": []
    },
    {
      "cell_type": "code",
      "metadata": {
        "id": "XXWCuUP3VT9I",
        "colab_type": "code",
        "colab": {
          "base_uri": "https://localhost:8080/",
          "height": 150
        },
        "outputId": "e6e9ef60-691a-416c-e05b-96d40f9df13a"
      },
      "source": [
        "#keep good features only\n",
        "X_good=[]\n",
        "for key,val in zip(feature_list,range(0,396,18)):\n",
        "  for fe in good_feature:\n",
        "    if key==fe:     \n",
        "      print('key',key,'value',val,\":\",val+18) \n",
        "      X_good.append(X[:,val:val+18])\n"
      ],
      "execution_count": 196,
      "outputs": [
        {
          "output_type": "stream",
          "text": [
            "key std value 18 : 36\n",
            "key ptp value 36 : 54\n",
            "key var value 54 : 72\n",
            "key minim value 72 : 90\n",
            "key maxim value 90 : 108\n",
            "key mean_square value 108 : 126\n",
            "key rms value 126 : 144\n",
            "key perm_epy value 234 : 252\n"
          ],
          "name": "stdout"
        }
      ]
    },
    {
      "cell_type": "code",
      "metadata": {
        "id": "RsQVuTYmV5MF",
        "colab_type": "code",
        "colab": {}
      },
      "source": [
        "X=np.concatenate((X_good),axis=1)"
      ],
      "execution_count": 0,
      "outputs": []
    },
    {
      "cell_type": "markdown",
      "metadata": {
        "id": "qH6vWOzfDUGK",
        "colab_type": "text"
      },
      "source": [
        "# Classification"
      ]
    },
    {
      "cell_type": "code",
      "metadata": {
        "id": "694vALtLl8uF",
        "colab_type": "code",
        "colab": {}
      },
      "source": [
        "#%% split data\n",
        "X_train, X_test, y_train, y_test = train_test_split(X, y,test_size=0.2, random_state=42,stratify=y)"
      ],
      "execution_count": 0,
      "outputs": []
    },
    {
      "cell_type": "code",
      "metadata": {
        "id": "cu_9yYoTnxm2",
        "colab_type": "code",
        "colab": {}
      },
      "source": [
        "from sklearn.preprocessing import StandardScaler,MaxAbsScaler\n",
        "sc=StandardScaler()\n",
        "X_train=sc.fit_transform(X_train)\n",
        "X_test=sc.transform(X_test)"
      ],
      "execution_count": 0,
      "outputs": []
    },
    {
      "cell_type": "code",
      "metadata": {
        "id": "yVSRKVsvl9Xm",
        "colab_type": "code",
        "outputId": "8970c3fc-703f-474c-9cd6-46eefecd03e2",
        "colab": {
          "base_uri": "https://localhost:8080/",
          "height": 184
        }
      },
      "source": [
        "from sklearn.svm import SVC\n",
        "clf=SVC(kernel='rbf')\n",
        "clf.fit(X_train,y_train)\n",
        "y_pred = clf.predict(X_test)\n",
        "\n",
        "from sklearn.metrics import classification_report,accuracy_score\n",
        "print(classification_report(y_test,y_pred))\n",
        "print('accuracy is ',accuracy_score(y_test, y_pred))"
      ],
      "execution_count": 200,
      "outputs": [
        {
          "output_type": "stream",
          "text": [
            "              precision    recall  f1-score   support\n",
            "\n",
            "         0.0       0.88      0.88      0.88         8\n",
            "         1.0       0.86      0.86      0.86         7\n",
            "\n",
            "    accuracy                           0.87        15\n",
            "   macro avg       0.87      0.87      0.87        15\n",
            "weighted avg       0.87      0.87      0.87        15\n",
            "\n",
            "accuracy is  0.8666666666666667\n"
          ],
          "name": "stdout"
        }
      ]
    },
    {
      "cell_type": "code",
      "metadata": {
        "id": "DwQzrUXkqFtv",
        "colab_type": "code",
        "colab": {}
      },
      "source": [
        ""
      ],
      "execution_count": 0,
      "outputs": []
    },
    {
      "cell_type": "markdown",
      "metadata": {
        "id": "xsX6ciQxqNH1",
        "colab_type": "text"
      },
      "source": [
        "# Fine Tuning"
      ]
    },
    {
      "cell_type": "code",
      "metadata": {
        "id": "PyT-jleCqOsl",
        "colab_type": "code",
        "outputId": "8bb70445-a646-40e5-feaa-971720f6453a",
        "colab": {
          "base_uri": "https://localhost:8080/",
          "height": 50
        }
      },
      "source": [
        "from sklearn.model_selection import GridSearchCV\n",
        "from sklearn.pipeline import Pipeline\n",
        "\n",
        "clf = SVC(kernel=\"rbf\")\n",
        "Cs = [ 1,2,3,5,7,10,15,30,50,70,100]\n",
        "gammas = [0.001,0.01,0.02,0.03,0.04,0.05,0.1,0.3,0.5,0.8,1]\n",
        "pipe = Pipeline(steps=[('scaler', sc), ('classifier', clf)])\n",
        "estimator = GridSearchCV(pipe,\n",
        "                         dict(classifier__C=Cs,classifier__gamma=gammas),cv=5,n_jobs=-1,iid=False) \n",
        "\n",
        "results = estimator.fit(X,y)\n",
        "print(results.best_score_ )\n",
        "results.best_params_"
      ],
      "execution_count": 201,
      "outputs": [
        {
          "output_type": "stream",
          "text": [
            "0.7339285714285715\n"
          ],
          "name": "stdout"
        },
        {
          "output_type": "execute_result",
          "data": {
            "text/plain": [
              "{'classifier__C': 1, 'classifier__gamma': 0.001}"
            ]
          },
          "metadata": {
            "tags": []
          },
          "execution_count": 201
        }
      ]
    },
    {
      "cell_type": "markdown",
      "metadata": {
        "id": "aVKZnjStsfPl",
        "colab_type": "text"
      },
      "source": [
        "### KNN"
      ]
    },
    {
      "cell_type": "code",
      "metadata": {
        "id": "JqfStMFwqKJe",
        "colab_type": "code",
        "outputId": "df7e00bb-1132-43e3-bf24-6fb25043b0b4",
        "colab": {
          "base_uri": "https://localhost:8080/",
          "height": 84
        }
      },
      "source": [
        "from sklearn.neighbors import KNeighborsClassifier\n",
        "clf = KNeighborsClassifier()\n",
        "\n",
        "n_neighbors  = [ 3,4,5,6,7,8,9]\n",
        "weights  = ['uniform','distance']\n",
        "metric=['minkowski','manhattan','euclidean']\n",
        "pipe = Pipeline(steps=[('scaler', sc), ('classifier', clf)])\n",
        "estimator = GridSearchCV(pipe,\n",
        "                         dict(classifier__n_neighbors=n_neighbors,classifier__weights=weights,classifier__metric=metric),cv=5,n_jobs=-1,iid=False) \n",
        "results = estimator.fit(X,y)\n",
        "print(results.best_score_ )\n",
        "results.best_params_\n"
      ],
      "execution_count": 202,
      "outputs": [
        {
          "output_type": "stream",
          "text": [
            "0.7357142857142858\n"
          ],
          "name": "stdout"
        },
        {
          "output_type": "execute_result",
          "data": {
            "text/plain": [
              "{'classifier__metric': 'minkowski',\n",
              " 'classifier__n_neighbors': 8,\n",
              " 'classifier__weights': 'uniform'}"
            ]
          },
          "metadata": {
            "tags": []
          },
          "execution_count": 202
        }
      ]
    },
    {
      "cell_type": "markdown",
      "metadata": {
        "id": "VUclYayfshOj",
        "colab_type": "text"
      },
      "source": [
        "### nu"
      ]
    },
    {
      "cell_type": "code",
      "metadata": {
        "id": "12hluWdosls7",
        "colab_type": "code",
        "outputId": "7fb9bbab-d4b7-4646-fdb8-c5ae0dd8b1cd",
        "colab": {
          "base_uri": "https://localhost:8080/",
          "height": 50
        }
      },
      "source": [
        "from sklearn.svm import SVC, LinearSVC, NuSVC\n",
        "\n",
        "clf = NuSVC(kernel=\"rbf\")\n",
        "nu = [0.1,0.3,0.5,0.7,1]\n",
        "gammas = [0.001,0.01,0.02,0.03,0.04,0.05,0.1,0.3,0.5,0.8,1]\n",
        "pipe = Pipeline(steps=[('scaler', sc), ('classifier', clf)])\n",
        "estimator = GridSearchCV(pipe,\n",
        "                         dict(classifier__nu=nu,classifier__gamma=gammas),cv=5,n_jobs=-1,iid=False) \n",
        "\n",
        "results = estimator.fit(X,y)\n",
        "print(results.best_score_ )\n",
        "results.best_params_"
      ],
      "execution_count": 203,
      "outputs": [
        {
          "output_type": "stream",
          "text": [
            "0.7214285714285715\n"
          ],
          "name": "stdout"
        },
        {
          "output_type": "execute_result",
          "data": {
            "text/plain": [
              "{'classifier__gamma': 0.001, 'classifier__nu': 0.7}"
            ]
          },
          "metadata": {
            "tags": []
          },
          "execution_count": 203
        }
      ]
    },
    {
      "cell_type": "markdown",
      "metadata": {
        "id": "D-iF3g2vtB8b",
        "colab_type": "text"
      },
      "source": [
        "### lR"
      ]
    },
    {
      "cell_type": "code",
      "metadata": {
        "id": "3egYBtm0tCsC",
        "colab_type": "code",
        "outputId": "29bacb12-8183-4297-83eb-61586be890b8",
        "colab": {
          "base_uri": "https://localhost:8080/",
          "height": 50
        }
      },
      "source": [
        "from sklearn.linear_model import LogisticRegression\n",
        "clf = LogisticRegression()\n",
        "C = [ 1,2,3,5,7,10,15,30,50,70,100]\n",
        "penalty=[\"l1\",\"l2\"]\n",
        "pipe = Pipeline(steps=[('scaler', sc), ('classifier', clf)])\n",
        "estimator = GridSearchCV(pipe,\n",
        "                         dict(classifier__C=C,classifier__penalty=penalty),cv=5,n_jobs=-1,iid=False) \n",
        "\n",
        "results = estimator.fit(X,y)\n",
        "print(results.best_score_ )\n",
        "results.best_params_"
      ],
      "execution_count": 204,
      "outputs": [
        {
          "output_type": "stream",
          "text": [
            "0.6982142857142858\n"
          ],
          "name": "stdout"
        },
        {
          "output_type": "execute_result",
          "data": {
            "text/plain": [
              "{'classifier__C': 3, 'classifier__penalty': 'l1'}"
            ]
          },
          "metadata": {
            "tags": []
          },
          "execution_count": 204
        }
      ]
    },
    {
      "cell_type": "markdown",
      "metadata": {
        "id": "F43mLml3DaEE",
        "colab_type": "text"
      },
      "source": [
        "# Cross Validation"
      ]
    },
    {
      "cell_type": "code",
      "metadata": {
        "id": "ex6tRirxPGdy",
        "colab_type": "code",
        "colab": {}
      },
      "source": [
        "\n",
        "from sklearn.preprocessing import StandardScaler,MaxAbsScaler\n",
        "\n",
        "scalar=StandardScaler()"
      ],
      "execution_count": 0,
      "outputs": []
    },
    {
      "cell_type": "code",
      "metadata": {
        "id": "aPu2-pvOEE1G",
        "colab_type": "code",
        "colab": {}
      },
      "source": [
        "from sklearn.metrics import accuracy_score, log_loss\n",
        "from sklearn.neighbors import KNeighborsClassifier\n",
        "from sklearn.svm import SVC, LinearSVC, NuSVC\n",
        "from sklearn.tree import DecisionTreeClassifier\n",
        "from sklearn.ensemble import RandomForestClassifier, AdaBoostClassifier, GradientBoostingClassifier\n",
        "from sklearn.naive_bayes import GaussianNB\n",
        "from sklearn.discriminant_analysis import LinearDiscriminantAnalysis\n",
        "from sklearn.discriminant_analysis import QuadraticDiscriminantAnalysis\n",
        "from sklearn.linear_model import LogisticRegression\n",
        "import pandas as pd\n",
        "from sklearn.metrics import f1_score\n",
        "from sklearn.model_selection import cross_val_score"
      ],
      "execution_count": 0,
      "outputs": []
    },
    {
      "cell_type": "code",
      "metadata": {
        "id": "KqMYWYTSD5De",
        "colab_type": "code",
        "colab": {}
      },
      "source": [
        "classifiers = [\n",
        "    KNeighborsClassifier(n_neighbors=8,weights='distance',metric='manhattan'),\n",
        "    SVC(kernel=\"rbf\",C=1,gamma=0.001),\n",
        "    NuSVC(nu=0.7,gamma=0.001),\n",
        "    DecisionTreeClassifier(),\n",
        "    RandomForestClassifier(),\n",
        "    AdaBoostClassifier(),\n",
        "    GradientBoostingClassifier(),\n",
        "    GaussianNB(),\n",
        "    LinearDiscriminantAnalysis(),\n",
        "    QuadraticDiscriminantAnalysis(),\n",
        "    LogisticRegression(C=1,penalty='l1')]\n"
      ],
      "execution_count": 0,
      "outputs": []
    },
    {
      "cell_type": "code",
      "metadata": {
        "id": "F9uzc0QZPKeC",
        "colab_type": "code",
        "colab": {}
      },
      "source": [
        "pipeline = Pipeline([('transformer', scalar),('estimator', clf)])"
      ],
      "execution_count": 0,
      "outputs": []
    },
    {
      "cell_type": "code",
      "metadata": {
        "id": "KQqS9NjUD3Kc",
        "colab_type": "code",
        "outputId": "e89b67e7-bb8b-42b2-862c-79212051ccef",
        "colab": {
          "base_uri": "https://localhost:8080/",
          "height": 753
        }
      },
      "source": [
        "import warnings\n",
        "warnings.simplefilter(action='ignore', category=FutureWarning)\n",
        "\n",
        "accuracy=[]\n",
        "accuracy_std=[]\n",
        "f1_scores=[]\n",
        "f1_scores_std=[]\n",
        "for clfs in classifiers:\n",
        "    pipeline.set_params(estimator = clfs)\n",
        "    name = clfs.__class__.__name__\n",
        "    \n",
        "    print(\"=\"*30)\n",
        "    print(name)       \n",
        "    print('****Results****')\n",
        "    scores = cross_val_score(pipeline, X, y, cv=5)\n",
        "    #f1_score = cross_val_score(clf, X_rfe, y, cv=5,scoring='f1')\n",
        "    print(\"Accuracy: {:.4%}\".format(np.array(scores).mean()))\n",
        "    accuracy.append(np.array(scores).mean())\n",
        "    accuracy_std.append(np.array(scores).std())\n",
        "    #f1_scores.append(np.array(f1_score).mean())\n",
        "    #f1_scores_std.append(np.array(f1_score).std())"
      ],
      "execution_count": 154,
      "outputs": [
        {
          "output_type": "stream",
          "text": [
            "==============================\n",
            "KNeighborsClassifier\n",
            "****Results****\n",
            "Accuracy: 60.8929%\n",
            "==============================\n",
            "SVC\n",
            "****Results****\n",
            "Accuracy: 73.5714%\n",
            "==============================\n",
            "NuSVC\n",
            "****Results****\n",
            "Accuracy: 75.0000%\n",
            "==============================\n",
            "DecisionTreeClassifier\n",
            "****Results****\n",
            "Accuracy: 61.7857%\n",
            "==============================\n",
            "RandomForestClassifier\n",
            "****Results****\n",
            "Accuracy: 55.3571%\n",
            "==============================\n",
            "AdaBoostClassifier\n",
            "****Results****\n",
            "Accuracy: 62.5000%\n",
            "==============================\n",
            "GradientBoostingClassifier\n",
            "****Results****\n",
            "Accuracy: 58.7500%\n",
            "==============================\n",
            "GaussianNB\n",
            "****Results****\n",
            "Accuracy: 72.5000%\n",
            "==============================\n",
            "LinearDiscriminantAnalysis\n",
            "****Results****\n",
            "Accuracy: 52.6786%\n",
            "==============================\n",
            "QuadraticDiscriminantAnalysis\n",
            "****Results****\n",
            "Accuracy: 43.7500%\n",
            "==============================\n",
            "LogisticRegression\n",
            "****Results****\n",
            "Accuracy: 72.1429%\n"
          ],
          "name": "stdout"
        }
      ]
    },
    {
      "cell_type": "code",
      "metadata": {
        "id": "icpqu9V5D1EL",
        "colab_type": "code",
        "outputId": "47bb8f5b-962b-474c-96c7-048c6d177098",
        "colab": {
          "base_uri": "https://localhost:8080/",
          "height": 297
        }
      },
      "source": [
        "import matplotlib.pyplot as plt\n",
        "classifier=['KNN','SVC','nuSCV','DT','RF','Ada','GB','NB','LDA','QDA','LR']\n",
        "y_pos = np.arange(len(classifier))\n",
        "plt.bar(y_pos,np.array(accuracy))\n",
        "plt.xticks(y_pos, classifier)\n",
        "plt.ylabel('Accuracy')\n",
        "plt.title('Classifiers')"
      ],
      "execution_count": 155,
      "outputs": [
        {
          "output_type": "execute_result",
          "data": {
            "text/plain": [
              "Text(0.5, 1.0, 'Classifiers')"
            ]
          },
          "metadata": {
            "tags": []
          },
          "execution_count": 155
        },
        {
          "output_type": "display_data",
          "data": {
            "image/png": "[encoded data removed]",
            "text/plain": [
              "<Figure size 432x288 with 1 Axes>"
            ]
          },
          "metadata": {
            "tags": []
          }
        }
      ]
    },
    {
      "cell_type": "markdown",
      "metadata": {
        "id": "VBDXxRp2O5kO",
        "colab_type": "text"
      },
      "source": [
        "# Principle Component Analysis"
      ]
    },
    {
      "cell_type": "code",
      "metadata": {
        "id": "qGWFC54TO44u",
        "colab_type": "code",
        "outputId": "1f2c8e13-e6cb-45d1-c80b-37dad8551000",
        "colab": {
          "base_uri": "https://localhost:8080/",
          "height": 295
        }
      },
      "source": [
        "from sklearn.decomposition import PCA\n",
        "import matplotlib.pyplot as plt\n",
        "from sklearn.decomposition import KernelPCA\n",
        "from sklearn.model_selection import cross_val_score\n",
        "\n",
        "#Fitting the PCA algorithm with our Data\n",
        "pca = PCA().fit(X_train)\n",
        "#Plotting the Cumulative Summation of the Explained Variance\n",
        "plt.figure()\n",
        "plt.plot(np.cumsum(pca.explained_variance_ratio_))\n",
        "plt.xlabel('Number of Components')\n",
        "plt.ylabel('Variance (%)') #for each component\n",
        "plt.title('EEG')\n",
        "plt.show()"
      ],
      "execution_count": 156,
      "outputs": [
        {
          "output_type": "display_data",
          "data": {
            "image/png": "[encoded data removed]",
            "text/plain": [
              "<Figure size 432x288 with 1 Axes>"
            ]
          },
          "metadata": {
            "tags": []
          }
        }
      ]
    },
    {
      "cell_type": "code",
      "metadata": {
        "id": "SN4VeHRtO__B",
        "colab_type": "code",
        "colab": {}
      },
      "source": [
        "\n"
      ],
      "execution_count": 0,
      "outputs": []
    },
    {
      "cell_type": "code",
      "metadata": {
        "colab_type": "code",
        "id": "2vhCPXYMohbm",
        "colab": {}
      },
      "source": [
        "\n",
        "clf = SVC(kernel='rbf')\n",
        "pca = PCA(n_components=10)\n",
        "\n",
        "pipeline = Pipeline([('transformer', scalar),('selector',pca), ('estimator', clf)])\n"
      ],
      "execution_count": 0,
      "outputs": []
    },
    {
      "cell_type": "code",
      "metadata": {
        "colab_type": "code",
        "outputId": "9ea1ab46-de5a-475f-d025-4230e544adb5",
        "id": "mA0HWAG4ohbq",
        "colab": {
          "base_uri": "https://localhost:8080/",
          "height": 753
        }
      },
      "source": [
        "\n",
        "import warnings\n",
        "warnings.simplefilter(action='ignore', category=FutureWarning)\n",
        "\n",
        "accuracy_pca=[]\n",
        "std_pca=[]\n",
        "f1_scores=[]\n",
        "f1_scores_std=[]\n",
        "for clfs in classifiers:\n",
        "    pipeline.set_params(estimator = clfs)\n",
        "    name = clfs.__class__.__name__\n",
        "    \n",
        "    print(\"=\"*30)\n",
        "    print(name)       \n",
        "    print('****Results****')\n",
        "    scores = cross_val_score(pipeline, X, y, cv=5)\n",
        "    #f1_score = cross_val_score(clf, X_rfe, y, cv=5,scoring='f1')\n",
        "    print(\"Accuracy: {:.4%}\".format(np.array(scores).mean()))\n",
        "    accuracy_pca.append(np.array(scores).mean())\n",
        "    std_pca.append(np.array(scores).std())\n",
        "    #f1_scores.append(np.array(f1_score).mean())\n",
        "    #f1_scores_std.append(np.array(f1_score).std())\n"
      ],
      "execution_count": 158,
      "outputs": [
        {
          "output_type": "stream",
          "text": [
            "==============================\n",
            "KNeighborsClassifier\n",
            "****Results****\n",
            "Accuracy: 70.5357%\n",
            "==============================\n",
            "SVC\n",
            "****Results****\n",
            "Accuracy: 73.5714%\n",
            "==============================\n",
            "NuSVC\n",
            "****Results****\n",
            "Accuracy: 73.5714%\n",
            "==============================\n",
            "DecisionTreeClassifier\n",
            "****Results****\n",
            "Accuracy: 65.3571%\n",
            "==============================\n",
            "RandomForestClassifier\n",
            "****Results****\n",
            "Accuracy: 63.3929%\n",
            "==============================\n",
            "AdaBoostClassifier\n",
            "****Results****\n",
            "Accuracy: 64.2857%\n",
            "==============================\n",
            "GradientBoostingClassifier\n",
            "****Results****\n",
            "Accuracy: 61.2500%\n",
            "==============================\n",
            "GaussianNB\n",
            "****Results****\n",
            "Accuracy: 68.3929%\n",
            "==============================\n",
            "LinearDiscriminantAnalysis\n",
            "****Results****\n",
            "Accuracy: 69.4643%\n",
            "==============================\n",
            "QuadraticDiscriminantAnalysis\n",
            "****Results****\n",
            "Accuracy: 58.2143%\n",
            "==============================\n",
            "LogisticRegression\n",
            "****Results****\n",
            "Accuracy: 64.1071%\n"
          ],
          "name": "stdout"
        }
      ]
    },
    {
      "cell_type": "code",
      "metadata": {
        "id": "6fSqeWSCPLuu",
        "colab_type": "code",
        "colab": {
          "base_uri": "https://localhost:8080/",
          "height": 50
        },
        "outputId": "d373de34-33db-4595-919f-8507406f4d4b"
      },
      "source": [
        "from sklearn.model_selection import GridSearchCV\n",
        "\n",
        "clf = SVC(kernel=\"rbf\")\n",
        "n_components = [5,10,15,20]\n",
        "Cs = [0.0001,0.001,0.1, 1,2,3,5,7,10,15,30]\n",
        "gammas = [0.001,0.01,0.02,0.03,0.04,0.05,0.1,0.3,0.5,0.8,1]\n",
        "pipe = Pipeline(steps=[('scalar',sc),('selector', pca), ('classifier', clf)])\n",
        "estimator = GridSearchCV(pipe,\n",
        "                         dict(selector__n_components=n_components,\n",
        "                              classifier__C=Cs,classifier__gamma=gammas),cv=5,n_jobs=-1,iid=False) \n",
        "\n",
        "results = estimator.fit(X,y)\n",
        "print(results.best_score_ )\n",
        "results.best_params_"
      ],
      "execution_count": 161,
      "outputs": [
        {
          "output_type": "stream",
          "text": [
            "0.7767857142857143\n"
          ],
          "name": "stdout"
        },
        {
          "output_type": "execute_result",
          "data": {
            "text/plain": [
              "{'classifier__C': 2, 'classifier__gamma': 0.001, 'selector__n_components': 20}"
            ]
          },
          "metadata": {
            "tags": []
          },
          "execution_count": 161
        }
      ]
    },
    {
      "cell_type": "code",
      "metadata": {
        "id": "8v9JLYR_cpg6",
        "colab_type": "code",
        "colab": {
          "base_uri": "https://localhost:8080/",
          "height": 50
        },
        "outputId": "23db96e6-91ad-4fcd-b59d-8d27b48cbc3a"
      },
      "source": [
        "from sklearn.model_selection import GridSearchCV\n",
        "\n",
        "clf = LogisticRegression()\n",
        "C = [ 1,2,3,5,7,10,15,30,50,70,100]\n",
        "penalty=[\"l1\",\"l2\"]\n",
        "pipe = Pipeline(steps=[('scaler', sc),('selector', pca), ('classifier', clf)])\n",
        "estimator = GridSearchCV(pipe,\n",
        "                         dict(selector__n_components=n_components,\n",
        "                             classifier__C=C,classifier__penalty=penalty),cv=5,n_jobs=-1,iid=False) \n",
        "\n",
        "results = estimator.fit(X,y)\n",
        "print(results.best_score_ )\n",
        "results.best_params_"
      ],
      "execution_count": 160,
      "outputs": [
        {
          "output_type": "stream",
          "text": [
            "0.7375\n"
          ],
          "name": "stdout"
        },
        {
          "output_type": "execute_result",
          "data": {
            "text/plain": [
              "{'classifier__C': 1, 'classifier__penalty': 'l2', 'selector__n_components': 20}"
            ]
          },
          "metadata": {
            "tags": []
          },
          "execution_count": 160
        }
      ]
    },
    {
      "cell_type": "markdown",
      "metadata": {
        "colab_type": "text",
        "id": "gueTfCpdpKfp"
      },
      "source": [
        "# RFE"
      ]
    },
    {
      "cell_type": "code",
      "metadata": {
        "id": "Effk-fW1km3b",
        "colab_type": "code",
        "colab": {}
      },
      "source": [
        "from sklearn.preprocessing import MaxAbsScaler,StandardScaler\n",
        "from sklearn.pipeline import Pipeline\n",
        "from sklearn.feature_selection import RFE\n"
      ],
      "execution_count": 0,
      "outputs": []
    },
    {
      "cell_type": "code",
      "metadata": {
        "id": "RcV8wDCE_5AN",
        "colab_type": "code",
        "colab": {}
      },
      "source": [
        "# from sklearn.model_selection import GridSearchCV\n",
        "\n",
        "# clf = SVC(kernel=\"rbf\")\n",
        "# n_features = [20,30,40,50,70,100]\n",
        "# step=[5,7,9,10]\n",
        "# Cs = [0.001,0.1, 1,2,3,5,7,10,15,30]\n",
        "# gammas = [0.001,0.01,0.02,0.03,0.04,0.05,0.1,0.3,0.5,0.8,1]\n",
        "# pipe = Pipeline(steps=[('rfe', rfe), ('classifier', clf)])\n",
        "# estimator = GridSearchCV(pipe,\n",
        "#                          dict(rfe__step=step,rfe__n_features_to_select=n_features,\n",
        "#                               classifier__C=Cs,classifier__gamma=gammas),cv=5,n_jobs=-1,iid=False) \n",
        "\n",
        "# results = estimator.fit(X,y)\n",
        "# results.best_params_"
      ],
      "execution_count": 0,
      "outputs": []
    },
    {
      "cell_type": "code",
      "metadata": {
        "id": "X3joTTYvkPfz",
        "colab_type": "code",
        "colab": {}
      },
      "source": [
        "\n",
        "clf = SVC(kernel='rbf')\n",
        "rfe=RFE(SVC(kernel='linear'),n_features_to_select=120,step=5,verbose=0)   \n",
        "\n",
        "pipeline = Pipeline([('transformer', scalar),('selector',rfe), ('estimator', clf)])\n"
      ],
      "execution_count": 0,
      "outputs": []
    },
    {
      "cell_type": "code",
      "metadata": {
        "id": "S37vDSnpkpi-",
        "colab_type": "code",
        "outputId": "843d3224-cafd-407c-c289-bd9ae91a722f",
        "colab": {
          "base_uri": "https://localhost:8080/",
          "height": 753
        }
      },
      "source": [
        "\n",
        "import warnings\n",
        "warnings.simplefilter(action='ignore', category=FutureWarning)\n",
        "\n",
        "accuracy_rfe=[]\n",
        "std_rfe=[]\n",
        "f1_scores=[]\n",
        "f1_scores_std=[]\n",
        "for clfs in classifiers:\n",
        "    pipeline.set_params(estimator = clfs)\n",
        "    name = clfs.__class__.__name__\n",
        "    \n",
        "    print(\"=\"*30)\n",
        "    print(name)       \n",
        "    print('****Results****')\n",
        "    scores = cross_val_score(pipeline, X, y, cv=5)\n",
        "    #f1_score = cross_val_score(clf, X_rfe, y, cv=5,scoring='f1')\n",
        "    print(\"Accuracy: {:.4%}\".format(np.array(scores).mean()))\n",
        "    accuracy_rfe.append(np.array(scores).mean())\n",
        "    std_rfe.append(np.array(scores).std())\n",
        "    #f1_scores.append(np.array(f1_score).mean())\n",
        "    #f1_scores_std.append(np.array(f1_score).std())\n"
      ],
      "execution_count": 31,
      "outputs": [
        {
          "output_type": "stream",
          "text": [
            "==============================\n",
            "KNeighborsClassifier\n",
            "****Results****\n",
            "Accuracy: 66.7857%\n",
            "==============================\n",
            "SVC\n",
            "****Results****\n",
            "Accuracy: 64.1071%\n",
            "==============================\n",
            "NuSVC\n",
            "****Results****\n",
            "Accuracy: 65.7143%\n",
            "==============================\n",
            "DecisionTreeClassifier\n",
            "****Results****\n",
            "Accuracy: 60.0000%\n",
            "==============================\n",
            "RandomForestClassifier\n",
            "****Results****\n",
            "Accuracy: 69.8214%\n",
            "==============================\n",
            "AdaBoostClassifier\n",
            "****Results****\n",
            "Accuracy: 72.8571%\n",
            "==============================\n",
            "GradientBoostingClassifier\n",
            "****Results****\n",
            "Accuracy: 66.7857%\n",
            "==============================\n",
            "GaussianNB\n",
            "****Results****\n",
            "Accuracy: 61.6071%\n",
            "==============================\n",
            "LinearDiscriminantAnalysis\n",
            "****Results****\n",
            "Accuracy: 64.2857%\n",
            "==============================\n",
            "QuadraticDiscriminantAnalysis\n",
            "****Results****\n",
            "Accuracy: 54.2857%\n",
            "==============================\n",
            "LogisticRegression\n",
            "****Results****\n",
            "Accuracy: 73.7500%\n"
          ],
          "name": "stdout"
        }
      ]
    },
    {
      "cell_type": "code",
      "metadata": {
        "id": "z0qVbnOi_3To",
        "colab_type": "code",
        "colab": {}
      },
      "source": [
        ""
      ],
      "execution_count": 0,
      "outputs": []
    },
    {
      "cell_type": "markdown",
      "metadata": {
        "id": "v5yNkL4arI5Z",
        "colab_type": "text"
      },
      "source": [
        "# SKbest"
      ]
    },
    {
      "cell_type": "code",
      "metadata": {
        "id": "-5wEC_ForKGR",
        "colab_type": "code",
        "colab": {}
      },
      "source": [
        "from sklearn.feature_selection import SelectKBest\n",
        "from sklearn.feature_selection import f_classif\n"
      ],
      "execution_count": 0,
      "outputs": []
    },
    {
      "cell_type": "code",
      "metadata": {
        "colab_type": "code",
        "id": "r5vNJstWrtCD",
        "colab": {}
      },
      "source": [
        "\n",
        "clf = SVC(kernel='rbf')\n",
        "skbest=SelectKBest(f_classif, k=5)\n",
        "pipeline = Pipeline([('transformer', scalar),('selector',rfe), ('estimator', clf)])\n"
      ],
      "execution_count": 0,
      "outputs": []
    },
    {
      "cell_type": "code",
      "metadata": {
        "colab_type": "code",
        "outputId": "2a7eeae4-65dc-49d4-aaec-d179325006ce",
        "id": "4VS9cTTirtCH",
        "colab": {
          "base_uri": "https://localhost:8080/",
          "height": 753
        }
      },
      "source": [
        "\n",
        "import warnings\n",
        "warnings.simplefilter(action='ignore', category=FutureWarning)\n",
        "\n",
        "accuracy_kbest=[]\n",
        "std_kbest=[]\n",
        "f1_scores=[]\n",
        "f1_scores_std=[]\n",
        "for clfs in classifiers:\n",
        "    pipeline.set_params(estimator = clfs)\n",
        "    name = clfs.__class__.__name__\n",
        "    \n",
        "    print(\"=\"*30)\n",
        "    print(name)       \n",
        "    print('****Results****')\n",
        "    scores = cross_val_score(pipeline, X, y, cv=5)\n",
        "    #f1_score = cross_val_score(clf, X_rfe, y, cv=5,scoring='f1')\n",
        "    print(\"Accuracy: {:.4%}\".format(np.array(scores).mean()))\n",
        "    accuracy_kbest.append(np.array(scores).mean())\n",
        "    std_kbest.append(np.array(scores).std())\n",
        "    #f1_scores.append(np.array(f1_score).mean())\n",
        "    #f1_scores_std.append(np.array(f1_score).std())\n"
      ],
      "execution_count": 34,
      "outputs": [
        {
          "output_type": "stream",
          "text": [
            "==============================\n",
            "KNeighborsClassifier\n",
            "****Results****\n",
            "Accuracy: 66.7857%\n",
            "==============================\n",
            "SVC\n",
            "****Results****\n",
            "Accuracy: 64.1071%\n",
            "==============================\n",
            "NuSVC\n",
            "****Results****\n",
            "Accuracy: 65.7143%\n",
            "==============================\n",
            "DecisionTreeClassifier\n",
            "****Results****\n",
            "Accuracy: 61.0714%\n",
            "==============================\n",
            "RandomForestClassifier\n",
            "****Results****\n",
            "Accuracy: 68.7500%\n",
            "==============================\n",
            "AdaBoostClassifier\n",
            "****Results****\n",
            "Accuracy: 70.0000%\n",
            "==============================\n",
            "GradientBoostingClassifier\n",
            "****Results****\n",
            "Accuracy: 66.7857%\n",
            "==============================\n",
            "GaussianNB\n",
            "****Results****\n",
            "Accuracy: 61.6071%\n",
            "==============================\n",
            "LinearDiscriminantAnalysis\n",
            "****Results****\n",
            "Accuracy: 64.2857%\n",
            "==============================\n",
            "QuadraticDiscriminantAnalysis\n",
            "****Results****\n",
            "Accuracy: 54.2857%\n",
            "==============================\n",
            "LogisticRegression\n",
            "****Results****\n",
            "Accuracy: 73.7500%\n"
          ],
          "name": "stdout"
        }
      ]
    },
    {
      "cell_type": "code",
      "metadata": {
        "id": "Wbl3_Cs9rnNh",
        "colab_type": "code",
        "colab": {}
      },
      "source": [
        ""
      ],
      "execution_count": 0,
      "outputs": []
    },
    {
      "cell_type": "markdown",
      "metadata": {
        "id": "N40_Zc8nsiU3",
        "colab_type": "text"
      },
      "source": [
        "# VarianceThreshold"
      ]
    },
    {
      "cell_type": "code",
      "metadata": {
        "colab_type": "code",
        "id": "hqPon3DushYn",
        "colab": {}
      },
      "source": [
        "from sklearn.feature_selection import VarianceThreshold\n",
        "clf = SVC(kernel='rbf')\n",
        "selector = VarianceThreshold(0.3)\n",
        "pipeline = Pipeline([('transformer', scalar),('selector',selector), ('estimator', clf)])\n"
      ],
      "execution_count": 0,
      "outputs": []
    },
    {
      "cell_type": "code",
      "metadata": {
        "colab_type": "code",
        "outputId": "0637dc25-39c5-4633-c584-3eac2c9f9d16",
        "id": "zH6sK58CshYp",
        "colab": {
          "base_uri": "https://localhost:8080/",
          "height": 753
        }
      },
      "source": [
        "\n",
        "import warnings\n",
        "warnings.simplefilter(action='ignore', category=FutureWarning)\n",
        "\n",
        "accuracy_var=[]\n",
        "std_var=[]\n",
        "f1_scores=[]\n",
        "f1_scores_std=[]\n",
        "for clfs in classifiers:\n",
        "    pipeline.set_params(estimator = clfs)\n",
        "    name = clfs.__class__.__name__\n",
        "    \n",
        "    print(\"=\"*30)\n",
        "    print(name)       \n",
        "    print('****Results****')\n",
        "    scores = cross_val_score(pipeline, X, y, cv=5)\n",
        "    #f1_score = cross_val_score(clf, X_rfe, y, cv=5,scoring='f1')\n",
        "    print(\"Accuracy: {:.4%}\".format(np.array(scores).mean()))\n",
        "    accuracy_var.append(np.array(scores).mean())\n",
        "    std_var.append(np.array(scores).std())\n",
        "    #f1_scores.append(np.array(f1_score).mean())\n",
        "    #f1_scores_std.append(np.array(f1_score).std())\n"
      ],
      "execution_count": 36,
      "outputs": [
        {
          "output_type": "stream",
          "text": [
            "==============================\n",
            "KNeighborsClassifier\n",
            "****Results****\n",
            "Accuracy: 66.7857%\n",
            "==============================\n",
            "SVC\n",
            "****Results****\n",
            "Accuracy: 65.5357%\n",
            "==============================\n",
            "NuSVC\n",
            "****Results****\n",
            "Accuracy: 68.3929%\n",
            "==============================\n",
            "DecisionTreeClassifier\n",
            "****Results****\n",
            "Accuracy: 61.0714%\n",
            "==============================\n",
            "RandomForestClassifier\n",
            "****Results****\n",
            "Accuracy: 61.2500%\n",
            "==============================\n",
            "AdaBoostClassifier\n",
            "****Results****\n",
            "Accuracy: 65.5357%\n",
            "==============================\n",
            "GradientBoostingClassifier\n",
            "****Results****\n",
            "Accuracy: 69.6429%\n",
            "==============================\n",
            "GaussianNB\n",
            "****Results****\n",
            "Accuracy: 63.0357%\n",
            "==============================\n",
            "LinearDiscriminantAnalysis\n",
            "****Results****\n",
            "Accuracy: 64.1071%\n",
            "==============================\n",
            "QuadraticDiscriminantAnalysis\n",
            "****Results****\n",
            "Accuracy: 55.7143%\n",
            "==============================\n",
            "LogisticRegression\n",
            "****Results****\n",
            "Accuracy: 73.7500%\n"
          ],
          "name": "stdout"
        }
      ]
    },
    {
      "cell_type": "code",
      "metadata": {
        "id": "X9-EzT5grnQp",
        "colab_type": "code",
        "outputId": "810bd7b1-69b9-402a-abd2-3eebfb42e846",
        "colab": {
          "base_uri": "https://localhost:8080/",
          "height": 33
        }
      },
      "source": [
        "len(accuracy),len(accuracy_pca),len(accuracy_rfe),len(accuracy_kbest),len(accuracy_var)"
      ],
      "execution_count": 37,
      "outputs": [
        {
          "output_type": "execute_result",
          "data": {
            "text/plain": [
              "(11, 11, 11, 11, 11)"
            ]
          },
          "metadata": {
            "tags": []
          },
          "execution_count": 37
        }
      ]
    },
    {
      "cell_type": "code",
      "metadata": {
        "id": "mtlBCPBtZjDm",
        "colab_type": "code",
        "colab": {}
      },
      "source": [
        "result=pd.DataFrame([accuracy,accuracy_pca,accuracy_rfe,accuracy_kbest,accuracy_var],\n",
        "                    index=['Accuracy','PCA',\"RFE\",'kbest','VAR'],\n",
        "                    columns=['KNN','SVC','nuSCV','DT','RF','Ada','GB','NB','LDA','QDA','LR'])"
      ],
      "execution_count": 0,
      "outputs": []
    },
    {
      "cell_type": "code",
      "metadata": {
        "id": "oDxtmxamaD9y",
        "colab_type": "code",
        "colab": {}
      },
      "source": [
        "result=result.T"
      ],
      "execution_count": 0,
      "outputs": []
    },
    {
      "cell_type": "code",
      "metadata": {
        "id": "0-IOzjP1bGBu",
        "colab_type": "code",
        "outputId": "2b1022de-63cf-44f3-cb6d-4625a5efe493",
        "colab": {
          "base_uri": "https://localhost:8080/",
          "height": 254
        }
      },
      "source": [
        "def _color_red_or_green(val):\n",
        "    color = 'red' if val < 0.7 else 'green'\n",
        "    return 'color: %s' % color\n",
        "result.style.applymap(_color_red_or_green)    "
      ],
      "execution_count": 40,
      "outputs": [
        {
          "output_type": "execute_result",
          "data": {
            "text/html": [
              "<style  type=\"text/css\" >\n",
              "    #T_911321b0_0ac0_11ea_8e68_0242ac1c0002row0_col0 {\n",
              "            color:  red;\n",
              "        }    #T_911321b0_0ac0_11ea_8e68_0242ac1c0002row0_col1 {\n",
              "            color:  red;\n",
              "        }    #T_911321b0_0ac0_11ea_8e68_0242ac1c0002row0_col2 {\n",
              "            color:  red;\n",
              "        }    #T_911321b0_0ac0_11ea_8e68_0242ac1c0002row0_col3 {\n",
              "            color:  red;\n",
              "        }    #T_911321b0_0ac0_11ea_8e68_0242ac1c0002row0_col4 {\n",
              "            color:  red;\n",
              "        }    #T_911321b0_0ac0_11ea_8e68_0242ac1c0002row1_col0 {\n",
              "            color:  red;\n",
              "        }    #T_911321b0_0ac0_11ea_8e68_0242ac1c0002row1_col1 {\n",
              "            color:  red;\n",
              "        }    #T_911321b0_0ac0_11ea_8e68_0242ac1c0002row1_col2 {\n",
              "            color:  red;\n",
              "        }    #T_911321b0_0ac0_11ea_8e68_0242ac1c0002row1_col3 {\n",
              "            color:  red;\n",
              "        }    #T_911321b0_0ac0_11ea_8e68_0242ac1c0002row1_col4 {\n",
              "            color:  red;\n",
              "        }    #T_911321b0_0ac0_11ea_8e68_0242ac1c0002row2_col0 {\n",
              "            color:  red;\n",
              "        }    #T_911321b0_0ac0_11ea_8e68_0242ac1c0002row2_col1 {\n",
              "            color:  red;\n",
              "        }    #T_911321b0_0ac0_11ea_8e68_0242ac1c0002row2_col2 {\n",
              "            color:  red;\n",
              "        }    #T_911321b0_0ac0_11ea_8e68_0242ac1c0002row2_col3 {\n",
              "            color:  red;\n",
              "        }    #T_911321b0_0ac0_11ea_8e68_0242ac1c0002row2_col4 {\n",
              "            color:  red;\n",
              "        }    #T_911321b0_0ac0_11ea_8e68_0242ac1c0002row3_col0 {\n",
              "            color:  red;\n",
              "        }    #T_911321b0_0ac0_11ea_8e68_0242ac1c0002row3_col1 {\n",
              "            color:  red;\n",
              "        }    #T_911321b0_0ac0_11ea_8e68_0242ac1c0002row3_col2 {\n",
              "            color:  red;\n",
              "        }    #T_911321b0_0ac0_11ea_8e68_0242ac1c0002row3_col3 {\n",
              "            color:  red;\n",
              "        }    #T_911321b0_0ac0_11ea_8e68_0242ac1c0002row3_col4 {\n",
              "            color:  red;\n",
              "        }    #T_911321b0_0ac0_11ea_8e68_0242ac1c0002row4_col0 {\n",
              "            color:  red;\n",
              "        }    #T_911321b0_0ac0_11ea_8e68_0242ac1c0002row4_col1 {\n",
              "            color:  red;\n",
              "        }    #T_911321b0_0ac0_11ea_8e68_0242ac1c0002row4_col2 {\n",
              "            color:  red;\n",
              "        }    #T_911321b0_0ac0_11ea_8e68_0242ac1c0002row4_col3 {\n",
              "            color:  red;\n",
              "        }    #T_911321b0_0ac0_11ea_8e68_0242ac1c0002row4_col4 {\n",
              "            color:  red;\n",
              "        }    #T_911321b0_0ac0_11ea_8e68_0242ac1c0002row5_col0 {\n",
              "            color:  red;\n",
              "        }    #T_911321b0_0ac0_11ea_8e68_0242ac1c0002row5_col1 {\n",
              "            color:  red;\n",
              "        }    #T_911321b0_0ac0_11ea_8e68_0242ac1c0002row5_col2 {\n",
              "            color:  green;\n",
              "        }    #T_911321b0_0ac0_11ea_8e68_0242ac1c0002row5_col3 {\n",
              "            color:  green;\n",
              "        }    #T_911321b0_0ac0_11ea_8e68_0242ac1c0002row5_col4 {\n",
              "            color:  red;\n",
              "        }    #T_911321b0_0ac0_11ea_8e68_0242ac1c0002row6_col0 {\n",
              "            color:  red;\n",
              "        }    #T_911321b0_0ac0_11ea_8e68_0242ac1c0002row6_col1 {\n",
              "            color:  red;\n",
              "        }    #T_911321b0_0ac0_11ea_8e68_0242ac1c0002row6_col2 {\n",
              "            color:  red;\n",
              "        }    #T_911321b0_0ac0_11ea_8e68_0242ac1c0002row6_col3 {\n",
              "            color:  red;\n",
              "        }    #T_911321b0_0ac0_11ea_8e68_0242ac1c0002row6_col4 {\n",
              "            color:  red;\n",
              "        }    #T_911321b0_0ac0_11ea_8e68_0242ac1c0002row7_col0 {\n",
              "            color:  red;\n",
              "        }    #T_911321b0_0ac0_11ea_8e68_0242ac1c0002row7_col1 {\n",
              "            color:  red;\n",
              "        }    #T_911321b0_0ac0_11ea_8e68_0242ac1c0002row7_col2 {\n",
              "            color:  red;\n",
              "        }    #T_911321b0_0ac0_11ea_8e68_0242ac1c0002row7_col3 {\n",
              "            color:  red;\n",
              "        }    #T_911321b0_0ac0_11ea_8e68_0242ac1c0002row7_col4 {\n",
              "            color:  red;\n",
              "        }    #T_911321b0_0ac0_11ea_8e68_0242ac1c0002row8_col0 {\n",
              "            color:  red;\n",
              "        }    #T_911321b0_0ac0_11ea_8e68_0242ac1c0002row8_col1 {\n",
              "            color:  green;\n",
              "        }    #T_911321b0_0ac0_11ea_8e68_0242ac1c0002row8_col2 {\n",
              "            color:  red;\n",
              "        }    #T_911321b0_0ac0_11ea_8e68_0242ac1c0002row8_col3 {\n",
              "            color:  red;\n",
              "        }    #T_911321b0_0ac0_11ea_8e68_0242ac1c0002row8_col4 {\n",
              "            color:  red;\n",
              "        }    #T_911321b0_0ac0_11ea_8e68_0242ac1c0002row9_col0 {\n",
              "            color:  red;\n",
              "        }    #T_911321b0_0ac0_11ea_8e68_0242ac1c0002row9_col1 {\n",
              "            color:  red;\n",
              "        }    #T_911321b0_0ac0_11ea_8e68_0242ac1c0002row9_col2 {\n",
              "            color:  red;\n",
              "        }    #T_911321b0_0ac0_11ea_8e68_0242ac1c0002row9_col3 {\n",
              "            color:  red;\n",
              "        }    #T_911321b0_0ac0_11ea_8e68_0242ac1c0002row9_col4 {\n",
              "            color:  red;\n",
              "        }    #T_911321b0_0ac0_11ea_8e68_0242ac1c0002row10_col0 {\n",
              "            color:  green;\n",
              "        }    #T_911321b0_0ac0_11ea_8e68_0242ac1c0002row10_col1 {\n",
              "            color:  red;\n",
              "        }    #T_911321b0_0ac0_11ea_8e68_0242ac1c0002row10_col2 {\n",
              "            color:  green;\n",
              "        }    #T_911321b0_0ac0_11ea_8e68_0242ac1c0002row10_col3 {\n",
              "            color:  green;\n",
              "        }    #T_911321b0_0ac0_11ea_8e68_0242ac1c0002row10_col4 {\n",
              "            color:  green;\n",
              "        }</style><table id=\"T_911321b0_0ac0_11ea_8e68_0242ac1c0002\" ><thead>    <tr>        <th class=\"blank level0\" ></th>        <th class=\"col_heading level0 col0\" >Accuracy</th>        <th class=\"col_heading level0 col1\" >PCA</th>        <th class=\"col_heading level0 col2\" >RFE</th>        <th class=\"col_heading level0 col3\" >kbest</th>        <th class=\"col_heading level0 col4\" >VAR</th>    </tr></thead><tbody>\n",
              "                <tr>\n",
              "                        <th id=\"T_911321b0_0ac0_11ea_8e68_0242ac1c0002level0_row0\" class=\"row_heading level0 row0\" >KNN</th>\n",
              "                        <td id=\"T_911321b0_0ac0_11ea_8e68_0242ac1c0002row0_col0\" class=\"data row0 col0\" >0.667857</td>\n",
              "                        <td id=\"T_911321b0_0ac0_11ea_8e68_0242ac1c0002row0_col1\" class=\"data row0 col1\" >0.675</td>\n",
              "                        <td id=\"T_911321b0_0ac0_11ea_8e68_0242ac1c0002row0_col2\" class=\"data row0 col2\" >0.667857</td>\n",
              "                        <td id=\"T_911321b0_0ac0_11ea_8e68_0242ac1c0002row0_col3\" class=\"data row0 col3\" >0.667857</td>\n",
              "                        <td id=\"T_911321b0_0ac0_11ea_8e68_0242ac1c0002row0_col4\" class=\"data row0 col4\" >0.667857</td>\n",
              "            </tr>\n",
              "            <tr>\n",
              "                        <th id=\"T_911321b0_0ac0_11ea_8e68_0242ac1c0002level0_row1\" class=\"row_heading level0 row1\" >SVC</th>\n",
              "                        <td id=\"T_911321b0_0ac0_11ea_8e68_0242ac1c0002row1_col0\" class=\"data row1 col0\" >0.655357</td>\n",
              "                        <td id=\"T_911321b0_0ac0_11ea_8e68_0242ac1c0002row1_col1\" class=\"data row1 col1\" >0.655357</td>\n",
              "                        <td id=\"T_911321b0_0ac0_11ea_8e68_0242ac1c0002row1_col2\" class=\"data row1 col2\" >0.641071</td>\n",
              "                        <td id=\"T_911321b0_0ac0_11ea_8e68_0242ac1c0002row1_col3\" class=\"data row1 col3\" >0.641071</td>\n",
              "                        <td id=\"T_911321b0_0ac0_11ea_8e68_0242ac1c0002row1_col4\" class=\"data row1 col4\" >0.655357</td>\n",
              "            </tr>\n",
              "            <tr>\n",
              "                        <th id=\"T_911321b0_0ac0_11ea_8e68_0242ac1c0002level0_row2\" class=\"row_heading level0 row2\" >nuSCV</th>\n",
              "                        <td id=\"T_911321b0_0ac0_11ea_8e68_0242ac1c0002row2_col0\" class=\"data row2 col0\" >0.683929</td>\n",
              "                        <td id=\"T_911321b0_0ac0_11ea_8e68_0242ac1c0002row2_col1\" class=\"data row2 col1\" >0.669643</td>\n",
              "                        <td id=\"T_911321b0_0ac0_11ea_8e68_0242ac1c0002row2_col2\" class=\"data row2 col2\" >0.657143</td>\n",
              "                        <td id=\"T_911321b0_0ac0_11ea_8e68_0242ac1c0002row2_col3\" class=\"data row2 col3\" >0.657143</td>\n",
              "                        <td id=\"T_911321b0_0ac0_11ea_8e68_0242ac1c0002row2_col4\" class=\"data row2 col4\" >0.683929</td>\n",
              "            </tr>\n",
              "            <tr>\n",
              "                        <th id=\"T_911321b0_0ac0_11ea_8e68_0242ac1c0002level0_row3\" class=\"row_heading level0 row3\" >DT</th>\n",
              "                        <td id=\"T_911321b0_0ac0_11ea_8e68_0242ac1c0002row3_col0\" class=\"data row3 col0\" >0.628571</td>\n",
              "                        <td id=\"T_911321b0_0ac0_11ea_8e68_0242ac1c0002row3_col1\" class=\"data row3 col1\" >0.598214</td>\n",
              "                        <td id=\"T_911321b0_0ac0_11ea_8e68_0242ac1c0002row3_col2\" class=\"data row3 col2\" >0.6</td>\n",
              "                        <td id=\"T_911321b0_0ac0_11ea_8e68_0242ac1c0002row3_col3\" class=\"data row3 col3\" >0.610714</td>\n",
              "                        <td id=\"T_911321b0_0ac0_11ea_8e68_0242ac1c0002row3_col4\" class=\"data row3 col4\" >0.610714</td>\n",
              "            </tr>\n",
              "            <tr>\n",
              "                        <th id=\"T_911321b0_0ac0_11ea_8e68_0242ac1c0002level0_row4\" class=\"row_heading level0 row4\" >RF</th>\n",
              "                        <td id=\"T_911321b0_0ac0_11ea_8e68_0242ac1c0002row4_col0\" class=\"data row4 col0\" >0.641071</td>\n",
              "                        <td id=\"T_911321b0_0ac0_11ea_8e68_0242ac1c0002row4_col1\" class=\"data row4 col1\" >0.528571</td>\n",
              "                        <td id=\"T_911321b0_0ac0_11ea_8e68_0242ac1c0002row4_col2\" class=\"data row4 col2\" >0.698214</td>\n",
              "                        <td id=\"T_911321b0_0ac0_11ea_8e68_0242ac1c0002row4_col3\" class=\"data row4 col3\" >0.6875</td>\n",
              "                        <td id=\"T_911321b0_0ac0_11ea_8e68_0242ac1c0002row4_col4\" class=\"data row4 col4\" >0.6125</td>\n",
              "            </tr>\n",
              "            <tr>\n",
              "                        <th id=\"T_911321b0_0ac0_11ea_8e68_0242ac1c0002level0_row5\" class=\"row_heading level0 row5\" >Ada</th>\n",
              "                        <td id=\"T_911321b0_0ac0_11ea_8e68_0242ac1c0002row5_col0\" class=\"data row5 col0\" >0.669643</td>\n",
              "                        <td id=\"T_911321b0_0ac0_11ea_8e68_0242ac1c0002row5_col1\" class=\"data row5 col1\" >0.5875</td>\n",
              "                        <td id=\"T_911321b0_0ac0_11ea_8e68_0242ac1c0002row5_col2\" class=\"data row5 col2\" >0.728571</td>\n",
              "                        <td id=\"T_911321b0_0ac0_11ea_8e68_0242ac1c0002row5_col3\" class=\"data row5 col3\" >0.7</td>\n",
              "                        <td id=\"T_911321b0_0ac0_11ea_8e68_0242ac1c0002row5_col4\" class=\"data row5 col4\" >0.655357</td>\n",
              "            </tr>\n",
              "            <tr>\n",
              "                        <th id=\"T_911321b0_0ac0_11ea_8e68_0242ac1c0002level0_row6\" class=\"row_heading level0 row6\" >GB</th>\n",
              "                        <td id=\"T_911321b0_0ac0_11ea_8e68_0242ac1c0002row6_col0\" class=\"data row6 col0\" >0.653571</td>\n",
              "                        <td id=\"T_911321b0_0ac0_11ea_8e68_0242ac1c0002row6_col1\" class=\"data row6 col1\" >0.573214</td>\n",
              "                        <td id=\"T_911321b0_0ac0_11ea_8e68_0242ac1c0002row6_col2\" class=\"data row6 col2\" >0.667857</td>\n",
              "                        <td id=\"T_911321b0_0ac0_11ea_8e68_0242ac1c0002row6_col3\" class=\"data row6 col3\" >0.667857</td>\n",
              "                        <td id=\"T_911321b0_0ac0_11ea_8e68_0242ac1c0002row6_col4\" class=\"data row6 col4\" >0.696429</td>\n",
              "            </tr>\n",
              "            <tr>\n",
              "                        <th id=\"T_911321b0_0ac0_11ea_8e68_0242ac1c0002level0_row7\" class=\"row_heading level0 row7\" >NB</th>\n",
              "                        <td id=\"T_911321b0_0ac0_11ea_8e68_0242ac1c0002row7_col0\" class=\"data row7 col0\" >0.630357</td>\n",
              "                        <td id=\"T_911321b0_0ac0_11ea_8e68_0242ac1c0002row7_col1\" class=\"data row7 col1\" >0.558929</td>\n",
              "                        <td id=\"T_911321b0_0ac0_11ea_8e68_0242ac1c0002row7_col2\" class=\"data row7 col2\" >0.616071</td>\n",
              "                        <td id=\"T_911321b0_0ac0_11ea_8e68_0242ac1c0002row7_col3\" class=\"data row7 col3\" >0.616071</td>\n",
              "                        <td id=\"T_911321b0_0ac0_11ea_8e68_0242ac1c0002row7_col4\" class=\"data row7 col4\" >0.630357</td>\n",
              "            </tr>\n",
              "            <tr>\n",
              "                        <th id=\"T_911321b0_0ac0_11ea_8e68_0242ac1c0002level0_row8\" class=\"row_heading level0 row8\" >LDA</th>\n",
              "                        <td id=\"T_911321b0_0ac0_11ea_8e68_0242ac1c0002row8_col0\" class=\"data row8 col0\" >0.641071</td>\n",
              "                        <td id=\"T_911321b0_0ac0_11ea_8e68_0242ac1c0002row8_col1\" class=\"data row8 col1\" >0.723214</td>\n",
              "                        <td id=\"T_911321b0_0ac0_11ea_8e68_0242ac1c0002row8_col2\" class=\"data row8 col2\" >0.642857</td>\n",
              "                        <td id=\"T_911321b0_0ac0_11ea_8e68_0242ac1c0002row8_col3\" class=\"data row8 col3\" >0.642857</td>\n",
              "                        <td id=\"T_911321b0_0ac0_11ea_8e68_0242ac1c0002row8_col4\" class=\"data row8 col4\" >0.641071</td>\n",
              "            </tr>\n",
              "            <tr>\n",
              "                        <th id=\"T_911321b0_0ac0_11ea_8e68_0242ac1c0002level0_row9\" class=\"row_heading level0 row9\" >QDA</th>\n",
              "                        <td id=\"T_911321b0_0ac0_11ea_8e68_0242ac1c0002row9_col0\" class=\"data row9 col0\" >0.557143</td>\n",
              "                        <td id=\"T_911321b0_0ac0_11ea_8e68_0242ac1c0002row9_col1\" class=\"data row9 col1\" >0.457143</td>\n",
              "                        <td id=\"T_911321b0_0ac0_11ea_8e68_0242ac1c0002row9_col2\" class=\"data row9 col2\" >0.542857</td>\n",
              "                        <td id=\"T_911321b0_0ac0_11ea_8e68_0242ac1c0002row9_col3\" class=\"data row9 col3\" >0.542857</td>\n",
              "                        <td id=\"T_911321b0_0ac0_11ea_8e68_0242ac1c0002row9_col4\" class=\"data row9 col4\" >0.557143</td>\n",
              "            </tr>\n",
              "            <tr>\n",
              "                        <th id=\"T_911321b0_0ac0_11ea_8e68_0242ac1c0002level0_row10\" class=\"row_heading level0 row10\" >LR</th>\n",
              "                        <td id=\"T_911321b0_0ac0_11ea_8e68_0242ac1c0002row10_col0\" class=\"data row10 col0\" >0.7375</td>\n",
              "                        <td id=\"T_911321b0_0ac0_11ea_8e68_0242ac1c0002row10_col1\" class=\"data row10 col1\" >0.694643</td>\n",
              "                        <td id=\"T_911321b0_0ac0_11ea_8e68_0242ac1c0002row10_col2\" class=\"data row10 col2\" >0.7375</td>\n",
              "                        <td id=\"T_911321b0_0ac0_11ea_8e68_0242ac1c0002row10_col3\" class=\"data row10 col3\" >0.7375</td>\n",
              "                        <td id=\"T_911321b0_0ac0_11ea_8e68_0242ac1c0002row10_col4\" class=\"data row10 col4\" >0.7375</td>\n",
              "            </tr>\n",
              "    </tbody></table>"
            ],
            "text/plain": [
              "<pandas.io.formats.style.Styler at 0x7f4572c31cc0>"
            ]
          },
          "metadata": {
            "tags": []
          },
          "execution_count": 40
        }
      ]
    },
    {
      "cell_type": "code",
      "metadata": {
        "id": "_hpnod6UbOR2",
        "colab_type": "code",
        "colab": {}
      },
      "source": [
        ""
      ],
      "execution_count": 0,
      "outputs": []
    }
  ]
}