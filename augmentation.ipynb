{
  "nbformat": 4,
  "nbformat_minor": 0,
  "metadata": {
    "colab": {
      "name": "rnn_cnn.ipynb",
      "provenance": [],
      "machine_shape": "hm",
      "include_colab_link": true
    },
    "kernelspec": {
      "name": "python3",
      "display_name": "Python 3"
    },
    "accelerator": "GPU"
  },
  "cells": [
    {
      "cell_type": "markdown",
      "metadata": {
        "id": "view-in-github",
        "colab_type": "text"
      },
      "source": [
        "<a href=\"https://colab.research.google.com/github/talhaanwarch/EEG_mental_task/blob/master/augmentation.ipynb\" target=\"_parent\"><img src=\"https://colab.research.google.com/assets/colab-badge.svg\" alt=\"Open In Colab\"/></a>"
      ]
    },
    {
      "cell_type": "code",
      "metadata": {
        "id": "TDa-au0ApIKy",
        "colab_type": "code",
        "outputId": "64d873e8-298e-4e36-8cbc-c1d05485c5a6",
        "colab": {
          "base_uri": "https://localhost:8080/",
          "height": 669
        }
      },
      "source": [
        "!pip install mne\n",
        "!pip install wfdb"
      ],
      "execution_count": 1,
      "outputs": [
        {
          "output_type": "stream",
          "text": [
            "Collecting mne\n",
            "\u001b[?25l  Downloading https://files.pythonhosted.org/packages/01/af/9c64ac8f75b1c932ca5fb16bc27740cd9b9817f9173a6608ae999e82bb6a/mne-0.20.0-py3-none-any.whl (6.5MB)\n",
            "\u001b[K     |████████████████████████████████| 6.6MB 4.1MB/s \n",
            "\u001b[?25hRequirement already satisfied: numpy>=1.11.3 in /usr/local/lib/python3.6/dist-packages (from mne) (1.18.2)\n",
            "Requirement already satisfied: scipy>=0.17.1 in /usr/local/lib/python3.6/dist-packages (from mne) (1.4.1)\n",
            "Installing collected packages: mne\n",
            "Successfully installed mne-0.20.0\n",
            "Collecting wfdb\n",
            "\u001b[?25l  Downloading https://files.pythonhosted.org/packages/b2/96/c2200539fdf4f087e14d30ed62a66544b6f441196bcb8ecc7a29ec6503b9/wfdb-2.2.1.tar.gz (94kB)\n",
            "\u001b[K     |████████████████████████████████| 102kB 4.3MB/s \n",
            "\u001b[?25hCollecting nose>=1.3.7\n",
            "\u001b[?25l  Downloading https://files.pythonhosted.org/packages/15/d8/dd071918c040f50fa1cf80da16423af51ff8ce4a0f2399b7bf8de45ac3d9/nose-1.3.7-py3-none-any.whl (154kB)\n",
            "\u001b[K     |████████████████████████████████| 163kB 9.2MB/s \n",
            "\u001b[?25hRequirement already satisfied: numpy>=1.11.0 in /usr/local/lib/python3.6/dist-packages (from wfdb) (1.18.2)\n",
            "Requirement already satisfied: matplotlib>=1.5.1 in /usr/local/lib/python3.6/dist-packages (from wfdb) (3.2.1)\n",
            "Requirement already satisfied: requests>=2.10.0 in /usr/local/lib/python3.6/dist-packages (from wfdb) (2.21.0)\n",
            "Requirement already satisfied: pandas>=0.19.1 in /usr/local/lib/python3.6/dist-packages (from wfdb) (0.25.3)\n",
            "Requirement already satisfied: scipy>=0.19.0 in /usr/local/lib/python3.6/dist-packages (from wfdb) (1.4.1)\n",
            "Requirement already satisfied: sklearn>=0.0 in /usr/local/lib/python3.6/dist-packages (from wfdb) (0.0)\n",
            "Requirement already satisfied: cycler>=0.10 in /usr/local/lib/python3.6/dist-packages (from matplotlib>=1.5.1->wfdb) (0.10.0)\n",
            "Requirement already satisfied: python-dateutil>=2.1 in /usr/local/lib/python3.6/dist-packages (from matplotlib>=1.5.1->wfdb) (2.8.1)\n",
            "Requirement already satisfied: pyparsing!=2.0.4,!=2.1.2,!=2.1.6,>=2.0.1 in /usr/local/lib/python3.6/dist-packages (from matplotlib>=1.5.1->wfdb) (2.4.6)\n",
            "Requirement already satisfied: kiwisolver>=1.0.1 in /usr/local/lib/python3.6/dist-packages (from matplotlib>=1.5.1->wfdb) (1.1.0)\n",
            "Requirement already satisfied: certifi>=2017.4.17 in /usr/local/lib/python3.6/dist-packages (from requests>=2.10.0->wfdb) (2019.11.28)\n",
            "Requirement already satisfied: chardet<3.1.0,>=3.0.2 in /usr/local/lib/python3.6/dist-packages (from requests>=2.10.0->wfdb) (3.0.4)\n",
            "Requirement already satisfied: idna<2.9,>=2.5 in /usr/local/lib/python3.6/dist-packages (from requests>=2.10.0->wfdb) (2.8)\n",
            "Requirement already satisfied: urllib3<1.25,>=1.21.1 in /usr/local/lib/python3.6/dist-packages (from requests>=2.10.0->wfdb) (1.24.3)\n",
            "Requirement already satisfied: pytz>=2017.2 in /usr/local/lib/python3.6/dist-packages (from pandas>=0.19.1->wfdb) (2018.9)\n",
            "Requirement already satisfied: scikit-learn in /usr/local/lib/python3.6/dist-packages (from sklearn>=0.0->wfdb) (0.22.2.post1)\n",
            "Requirement already satisfied: six in /usr/local/lib/python3.6/dist-packages (from cycler>=0.10->matplotlib>=1.5.1->wfdb) (1.12.0)\n",
            "Requirement already satisfied: setuptools in /usr/local/lib/python3.6/dist-packages (from kiwisolver>=1.0.1->matplotlib>=1.5.1->wfdb) (46.0.0)\n",
            "Requirement already satisfied: joblib>=0.11 in /usr/local/lib/python3.6/dist-packages (from scikit-learn->sklearn>=0.0->wfdb) (0.14.1)\n",
            "Building wheels for collected packages: wfdb\n",
            "  Building wheel for wfdb (setup.py) ... \u001b[?25l\u001b[?25hdone\n",
            "  Created wheel for wfdb: filename=wfdb-2.2.1-cp36-none-any.whl size=100368 sha256=1f67725fe26421333cfa709d1b50b2626ec25d0847101c7bc998b057951ea6a5\n",
            "  Stored in directory: /root/.cache/pip/wheels/bb/a9/00/0078d26b0c15b31be0001af8eb659496709c361c69641303f1\n",
            "Successfully built wfdb\n",
            "Installing collected packages: nose, wfdb\n",
            "Successfully installed nose-1.3.7 wfdb-2.2.1\n"
          ],
          "name": "stdout"
        }
      ]
    },
    {
      "cell_type": "code",
      "metadata": {
        "id": "UHz9lwK2N46S",
        "colab_type": "code",
        "colab": {
          "base_uri": "https://localhost:8080/",
          "height": 117
        },
        "outputId": "cf925824-83b5-4ff4-d9c9-87b34ef1d5f6"
      },
      "source": [
        "!pip install tsaug"
      ],
      "execution_count": 2,
      "outputs": [
        {
          "output_type": "stream",
          "text": [
            "Collecting tsaug\n",
            "  Downloading https://files.pythonhosted.org/packages/25/58/d6a5215fb5fdfa25aab427d7d98326adb8f8e67267992d6333067a402676/tsaug-0.1.1-py3-none-any.whl\n",
            "Requirement already satisfied: scipy>=1.3 in /usr/local/lib/python3.6/dist-packages (from tsaug) (1.4.1)\n",
            "Requirement already satisfied: numpy>=1.14 in /usr/local/lib/python3.6/dist-packages (from tsaug) (1.18.2)\n",
            "Installing collected packages: tsaug\n",
            "Successfully installed tsaug-0.1.1\n"
          ],
          "name": "stdout"
        }
      ]
    },
    {
      "cell_type": "code",
      "metadata": {
        "id": "Nl1l8SkzOHjH",
        "colab_type": "code",
        "colab": {}
      },
      "source": [
        ""
      ],
      "execution_count": 0,
      "outputs": []
    },
    {
      "cell_type": "code",
      "metadata": {
        "id": "xDhvk7IwpOmL",
        "colab_type": "code",
        "outputId": "ae30b97d-98d7-4cc6-f17d-d9186120bd31",
        "colab": {
          "base_uri": "https://localhost:8080/",
          "height": 67
        }
      },
      "source": [
        "import wfdb\n",
        "dbs = wfdb.get_dbs()\n",
        "wfdb.dl_database('eegmat','data')"
      ],
      "execution_count": 3,
      "outputs": [
        {
          "output_type": "stream",
          "text": [
            "Created local base download directory: data\n",
            "Downloading files...\n",
            "Finished downloading files\n"
          ],
          "name": "stdout"
        }
      ]
    },
    {
      "cell_type": "code",
      "metadata": {
        "id": "t80u8maUo8Vg",
        "colab_type": "code",
        "colab": {}
      },
      "source": [
        "\n",
        "import numpy as np\n",
        "import pandas as pd\n",
        "import matplotlib.pyplot as plt\n",
        "import progressbar\n",
        "import re\n",
        "import mne\n",
        "from scipy import stats"
      ],
      "execution_count": 0,
      "outputs": []
    },
    {
      "cell_type": "code",
      "metadata": {
        "id": "r9c-llvqpv1j",
        "colab_type": "code",
        "outputId": "30eebb1c-01a6-4ae0-926b-9085e9bd055e",
        "colab": {
          "base_uri": "https://localhost:8080/",
          "height": 1000
        }
      },
      "source": [
        "import os\n",
        "import glob\n",
        "path = r'/content/data/' # use your path\n",
        "all_files = glob.glob(os.path.join(path, \"*.edf\")) \n",
        "\n",
        "data1=[]\n",
        "data2=[]\n",
        "for filename in (all_files):\n",
        "    if int(re.findall(r'\\d+',filename)[1])==1:\n",
        "        data1.append(mne.io.read_raw_edf(filename,preload=True).get_data()[0:-3,::]);\n",
        "    else:\n",
        "        data2.append(mne.io.read_raw_edf(filename,preload=True).get_data()[0:-3,::]);"
      ],
      "execution_count": 5,
      "outputs": [
        {
          "output_type": "stream",
          "text": [
            "Extracting EDF parameters from /content/data/Subject31_1.edf...\n",
            "EDF file detected\n",
            "Setting channel info structure...\n",
            "Creating raw.info structure...\n",
            "Reading 0 ... 39999  =      0.000 ...    79.998 secs...\n",
            "Extracting EDF parameters from /content/data/Subject01_2.edf...\n",
            "EDF file detected\n",
            "Setting channel info structure...\n",
            "Creating raw.info structure...\n",
            "Reading 0 ... 30999  =      0.000 ...    61.998 secs...\n",
            "Extracting EDF parameters from /content/data/Subject00_2.edf...\n",
            "EDF file detected\n",
            "Setting channel info structure...\n",
            "Creating raw.info structure...\n",
            "Reading 0 ... 30999  =      0.000 ...    61.998 secs...\n",
            "Extracting EDF parameters from /content/data/Subject16_1.edf...\n",
            "EDF file detected\n",
            "Setting channel info structure...\n",
            "Creating raw.info structure...\n",
            "Reading 0 ... 90999  =      0.000 ...   181.998 secs...\n",
            "Extracting EDF parameters from /content/data/Subject16_2.edf...\n",
            "EDF file detected\n",
            "Setting channel info structure...\n",
            "Creating raw.info structure...\n",
            "Reading 0 ... 30999  =      0.000 ...    61.998 secs...\n",
            "Extracting EDF parameters from /content/data/Subject20_1.edf...\n",
            "EDF file detected\n",
            "Setting channel info structure...\n",
            "Creating raw.info structure...\n",
            "Reading 0 ... 90999  =      0.000 ...   181.998 secs...\n",
            "Extracting EDF parameters from /content/data/Subject18_2.edf...\n",
            "EDF file detected\n",
            "Setting channel info structure...\n",
            "Creating raw.info structure...\n",
            "Reading 0 ... 30999  =      0.000 ...    61.998 secs...\n",
            "Extracting EDF parameters from /content/data/Subject33_2.edf...\n",
            "EDF file detected\n",
            "Setting channel info structure...\n",
            "Creating raw.info structure...\n",
            "Reading 0 ... 30999  =      0.000 ...    61.998 secs...\n",
            "Extracting EDF parameters from /content/data/Subject12_1.edf...\n",
            "EDF file detected\n",
            "Setting channel info structure...\n",
            "Creating raw.info structure...\n",
            "Reading 0 ... 90999  =      0.000 ...   181.998 secs...\n",
            "Extracting EDF parameters from /content/data/Subject32_2.edf...\n",
            "EDF file detected\n",
            "Setting channel info structure...\n",
            "Creating raw.info structure...\n",
            "Reading 0 ... 30999  =      0.000 ...    61.998 secs...\n",
            "Extracting EDF parameters from /content/data/Subject05_2.edf...\n",
            "EDF file detected\n",
            "Setting channel info structure...\n",
            "Creating raw.info structure...\n",
            "Reading 0 ... 30999  =      0.000 ...    61.998 secs...\n",
            "Extracting EDF parameters from /content/data/Subject19_1.edf...\n",
            "EDF file detected\n",
            "Setting channel info structure...\n",
            "Creating raw.info structure...\n",
            "Reading 0 ... 90999  =      0.000 ...   181.998 secs...\n",
            "Extracting EDF parameters from /content/data/Subject09_2.edf...\n",
            "EDF file detected\n",
            "Setting channel info structure...\n",
            "Creating raw.info structure...\n",
            "Reading 0 ... 30999  =      0.000 ...    61.998 secs...\n",
            "Extracting EDF parameters from /content/data/Subject26_2.edf...\n",
            "EDF file detected\n",
            "Setting channel info structure...\n",
            "Creating raw.info structure...\n",
            "Reading 0 ... 30999  =      0.000 ...    61.998 secs...\n",
            "Extracting EDF parameters from /content/data/Subject25_2.edf...\n",
            "EDF file detected\n",
            "Setting channel info structure...\n",
            "Creating raw.info structure...\n",
            "Reading 0 ... 30999  =      0.000 ...    61.998 secs...\n",
            "Extracting EDF parameters from /content/data/Subject13_2.edf...\n",
            "EDF file detected\n",
            "Setting channel info structure...\n",
            "Creating raw.info structure...\n",
            "Reading 0 ... 30999  =      0.000 ...    61.998 secs...\n",
            "Extracting EDF parameters from /content/data/Subject26_1.edf...\n",
            "EDF file detected\n",
            "Setting channel info structure...\n",
            "Creating raw.info structure...\n",
            "Reading 0 ... 90999  =      0.000 ...   181.998 secs...\n",
            "Extracting EDF parameters from /content/data/Subject28_1.edf...\n",
            "EDF file detected\n",
            "Setting channel info structure...\n",
            "Creating raw.info structure...\n",
            "Reading 0 ... 90999  =      0.000 ...   181.998 secs...\n",
            "Extracting EDF parameters from /content/data/Subject13_1.edf...\n",
            "EDF file detected\n",
            "Setting channel info structure...\n",
            "Creating raw.info structure...\n",
            "Reading 0 ... 90999  =      0.000 ...   181.998 secs...\n",
            "Extracting EDF parameters from /content/data/Subject27_2.edf...\n",
            "EDF file detected\n",
            "Setting channel info structure...\n",
            "Creating raw.info structure...\n",
            "Reading 0 ... 30999  =      0.000 ...    61.998 secs...\n",
            "Extracting EDF parameters from /content/data/Subject04_2.edf...\n",
            "EDF file detected\n",
            "Setting channel info structure...\n",
            "Creating raw.info structure...\n",
            "Reading 0 ... 30999  =      0.000 ...    61.998 secs...\n",
            "Extracting EDF parameters from /content/data/Subject24_1.edf...\n",
            "EDF file detected\n",
            "Setting channel info structure...\n",
            "Creating raw.info structure...\n",
            "Reading 0 ... 90999  =      0.000 ...   181.998 secs...\n",
            "Extracting EDF parameters from /content/data/Subject35_2.edf...\n",
            "EDF file detected\n",
            "Setting channel info structure...\n",
            "Creating raw.info structure...\n",
            "Reading 0 ... 30999  =      0.000 ...    61.998 secs...\n",
            "Extracting EDF parameters from /content/data/Subject06_2.edf...\n",
            "EDF file detected\n",
            "Setting channel info structure...\n",
            "Creating raw.info structure...\n",
            "Reading 0 ... 30999  =      0.000 ...    61.998 secs...\n",
            "Extracting EDF parameters from /content/data/Subject01_1.edf...\n",
            "EDF file detected\n",
            "Setting channel info structure...\n",
            "Creating raw.info structure...\n",
            "Reading 0 ... 90999  =      0.000 ...   181.998 secs...\n",
            "Extracting EDF parameters from /content/data/Subject35_1.edf...\n",
            "EDF file detected\n",
            "Setting channel info structure...\n",
            "Creating raw.info structure...\n",
            "Reading 0 ... 90999  =      0.000 ...   181.998 secs...\n",
            "Extracting EDF parameters from /content/data/Subject06_1.edf...\n",
            "EDF file detected\n",
            "Setting channel info structure...\n",
            "Creating raw.info structure...\n",
            "Reading 0 ... 90999  =      0.000 ...   181.998 secs...\n",
            "Extracting EDF parameters from /content/data/Subject04_1.edf...\n",
            "EDF file detected\n",
            "Setting channel info structure...\n",
            "Creating raw.info structure...\n",
            "Reading 0 ... 84999  =      0.000 ...   169.998 secs...\n",
            "Extracting EDF parameters from /content/data/Subject19_2.edf...\n",
            "EDF file detected\n",
            "Setting channel info structure...\n",
            "Creating raw.info structure...\n",
            "Reading 0 ... 30999  =      0.000 ...    61.998 secs...\n",
            "Extracting EDF parameters from /content/data/Subject17_1.edf...\n",
            "EDF file detected\n",
            "Setting channel info structure...\n",
            "Creating raw.info structure...\n",
            "Reading 0 ... 90999  =      0.000 ...   181.998 secs...\n",
            "Extracting EDF parameters from /content/data/Subject02_2.edf...\n",
            "EDF file detected\n",
            "Setting channel info structure...\n",
            "Creating raw.info structure...\n",
            "Reading 0 ... 30999  =      0.000 ...    61.998 secs...\n",
            "Extracting EDF parameters from /content/data/Subject18_1.edf...\n",
            "EDF file detected\n",
            "Setting channel info structure...\n",
            "Creating raw.info structure...\n",
            "Reading 0 ... 90999  =      0.000 ...   181.998 secs...\n",
            "Extracting EDF parameters from /content/data/Subject00_1.edf...\n",
            "EDF file detected\n",
            "Setting channel info structure...\n",
            "Creating raw.info structure...\n",
            "Reading 0 ... 90999  =      0.000 ...   181.998 secs...\n",
            "Extracting EDF parameters from /content/data/Subject28_2.edf...\n",
            "EDF file detected\n",
            "Setting channel info structure...\n",
            "Creating raw.info structure...\n",
            "Reading 0 ... 30999  =      0.000 ...    61.998 secs...\n",
            "Extracting EDF parameters from /content/data/Subject11_1.edf...\n",
            "EDF file detected\n",
            "Setting channel info structure...\n",
            "Creating raw.info structure...\n",
            "Reading 0 ... 90999  =      0.000 ...   181.998 secs...\n",
            "Extracting EDF parameters from /content/data/Subject08_2.edf...\n",
            "EDF file detected\n",
            "Setting channel info structure...\n",
            "Creating raw.info structure...\n",
            "Reading 0 ... 30999  =      0.000 ...    61.998 secs...\n",
            "Extracting EDF parameters from /content/data/Subject07_2.edf...\n",
            "EDF file detected\n",
            "Setting channel info structure...\n",
            "Creating raw.info structure...\n",
            "Reading 0 ... 30999  =      0.000 ...    61.998 secs...\n",
            "Extracting EDF parameters from /content/data/Subject34_1.edf...\n",
            "EDF file detected\n",
            "Setting channel info structure...\n",
            "Creating raw.info structure...\n",
            "Reading 0 ... 90999  =      0.000 ...   181.998 secs...\n",
            "Extracting EDF parameters from /content/data/Subject07_1.edf...\n",
            "EDF file detected\n",
            "Setting channel info structure...\n",
            "Creating raw.info structure...\n",
            "Reading 0 ... 90999  =      0.000 ...   181.998 secs...\n",
            "Extracting EDF parameters from /content/data/Subject10_1.edf...\n",
            "EDF file detected\n",
            "Setting channel info structure...\n",
            "Creating raw.info structure...\n",
            "Reading 0 ... 93999  =      0.000 ...   187.998 secs...\n",
            "Extracting EDF parameters from /content/data/Subject29_1.edf...\n",
            "EDF file detected\n",
            "Setting channel info structure...\n",
            "Creating raw.info structure...\n",
            "Reading 0 ... 90999  =      0.000 ...   181.998 secs...\n",
            "Extracting EDF parameters from /content/data/Subject15_2.edf...\n",
            "EDF file detected\n",
            "Setting channel info structure...\n",
            "Creating raw.info structure...\n",
            "Reading 0 ... 30999  =      0.000 ...    61.998 secs...\n",
            "Extracting EDF parameters from /content/data/Subject27_1.edf...\n",
            "EDF file detected\n",
            "Setting channel info structure...\n",
            "Creating raw.info structure...\n",
            "Reading 0 ... 90999  =      0.000 ...   181.998 secs...\n",
            "Extracting EDF parameters from /content/data/Subject05_1.edf...\n",
            "EDF file detected\n",
            "Setting channel info structure...\n",
            "Creating raw.info structure...\n",
            "Reading 0 ... 90999  =      0.000 ...   181.998 secs...\n",
            "Extracting EDF parameters from /content/data/Subject30_1.edf...\n",
            "EDF file detected\n",
            "Setting channel info structure...\n",
            "Creating raw.info structure...\n",
            "Reading 0 ... 90999  =      0.000 ...   181.998 secs...\n",
            "Extracting EDF parameters from /content/data/Subject11_2.edf...\n",
            "EDF file detected\n",
            "Setting channel info structure...\n",
            "Creating raw.info structure...\n",
            "Reading 0 ... 30999  =      0.000 ...    61.998 secs...\n",
            "Extracting EDF parameters from /content/data/Subject34_2.edf...\n",
            "EDF file detected\n",
            "Setting channel info structure...\n",
            "Creating raw.info structure...\n",
            "Reading 0 ... 30999  =      0.000 ...    61.998 secs...\n",
            "Extracting EDF parameters from /content/data/Subject20_2.edf...\n",
            "EDF file detected\n",
            "Setting channel info structure...\n",
            "Creating raw.info structure...\n",
            "Reading 0 ... 30999  =      0.000 ...    61.998 secs...\n",
            "Extracting EDF parameters from /content/data/Subject32_1.edf...\n",
            "EDF file detected\n",
            "Setting channel info structure...\n",
            "Creating raw.info structure...\n",
            "Reading 0 ... 90999  =      0.000 ...   181.998 secs...\n",
            "Extracting EDF parameters from /content/data/Subject25_1.edf...\n",
            "EDF file detected\n",
            "Setting channel info structure...\n",
            "Creating raw.info structure...\n",
            "Reading 0 ... 90999  =      0.000 ...   181.998 secs...\n",
            "Extracting EDF parameters from /content/data/Subject30_2.edf...\n",
            "EDF file detected\n",
            "Setting channel info structure...\n",
            "Creating raw.info structure...\n",
            "Reading 0 ... 30999  =      0.000 ...    61.998 secs...\n",
            "Extracting EDF parameters from /content/data/Subject23_1.edf...\n",
            "EDF file detected\n",
            "Setting channel info structure...\n",
            "Creating raw.info structure...\n",
            "Reading 0 ... 90999  =      0.000 ...   181.998 secs...\n",
            "Extracting EDF parameters from /content/data/Subject09_1.edf...\n",
            "EDF file detected\n",
            "Setting channel info structure...\n",
            "Creating raw.info structure...\n",
            "Reading 0 ... 90999  =      0.000 ...   181.998 secs...\n",
            "Extracting EDF parameters from /content/data/Subject22_1.edf...\n",
            "EDF file detected\n",
            "Setting channel info structure...\n",
            "Creating raw.info structure...\n",
            "Reading 0 ... 90999  =      0.000 ...   181.998 secs...\n",
            "Extracting EDF parameters from /content/data/Subject23_2.edf...\n",
            "EDF file detected\n",
            "Setting channel info structure...\n",
            "Creating raw.info structure...\n",
            "Reading 0 ... 30999  =      0.000 ...    61.998 secs...\n",
            "Extracting EDF parameters from /content/data/Subject21_1.edf...\n",
            "EDF file detected\n",
            "Setting channel info structure...\n",
            "Creating raw.info structure...\n",
            "Reading 0 ... 90999  =      0.000 ...   181.998 secs...\n",
            "Extracting EDF parameters from /content/data/Subject03_2.edf...\n",
            "EDF file detected\n",
            "Setting channel info structure...\n",
            "Creating raw.info structure...\n",
            "Reading 0 ... 30999  =      0.000 ...    61.998 secs...\n",
            "Extracting EDF parameters from /content/data/Subject29_2.edf...\n",
            "EDF file detected\n",
            "Setting channel info structure...\n",
            "Creating raw.info structure...\n",
            "Reading 0 ... 30999  =      0.000 ...    61.998 secs...\n",
            "Extracting EDF parameters from /content/data/Subject15_1.edf...\n",
            "EDF file detected\n",
            "Setting channel info structure...\n",
            "Creating raw.info structure...\n",
            "Reading 0 ... 90999  =      0.000 ...   181.998 secs...\n",
            "Extracting EDF parameters from /content/data/Subject02_1.edf...\n",
            "EDF file detected\n",
            "Setting channel info structure...\n",
            "Creating raw.info structure...\n",
            "Reading 0 ... 90999  =      0.000 ...   181.998 secs...\n",
            "Extracting EDF parameters from /content/data/Subject17_2.edf...\n",
            "EDF file detected\n",
            "Setting channel info structure...\n",
            "Creating raw.info structure...\n",
            "Reading 0 ... 30999  =      0.000 ...    61.998 secs...\n",
            "Extracting EDF parameters from /content/data/Subject08_1.edf...\n",
            "EDF file detected\n",
            "Setting channel info structure...\n",
            "Creating raw.info structure...\n",
            "Reading 0 ... 90999  =      0.000 ...   181.998 secs...\n",
            "Extracting EDF parameters from /content/data/Subject14_1.edf...\n",
            "EDF file detected\n",
            "Setting channel info structure...\n",
            "Creating raw.info structure...\n",
            "Reading 0 ... 90999  =      0.000 ...   181.998 secs...\n",
            "Extracting EDF parameters from /content/data/Subject10_2.edf...\n",
            "EDF file detected\n",
            "Setting channel info structure...\n",
            "Creating raw.info structure...\n",
            "Reading 0 ... 30999  =      0.000 ...    61.998 secs...\n",
            "Extracting EDF parameters from /content/data/Subject12_2.edf...\n",
            "EDF file detected\n",
            "Setting channel info structure...\n",
            "Creating raw.info structure...\n",
            "Reading 0 ... 30999  =      0.000 ...    61.998 secs...\n",
            "Extracting EDF parameters from /content/data/Subject33_1.edf...\n",
            "EDF file detected\n",
            "Setting channel info structure...\n",
            "Creating raw.info structure...\n",
            "Reading 0 ... 90999  =      0.000 ...   181.998 secs...\n",
            "Extracting EDF parameters from /content/data/Subject21_2.edf...\n",
            "EDF file detected\n",
            "Setting channel info structure...\n",
            "Creating raw.info structure...\n",
            "Reading 0 ... 30999  =      0.000 ...    61.998 secs...\n",
            "Extracting EDF parameters from /content/data/Subject14_2.edf...\n",
            "EDF file detected\n",
            "Setting channel info structure...\n",
            "Creating raw.info structure...\n",
            "Reading 0 ... 30999  =      0.000 ...    61.998 secs...\n",
            "Extracting EDF parameters from /content/data/Subject22_2.edf...\n",
            "EDF file detected\n",
            "Setting channel info structure...\n",
            "Creating raw.info structure...\n",
            "Reading 0 ... 30999  =      0.000 ...    61.998 secs...\n",
            "Extracting EDF parameters from /content/data/Subject24_2.edf...\n",
            "EDF file detected\n",
            "Setting channel info structure...\n",
            "Creating raw.info structure...\n",
            "Reading 0 ... 30999  =      0.000 ...    61.998 secs...\n",
            "Extracting EDF parameters from /content/data/Subject31_2.edf...\n",
            "EDF file detected\n",
            "Setting channel info structure...\n",
            "Creating raw.info structure...\n",
            "Reading 0 ... 30999  =      0.000 ...    61.998 secs...\n",
            "Extracting EDF parameters from /content/data/Subject03_1.edf...\n",
            "EDF file detected\n",
            "Setting channel info structure...\n",
            "Creating raw.info structure...\n",
            "Reading 0 ... 90999  =      0.000 ...   181.998 secs...\n"
          ],
          "name": "stdout"
        }
      ]
    },
    {
      "cell_type": "code",
      "metadata": {
        "id": "5eLxNAdTp1gf",
        "colab_type": "code",
        "outputId": "8516e574-2dbf-4da4-cb65-2c154dc1b5d0",
        "colab": {
          "base_uri": "https://localhost:8080/",
          "height": 33
        }
      },
      "source": [
        "data1[0].shape"
      ],
      "execution_count": 6,
      "outputs": [
        {
          "output_type": "execute_result",
          "data": {
            "text/plain": [
              "(18, 40000)"
            ]
          },
          "metadata": {
            "tags": []
          },
          "execution_count": 6
        }
      ]
    },
    {
      "cell_type": "code",
      "metadata": {
        "id": "s-lYdxdrOSEa",
        "colab_type": "code",
        "colab": {
          "base_uri": "https://localhost:8080/",
          "height": 33
        },
        "outputId": "6591b018-25c2-489c-e197-068270bf919f"
      },
      "source": [
        "data1[0][0].shape"
      ],
      "execution_count": 7,
      "outputs": [
        {
          "output_type": "execute_result",
          "data": {
            "text/plain": [
              "(40000,)"
            ]
          },
          "metadata": {
            "tags": []
          },
          "execution_count": 7
        }
      ]
    },
    {
      "cell_type": "code",
      "metadata": {
        "id": "UU2iT7smRc2c",
        "colab_type": "code",
        "colab": {}
      },
      "source": [
        ""
      ],
      "execution_count": 0,
      "outputs": []
    },
    {
      "cell_type": "code",
      "metadata": {
        "id": "-2KerLrZNz54",
        "colab_type": "code",
        "colab": {}
      },
      "source": [
        "\n",
        "from tsaug import *\n",
        "my_aug = (\n",
        "    RandomMagnify(max_zoom=4.0, min_zoom=2.0) * 2\n",
        "    + RandomTimeWarp() * 2\n",
        "    + RandomJitter(strength=0.1) @ 0.5\n",
        "    + RandomTrend(min_anchor=-0.5, max_anchor=0.5) @ 0.5\n",
        "    + RandomAffine() @ 0.5\n",
        "    + RandomCrop() * 2\n",
        "    + RandomCrossSum() @ 0.5\n",
        "    + RandomSidetrack() @ 0.5\n",
        ")\n"
      ],
      "execution_count": 0,
      "outputs": []
    },
    {
      "cell_type": "code",
      "metadata": {
        "id": "qD9x0KCFOamT",
        "colab_type": "code",
        "colab": {
          "base_uri": "https://localhost:8080/",
          "height": 204
        },
        "outputId": "f6bb6cc9-c648-4b93-fa4e-eac1b68bbd42"
      },
      "source": [
        "my_aug.summary()\n"
      ],
      "execution_count": 9,
      "outputs": [
        {
          "output_type": "stream",
          "text": [
            "Augmentor \t M \t Prob \t Output Size \t Params\n",
            "====================================================================================================\n",
            "RandomMagnify \t 2 \t 1.0 \t (2N, n, c) \t {'max_zoom': 4.0, 'min_zoom': 2.0, 'random_seed': None}\n",
            "RandomTimeWarp \t 2 \t 1.0 \t (4N, n, c) \t {'n_speed_change': 3, 'random_seed': None}\n",
            "RandomJitter \t 1 \t 0.5 \t (4N, n, c) \t {'dist': 'normal', 'strength': 0.1, 'random_seed': None}\n",
            "RandomTrend \t 1 \t 0.5 \t (4N, n, c) \t {'num_anchors': 5, 'min_anchor': -0.5, 'max_anchor': 0.5, 'random_seed': None}\n",
            "RandomAffine \t 1 \t 0.5 \t (4N, n, c) \t {'max_a': 10.0, 'min_a': -10.0, 'max_b': 100.0, 'min_b': -100.0, 'random_seed': None}\n",
            "RandomCrop \t 2 \t 1.0 \t (8N, n, c) \t {'crop_size': None, 'crops_per_series': 1, 'random_seed': None}\n",
            "RandomCrossSum \t 1 \t 0.5 \t (8N, n, c) \t {'max_sum_series': 5, 'random_seed': None}\n",
            "RandomSidetrack \t 1 \t 0.5 \t (8N, n, c) \t {'mode': 'multiplicative', 'initial_sidetrack': None, 'max_sidetrack': None, 'min_sidetrack': None, 'step_mu': 0, 'step_sigma': 0.1, 'random_seed': None}\n"
          ],
          "name": "stdout"
        }
      ]
    },
    {
      "cell_type": "code",
      "metadata": {
        "id": "1EPoL_XZQQXn",
        "colab_type": "code",
        "colab": {}
      },
      "source": [
        ""
      ],
      "execution_count": 0,
      "outputs": []
    },
    {
      "cell_type": "code",
      "metadata": {
        "id": "YVQEdJSeOXlW",
        "colab_type": "code",
        "colab": {}
      },
      "source": [
        ""
      ],
      "execution_count": 0,
      "outputs": []
    },
    {
      "cell_type": "code",
      "metadata": {
        "id": "HVQdoOdDpzlL",
        "colab_type": "code",
        "colab": {}
      },
      "source": [
        "dim=500\n",
        "def reshape(data):   \n",
        "    shape=data.ravel().shape[0]\n",
        "    s=shape%(18*500)\n",
        "    if s!=0:\n",
        "        d=data.ravel()[s//2:-s//2].reshape(-1,dim,18)\n",
        "        #return np.swapaxes(d,1,2)   \n",
        "        return d\n",
        "    else: \n",
        "        d1=data.reshape(-1,dim,18)\n",
        "        #return np.swapaxes(d1,1,2)   \n",
        "        return d1"
      ],
      "execution_count": 0,
      "outputs": []
    },
    {
      "cell_type": "code",
      "metadata": {
        "id": "7xeA0gDYSU5d",
        "colab_type": "code",
        "colab": {}
      },
      "source": [
        "data_1=[]\n",
        "for i in data1:\n",
        "    data_1.append(reshape(my_aug.run(i)))\n",
        "    \n",
        "\n",
        "    \n",
        "    \n",
        "data_2=[]\n",
        "for i in data2:\n",
        "    data_2.append(reshape(my_aug.run(i)))"
      ],
      "execution_count": 0,
      "outputs": []
    },
    {
      "cell_type": "code",
      "metadata": {
        "id": "LvVr_O6tXQ2Y",
        "colab_type": "code",
        "colab": {
          "base_uri": "https://localhost:8080/",
          "height": 33
        },
        "outputId": "35463862-9c86-4514-819d-a07e39db67e9"
      },
      "source": [
        "data_1[0].shape"
      ],
      "execution_count": 12,
      "outputs": [
        {
          "output_type": "execute_result",
          "data": {
            "text/plain": [
              "(640, 500, 18)"
            ]
          },
          "metadata": {
            "tags": []
          },
          "execution_count": 12
        }
      ]
    },
    {
      "cell_type": "code",
      "metadata": {
        "id": "OKFI0_CIvr_j",
        "colab_type": "code",
        "colab": {}
      },
      "source": [
        ""
      ],
      "execution_count": 0,
      "outputs": []
    },
    {
      "cell_type": "code",
      "metadata": {
        "id": "uBQWPUMdwXzc",
        "colab_type": "code",
        "outputId": "d0ee9ccb-0478-4ed9-d053-371960793818",
        "colab": {
          "base_uri": "https://localhost:8080/",
          "height": 33
        }
      },
      "source": [
        "len(data_1),len(data_2)"
      ],
      "execution_count": 13,
      "outputs": [
        {
          "output_type": "execute_result",
          "data": {
            "text/plain": [
              "(36, 36)"
            ]
          },
          "metadata": {
            "tags": []
          },
          "execution_count": 13
        }
      ]
    },
    {
      "cell_type": "code",
      "metadata": {
        "id": "tZ1Mvw1Qv36Y",
        "colab_type": "code",
        "outputId": "88a7f2f6-6f1b-4c1b-f5fd-aea51c6d5c99",
        "colab": {
          "base_uri": "https://localhost:8080/",
          "height": 33
        }
      },
      "source": [
        "import keras \n",
        "from tensorflow.keras.layers import Conv1D,MaxPool1D,AveragePooling1D,GlobalAveragePooling1D,Dropout,Dense,BatchNormalization,Flatten,LSTM,Input,concatenate,GlobalMaxPooling1D,Bidirectional\n",
        "from tensorflow.keras.models import Sequential,Model\n",
        "from tensorflow.keras.optimizers import Adam,RMSprop,SGD\n",
        "#from tensorflow.keras.activations import ReLU\n",
        "from tensorflow.keras.layers import LeakyReLU\n",
        "from sklearn.model_selection import StratifiedKFold    \n",
        "from sklearn.preprocessing import StandardScaler\n",
        "from sklearn.model_selection import StratifiedKFold\n",
        "from tensorflow.keras.callbacks import ModelCheckpoint,ReduceLROnPlateau\n",
        "from sklearn.utils import shuffle\n",
        "import tensorflow"
      ],
      "execution_count": 14,
      "outputs": [
        {
          "output_type": "stream",
          "text": [
            "Using TensorFlow backend.\n"
          ],
          "name": "stderr"
        }
      ]
    },
    {
      "cell_type": "code",
      "metadata": {
        "id": "3H2hVqkWdSVH",
        "colab_type": "code",
        "colab": {}
      },
      "source": [
        "from tensorflow.keras.callbacks import ReduceLROnPlateau,ModelCheckpoint\n",
        "reduce_lr = ReduceLROnPlateau(monitor='val_loss', factor=0.4,\n",
        "                              patience=3, min_lr=0.000001, verbose=1)"
      ],
      "execution_count": 0,
      "outputs": []
    },
    {
      "cell_type": "code",
      "metadata": {
        "id": "aXGymbDNv6JK",
        "colab_type": "code",
        "outputId": "e9715022-49c3-407e-8f10-c26a6b640372",
        "colab": {
          "base_uri": "https://localhost:8080/",
          "height": 1000
        }
      },
      "source": [
        "\n",
        "history=[]\n",
        "test_accuracy=[]\n",
        "val_accuracy=[]\n",
        "for i in range(34):\n",
        "    HC=data_1.copy()\n",
        "    SZ=data_2.copy()\n",
        "    #train, test, val data\n",
        "    Xtest0=np.array(HC.pop(i))\n",
        "    Xval0=np.array(HC.pop(i+1))\n",
        "    Xtrain0=np.concatenate(HC)\n",
        "    #create labels for them\n",
        "    ytest0=np.zeros(Xtest0.shape[0])\n",
        "    yval0=np.zeros(Xval0.shape[0])\n",
        "    ytrain0=np.zeros(Xtrain0.shape[0])\n",
        "    \n",
        "    #create rain, test, val data\n",
        "    Xtest1=np.array(SZ.pop(i))\n",
        "    Xval1=np.array(SZ.pop(i+1))\n",
        "    Xtrain1=np.concatenate(SZ)\n",
        "\n",
        "    ytest1=np.ones(Xtest1.shape[0])\n",
        "    yval1=np.ones(Xval1.shape[0])\n",
        "    ytrain1=np.ones(Xtrain1.shape[0])\n",
        "    #combined data\n",
        "    X_test=np.concatenate((Xtest0,Xtest1))\n",
        "    X_val=np.concatenate((Xval0,Xval1))\n",
        "    X_train=np.concatenate((Xtrain0,Xtrain1))\n",
        "    #combined labesl\n",
        "    y_test=np.concatenate((ytest0,ytest1))\n",
        "    y_val=np.concatenate((yval0,yval1))\n",
        "    y_train=np.concatenate((ytrain0,ytrain1))\n",
        "    \n",
        "    \n",
        "\n",
        "\n",
        "    # y_val=tensorflow.keras.utils.to_categorical(y_val)\n",
        "    # y_test=tensorflow.keras.utils.to_categorical(y_test)\n",
        "    # y_train=tensorflow.keras.utils.to_categorical(y_train)\n",
        "    \n",
        "    scaler=StandardScaler()\n",
        "    scalers = {}\n",
        "    for i in range(X_train.shape[2]):\n",
        "        scalers[i] = StandardScaler()\n",
        "        X_train[:, :, i] = scalers[i].fit_transform(X_train[:, :, i]) \n",
        "    \n",
        "    for i in range(X_test.shape[2]):\n",
        "        X_test[:, :, i] = scalers[i].transform(X_test[:, :, i])\n",
        "    \n",
        "    for i in range(X_test.shape[2]):\n",
        "        X_val[:, :, i] = scalers[i].transform(X_val[:, :, i])\n",
        "        \n",
        "    X_train,y_train=shuffle(X_train,y_train)\n",
        "    #X_val,y_val=shuffle(X_val,y_val)\n",
        "    #X_test,y_test=shuffle(X_test,y_test)\n",
        "\n",
        "    \n",
        "    inp=Input(shape=(dim,18))\n",
        "    x=LSTM(16, activation= 'tanh',recurrent_activation ='sigmoid',recurrent_dropout=0,unroll =False,use_bias =True,return_sequences = True)(inp)\n",
        "    x1=Conv1D(filters=16,kernel_size=3,strides=1,activation='relu')(x)\n",
        "    x1=GlobalMaxPooling1D()(x1)\n",
        "    x2=Conv1D(filters=16,kernel_size=5,strides=1,activation='relu')(x)\n",
        "    x2=GlobalMaxPooling1D()(x2)\n",
        "\n",
        "    x3=Conv1D(filters=16,kernel_size=7,strides=1,activation='relu')(x)\n",
        "    x3=GlobalMaxPooling1D()(x3)\n",
        "\n",
        "    x=concatenate([x1,x2,x3],axis=1)\n",
        "   \n",
        "    #x=Flatten()(x)\n",
        "    x=Dense(16,activation='relu')(x)\n",
        "    out=Dense(1,activation='sigmoid')(x)\n",
        "\n",
        "    model=Model(inp,out)\n",
        "    model.compile(optimizer=Adam(0.0001), loss='binary_crossentropy', metrics=['accuracy'] )\n",
        "    \n",
        " \n",
        "    history=model.fit(X_train,y_train,validation_data=(X_val,y_val),epochs=30,batch_size=30,verbose=2,callbacks=[reduce_lr])\n",
        "    val_accuracy.append(model.evaluate(X_val,y_val)[1])\n",
        "    test_accuracy.append(model.evaluate(X_test,y_test)[1])\n",
        "\n",
        "    tensorflow.keras.backend.clear_session()\n",
        "\n"
      ],
      "execution_count": 0,
      "outputs": [
        {
          "output_type": "stream",
          "text": [
            "Epoch 1/30\n",
            "2211/2211 - 49s - loss: 0.5663 - accuracy: 0.7456 - val_loss: 0.5691 - val_accuracy: 0.7459 - lr: 1.0000e-04\n",
            "Epoch 2/30\n",
            "2211/2211 - 49s - loss: 0.5528 - accuracy: 0.7457 - val_loss: 0.5668 - val_accuracy: 0.7459 - lr: 1.0000e-04\n",
            "Epoch 3/30\n",
            "2211/2211 - 49s - loss: 0.5504 - accuracy: 0.7456 - val_loss: 0.5655 - val_accuracy: 0.7459 - lr: 1.0000e-04\n",
            "Epoch 4/30\n",
            "2211/2211 - 49s - loss: 0.5489 - accuracy: 0.7455 - val_loss: 0.5613 - val_accuracy: 0.7418 - lr: 1.0000e-04\n",
            "Epoch 5/30\n",
            "2211/2211 - 49s - loss: 0.5479 - accuracy: 0.7451 - val_loss: 0.5601 - val_accuracy: 0.7454 - lr: 1.0000e-04\n",
            "Epoch 6/30\n",
            "2211/2211 - 49s - loss: 0.5466 - accuracy: 0.7456 - val_loss: 0.5608 - val_accuracy: 0.7444 - lr: 1.0000e-04\n",
            "Epoch 7/30\n",
            "2211/2211 - 49s - loss: 0.5463 - accuracy: 0.7459 - val_loss: 0.5595 - val_accuracy: 0.7433 - lr: 1.0000e-04\n",
            "Epoch 8/30\n",
            "2211/2211 - 49s - loss: 0.5457 - accuracy: 0.7458 - val_loss: 0.5578 - val_accuracy: 0.7459 - lr: 1.0000e-04\n",
            "Epoch 9/30\n",
            "2211/2211 - 49s - loss: 0.5452 - accuracy: 0.7462 - val_loss: 0.5600 - val_accuracy: 0.7459 - lr: 1.0000e-04\n",
            "Epoch 10/30\n",
            "2211/2211 - 49s - loss: 0.5446 - accuracy: 0.7465 - val_loss: 0.5588 - val_accuracy: 0.7444 - lr: 1.0000e-04\n",
            "Epoch 11/30\n",
            "2211/2211 - 49s - loss: 0.5439 - accuracy: 0.7466 - val_loss: 0.5541 - val_accuracy: 0.7439 - lr: 1.0000e-04\n",
            "Epoch 12/30\n",
            "2211/2211 - 49s - loss: 0.5435 - accuracy: 0.7462 - val_loss: 0.5574 - val_accuracy: 0.7439 - lr: 1.0000e-04\n",
            "Epoch 13/30\n",
            "2211/2211 - 49s - loss: 0.5430 - accuracy: 0.7462 - val_loss: 0.5553 - val_accuracy: 0.7464 - lr: 1.0000e-04\n",
            "Epoch 14/30\n",
            "2211/2211 - 48s - loss: 0.5429 - accuracy: 0.7462 - val_loss: 0.5539 - val_accuracy: 0.7408 - lr: 1.0000e-04\n",
            "Epoch 15/30\n",
            "2211/2211 - 49s - loss: 0.5428 - accuracy: 0.7466 - val_loss: 0.5551 - val_accuracy: 0.7444 - lr: 1.0000e-04\n",
            "Epoch 16/30\n",
            "2211/2211 - 49s - loss: 0.5421 - accuracy: 0.7470 - val_loss: 0.5539 - val_accuracy: 0.7428 - lr: 1.0000e-04\n",
            "Epoch 17/30\n",
            "2211/2211 - 49s - loss: 0.5419 - accuracy: 0.7461 - val_loss: 0.5538 - val_accuracy: 0.7433 - lr: 1.0000e-04\n",
            "Epoch 18/30\n",
            "2211/2211 - 48s - loss: 0.5421 - accuracy: 0.7467 - val_loss: 0.5562 - val_accuracy: 0.7433 - lr: 1.0000e-04\n",
            "Epoch 19/30\n",
            "2211/2211 - 48s - loss: 0.5418 - accuracy: 0.7468 - val_loss: 0.5553 - val_accuracy: 0.7459 - lr: 1.0000e-04\n",
            "Epoch 20/30\n",
            "\n",
            "Epoch 00020: ReduceLROnPlateau reducing learning rate to 3.9999998989515007e-05.\n",
            "2211/2211 - 48s - loss: 0.5415 - accuracy: 0.7465 - val_loss: 0.5554 - val_accuracy: 0.7449 - lr: 1.0000e-04\n",
            "Epoch 21/30\n",
            "2211/2211 - 48s - loss: 0.5401 - accuracy: 0.7469 - val_loss: 0.5525 - val_accuracy: 0.7433 - lr: 4.0000e-05\n",
            "Epoch 22/30\n",
            "2211/2211 - 48s - loss: 0.5397 - accuracy: 0.7475 - val_loss: 0.5518 - val_accuracy: 0.7454 - lr: 4.0000e-05\n",
            "Epoch 23/30\n",
            "2211/2211 - 49s - loss: 0.5395 - accuracy: 0.7475 - val_loss: 0.5524 - val_accuracy: 0.7418 - lr: 4.0000e-05\n",
            "Epoch 24/30\n",
            "2211/2211 - 50s - loss: 0.5395 - accuracy: 0.7476 - val_loss: 0.5529 - val_accuracy: 0.7433 - lr: 4.0000e-05\n",
            "Epoch 25/30\n",
            "\n",
            "Epoch 00025: ReduceLROnPlateau reducing learning rate to 1.5999999595806004e-05.\n",
            "2211/2211 - 50s - loss: 0.5393 - accuracy: 0.7479 - val_loss: 0.5559 - val_accuracy: 0.7444 - lr: 4.0000e-05\n",
            "Epoch 26/30\n",
            "2211/2211 - 49s - loss: 0.5386 - accuracy: 0.7478 - val_loss: 0.5521 - val_accuracy: 0.7433 - lr: 1.6000e-05\n",
            "Epoch 27/30\n",
            "2211/2211 - 50s - loss: 0.5385 - accuracy: 0.7481 - val_loss: 0.5515 - val_accuracy: 0.7439 - lr: 1.6000e-05\n",
            "Epoch 28/30\n",
            "2211/2211 - 50s - loss: 0.5385 - accuracy: 0.7474 - val_loss: 0.5524 - val_accuracy: 0.7428 - lr: 1.6000e-05\n",
            "Epoch 29/30\n",
            "2211/2211 - 50s - loss: 0.5384 - accuracy: 0.7477 - val_loss: 0.5520 - val_accuracy: 0.7459 - lr: 1.6000e-05\n",
            "Epoch 30/30\n",
            "2211/2211 - 50s - loss: 0.5382 - accuracy: 0.7478 - val_loss: 0.5505 - val_accuracy: 0.7449 - lr: 1.6000e-05\n",
            "61/61 [==============================] - 1s 10ms/step - loss: 0.5321 - accuracy: 0.7449\n",
            "36/36 [==============================] - 0s 10ms/step - loss: 0.7675 - accuracy: 0.5625\n",
            "Epoch 1/30\n",
            "2184/2184 - 50s - loss: 0.5699 - accuracy: 0.7426 - val_loss: 0.5653 - val_accuracy: 0.7459 - lr: 1.0000e-04\n",
            "Epoch 2/30\n",
            "2184/2184 - 50s - loss: 0.5557 - accuracy: 0.7425 - val_loss: 0.5618 - val_accuracy: 0.7459 - lr: 1.0000e-04\n",
            "Epoch 3/30\n",
            "2184/2184 - 49s - loss: 0.5527 - accuracy: 0.7425 - val_loss: 0.5630 - val_accuracy: 0.7454 - lr: 1.0000e-04\n",
            "Epoch 4/30\n",
            "2184/2184 - 49s - loss: 0.5513 - accuracy: 0.7425 - val_loss: 0.5610 - val_accuracy: 0.7449 - lr: 1.0000e-04\n",
            "Epoch 5/30\n",
            "2184/2184 - 49s - loss: 0.5502 - accuracy: 0.7423 - val_loss: 0.5589 - val_accuracy: 0.7459 - lr: 1.0000e-04\n",
            "Epoch 6/30\n",
            "2184/2184 - 49s - loss: 0.5497 - accuracy: 0.7425 - val_loss: 0.5590 - val_accuracy: 0.7459 - lr: 1.0000e-04\n",
            "Epoch 7/30\n",
            "2184/2184 - 49s - loss: 0.5486 - accuracy: 0.7428 - val_loss: 0.5606 - val_accuracy: 0.7459 - lr: 1.0000e-04\n",
            "Epoch 8/30\n",
            "2184/2184 - 48s - loss: 0.5482 - accuracy: 0.7426 - val_loss: 0.5567 - val_accuracy: 0.7459 - lr: 1.0000e-04\n",
            "Epoch 9/30\n",
            "2184/2184 - 49s - loss: 0.5478 - accuracy: 0.7431 - val_loss: 0.5608 - val_accuracy: 0.7449 - lr: 1.0000e-04\n",
            "Epoch 10/30\n",
            "2184/2184 - 48s - loss: 0.5469 - accuracy: 0.7432 - val_loss: 0.5578 - val_accuracy: 0.7464 - lr: 1.0000e-04\n",
            "Epoch 11/30\n",
            "2184/2184 - 49s - loss: 0.5469 - accuracy: 0.7434 - val_loss: 0.5554 - val_accuracy: 0.7469 - lr: 1.0000e-04\n",
            "Epoch 12/30\n",
            "2184/2184 - 49s - loss: 0.5462 - accuracy: 0.7435 - val_loss: 0.5564 - val_accuracy: 0.7454 - lr: 1.0000e-04\n",
            "Epoch 13/30\n",
            "2184/2184 - 48s - loss: 0.5461 - accuracy: 0.7436 - val_loss: 0.5593 - val_accuracy: 0.7469 - lr: 1.0000e-04\n",
            "Epoch 14/30\n",
            "2184/2184 - 48s - loss: 0.5460 - accuracy: 0.7432 - val_loss: 0.5552 - val_accuracy: 0.7464 - lr: 1.0000e-04\n",
            "Epoch 15/30\n",
            "2184/2184 - 48s - loss: 0.5460 - accuracy: 0.7433 - val_loss: 0.5547 - val_accuracy: 0.7464 - lr: 1.0000e-04\n",
            "Epoch 16/30\n",
            "2184/2184 - 48s - loss: 0.5454 - accuracy: 0.7436 - val_loss: 0.5588 - val_accuracy: 0.7459 - lr: 1.0000e-04\n",
            "Epoch 17/30\n",
            "2184/2184 - 49s - loss: 0.5454 - accuracy: 0.7439 - val_loss: 0.5582 - val_accuracy: 0.7459 - lr: 1.0000e-04\n",
            "Epoch 18/30\n",
            "\n",
            "Epoch 00018: ReduceLROnPlateau reducing learning rate to 3.9999998989515007e-05.\n",
            "2184/2184 - 49s - loss: 0.5451 - accuracy: 0.7445 - val_loss: 0.5546 - val_accuracy: 0.7439 - lr: 1.0000e-04\n",
            "Epoch 19/30\n",
            "2184/2184 - 48s - loss: 0.5439 - accuracy: 0.7441 - val_loss: 0.5581 - val_accuracy: 0.7469 - lr: 4.0000e-05\n",
            "Epoch 20/30\n",
            "2184/2184 - 48s - loss: 0.5435 - accuracy: 0.7444 - val_loss: 0.5555 - val_accuracy: 0.7480 - lr: 4.0000e-05\n",
            "Epoch 21/30\n",
            "\n",
            "Epoch 00021: ReduceLROnPlateau reducing learning rate to 1.5999999595806004e-05.\n",
            "2184/2184 - 48s - loss: 0.5436 - accuracy: 0.7440 - val_loss: 0.5556 - val_accuracy: 0.7469 - lr: 4.0000e-05\n",
            "Epoch 22/30\n",
            "2184/2184 - 48s - loss: 0.5429 - accuracy: 0.7440 - val_loss: 0.5520 - val_accuracy: 0.7480 - lr: 1.6000e-05\n",
            "Epoch 23/30\n",
            "2184/2184 - 48s - loss: 0.5427 - accuracy: 0.7444 - val_loss: 0.5514 - val_accuracy: 0.7480 - lr: 1.6000e-05\n",
            "Epoch 24/30\n",
            "2184/2184 - 48s - loss: 0.5426 - accuracy: 0.7442 - val_loss: 0.5514 - val_accuracy: 0.7474 - lr: 1.6000e-05\n",
            "Epoch 25/30\n",
            "2184/2184 - 48s - loss: 0.5425 - accuracy: 0.7444 - val_loss: 0.5517 - val_accuracy: 0.7439 - lr: 1.6000e-05\n",
            "Epoch 26/30\n",
            "\n",
            "Epoch 00026: ReduceLROnPlateau reducing learning rate to 6.399999983841554e-06.\n",
            "2184/2184 - 48s - loss: 0.5425 - accuracy: 0.7443 - val_loss: 0.5519 - val_accuracy: 0.7480 - lr: 1.6000e-05\n",
            "Epoch 27/30\n",
            "2184/2184 - 48s - loss: 0.5422 - accuracy: 0.7444 - val_loss: 0.5511 - val_accuracy: 0.7490 - lr: 6.4000e-06\n",
            "Epoch 28/30\n",
            "2184/2184 - 48s - loss: 0.5422 - accuracy: 0.7446 - val_loss: 0.5512 - val_accuracy: 0.7495 - lr: 6.4000e-06\n",
            "Epoch 29/30\n",
            "2184/2184 - 48s - loss: 0.5421 - accuracy: 0.7446 - val_loss: 0.5509 - val_accuracy: 0.7485 - lr: 6.4000e-06\n",
            "Epoch 30/30\n",
            "2184/2184 - 49s - loss: 0.5422 - accuracy: 0.7447 - val_loss: 0.5519 - val_accuracy: 0.7474 - lr: 6.4000e-06\n",
            "61/61 [==============================] - 1s 10ms/step - loss: 0.5399 - accuracy: 0.7474\n",
            "61/61 [==============================] - 1s 10ms/step - loss: 0.5478 - accuracy: 0.7454\n",
            "Epoch 1/30\n",
            "2184/2184 - 48s - loss: 0.5709 - accuracy: 0.7423 - val_loss: 0.5680 - val_accuracy: 0.7459 - lr: 1.0000e-04\n",
            "Epoch 2/30\n",
            "2184/2184 - 49s - loss: 0.5553 - accuracy: 0.7423 - val_loss: 0.5656 - val_accuracy: 0.7444 - lr: 1.0000e-04\n",
            "Epoch 3/30\n",
            "2184/2184 - 49s - loss: 0.5534 - accuracy: 0.7424 - val_loss: 0.5618 - val_accuracy: 0.7459 - lr: 1.0000e-04\n",
            "Epoch 4/30\n",
            "2184/2184 - 49s - loss: 0.5512 - accuracy: 0.7425 - val_loss: 0.5644 - val_accuracy: 0.7454 - lr: 1.0000e-04\n",
            "Epoch 5/30\n",
            "2184/2184 - 49s - loss: 0.5505 - accuracy: 0.7425 - val_loss: 0.5595 - val_accuracy: 0.7454 - lr: 1.0000e-04\n",
            "Epoch 6/30\n",
            "2184/2184 - 49s - loss: 0.5496 - accuracy: 0.7424 - val_loss: 0.5614 - val_accuracy: 0.7459 - lr: 1.0000e-04\n",
            "Epoch 7/30\n",
            "2184/2184 - 49s - loss: 0.5489 - accuracy: 0.7428 - val_loss: 0.5643 - val_accuracy: 0.7413 - lr: 1.0000e-04\n",
            "Epoch 8/30\n",
            "\n",
            "Epoch 00008: ReduceLROnPlateau reducing learning rate to 3.9999998989515007e-05.\n",
            "2184/2184 - 49s - loss: 0.5482 - accuracy: 0.7436 - val_loss: 0.5649 - val_accuracy: 0.7449 - lr: 1.0000e-04\n",
            "Epoch 9/30\n",
            "2184/2184 - 49s - loss: 0.5465 - accuracy: 0.7433 - val_loss: 0.5600 - val_accuracy: 0.7454 - lr: 4.0000e-05\n",
            "Epoch 10/30\n",
            "2184/2184 - 49s - loss: 0.5462 - accuracy: 0.7434 - val_loss: 0.5576 - val_accuracy: 0.7428 - lr: 4.0000e-05\n",
            "Epoch 11/30\n",
            "2184/2184 - 49s - loss: 0.5460 - accuracy: 0.7432 - val_loss: 0.5579 - val_accuracy: 0.7449 - lr: 4.0000e-05\n",
            "Epoch 12/30\n",
            "2184/2184 - 49s - loss: 0.5455 - accuracy: 0.7439 - val_loss: 0.5633 - val_accuracy: 0.7449 - lr: 4.0000e-05\n",
            "Epoch 13/30\n",
            "\n",
            "Epoch 00013: ReduceLROnPlateau reducing learning rate to 1.5999999595806004e-05.\n",
            "2184/2184 - 48s - loss: 0.5453 - accuracy: 0.7435 - val_loss: 0.5606 - val_accuracy: 0.7454 - lr: 4.0000e-05\n",
            "Epoch 14/30\n",
            "2184/2184 - 49s - loss: 0.5448 - accuracy: 0.7440 - val_loss: 0.5578 - val_accuracy: 0.7439 - lr: 1.6000e-05\n",
            "Epoch 15/30\n",
            "2184/2184 - 48s - loss: 0.5447 - accuracy: 0.7439 - val_loss: 0.5603 - val_accuracy: 0.7449 - lr: 1.6000e-05\n",
            "Epoch 16/30\n",
            "2184/2184 - 48s - loss: 0.5446 - accuracy: 0.7442 - val_loss: 0.5561 - val_accuracy: 0.7444 - lr: 1.6000e-05\n",
            "Epoch 17/30\n",
            "2184/2184 - 49s - loss: 0.5445 - accuracy: 0.7440 - val_loss: 0.5594 - val_accuracy: 0.7433 - lr: 1.6000e-05\n",
            "Epoch 18/30\n",
            "2184/2184 - 49s - loss: 0.5443 - accuracy: 0.7438 - val_loss: 0.5582 - val_accuracy: 0.7433 - lr: 1.6000e-05\n",
            "Epoch 19/30\n",
            "\n",
            "Epoch 00019: ReduceLROnPlateau reducing learning rate to 6.399999983841554e-06.\n",
            "2184/2184 - 48s - loss: 0.5443 - accuracy: 0.7438 - val_loss: 0.5586 - val_accuracy: 0.7439 - lr: 1.6000e-05\n",
            "Epoch 20/30\n",
            "2184/2184 - 48s - loss: 0.5439 - accuracy: 0.7441 - val_loss: 0.5592 - val_accuracy: 0.7444 - lr: 6.4000e-06\n",
            "Epoch 21/30\n",
            "2184/2184 - 48s - loss: 0.5438 - accuracy: 0.7440 - val_loss: 0.5581 - val_accuracy: 0.7433 - lr: 6.4000e-06\n",
            "Epoch 22/30\n",
            "\n",
            "Epoch 00022: ReduceLROnPlateau reducing learning rate to 2.5600000299164097e-06.\n",
            "2184/2184 - 48s - loss: 0.5439 - accuracy: 0.7440 - val_loss: 0.5577 - val_accuracy: 0.7439 - lr: 6.4000e-06\n",
            "Epoch 23/30\n",
            "2184/2184 - 48s - loss: 0.5437 - accuracy: 0.7442 - val_loss: 0.5580 - val_accuracy: 0.7449 - lr: 2.5600e-06\n",
            "Epoch 24/30\n",
            "2184/2184 - 49s - loss: 0.5437 - accuracy: 0.7442 - val_loss: 0.5580 - val_accuracy: 0.7449 - lr: 2.5600e-06\n",
            "Epoch 25/30\n",
            "\n",
            "Epoch 00025: ReduceLROnPlateau reducing learning rate to 1.0239999937766699e-06.\n",
            "2184/2184 - 48s - loss: 0.5436 - accuracy: 0.7442 - val_loss: 0.5582 - val_accuracy: 0.7433 - lr: 2.5600e-06\n",
            "Epoch 26/30\n",
            "2184/2184 - 48s - loss: 0.5436 - accuracy: 0.7442 - val_loss: 0.5581 - val_accuracy: 0.7428 - lr: 1.0240e-06\n",
            "Epoch 27/30\n",
            "2184/2184 - 48s - loss: 0.5436 - accuracy: 0.7442 - val_loss: 0.5581 - val_accuracy: 0.7444 - lr: 1.0240e-06\n",
            "Epoch 28/30\n",
            "\n",
            "Epoch 00028: ReduceLROnPlateau reducing learning rate to 1e-06.\n",
            "2184/2184 - 48s - loss: 0.5436 - accuracy: 0.7442 - val_loss: 0.5581 - val_accuracy: 0.7439 - lr: 1.0240e-06\n",
            "Epoch 29/30\n",
            "2184/2184 - 48s - loss: 0.5436 - accuracy: 0.7442 - val_loss: 0.5581 - val_accuracy: 0.7428 - lr: 1.0000e-06\n",
            "Epoch 30/30\n",
            "2184/2184 - 48s - loss: 0.5435 - accuracy: 0.7442 - val_loss: 0.5582 - val_accuracy: 0.7433 - lr: 1.0000e-06\n",
            "61/61 [==============================] - 1s 9ms/step - loss: 0.5445 - accuracy: 0.7433\n",
            "61/61 [==============================] - 1s 10ms/step - loss: 0.5346 - accuracy: 0.7428\n"
          ],
          "name": "stdout"
        }
      ]
    },
    {
      "cell_type": "code",
      "metadata": {
        "id": "WMNic5ZpwybF",
        "colab_type": "code",
        "colab": {}
      },
      "source": [
        "# import gc\n",
        "# del model\n",
        "# tensorflow.keras.backend.clear_session()\n",
        "# gc.collect()\n"
      ],
      "execution_count": 0,
      "outputs": []
    },
    {
      "cell_type": "code",
      "metadata": {
        "id": "oOYqKg5MpCCu",
        "colab_type": "code",
        "colab": {}
      },
      "source": [
        "np.array(test_accuracy).mean()"
      ],
      "execution_count": 0,
      "outputs": []
    },
    {
      "cell_type": "code",
      "metadata": {
        "id": "-2xKXojR7A4Y",
        "colab_type": "code",
        "colab": {}
      },
      "source": [
        "np.array(val_accuracy).mean()"
      ],
      "execution_count": 0,
      "outputs": []
    },
    {
      "cell_type": "code",
      "metadata": {
        "id": "o4e7cyBM7DAl",
        "colab_type": "code",
        "colab": {}
      },
      "source": [
        ""
      ],
      "execution_count": 0,
      "outputs": []
    }
  ]
}